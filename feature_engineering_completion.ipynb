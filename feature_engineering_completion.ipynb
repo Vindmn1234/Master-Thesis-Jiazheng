{
  "cells": [
    {
      "cell_type": "code",
      "execution_count": 1,
      "metadata": {
        "tags": [],
        "id": "esD_kdTAU6bQ"
      },
      "outputs": [
        {
          "output_type": "stream",
          "name": "stderr",
          "text": "/Users/jiazhengli/Library/Python/3.9/lib/python/site-packages/tqdm/auto.py:21: TqdmWarning: IProgress not found. Please update jupyter and ipywidgets. See https://ipywidgets.readthedocs.io/en/stable/user_install.html\n  from .autonotebook import tqdm as notebook_tqdm\n\nA module that was compiled using NumPy 1.x cannot be run in\nNumPy 2.0.2 as it may crash. To support both 1.x and 2.x\nversions of NumPy, modules must be compiled with NumPy 2.0.\nSome module may need to rebuild instead e.g. with 'pybind11>=2.12'.\n\nIf you are a user of the module, the easiest solution will be to\ndowngrade to 'numpy<2' or try to upgrade the affected module.\nWe expect that some modules will need time to support NumPy 2.\n\nTraceback (most recent call last):  File \"/Users/jiazhengli/.vscode/extensions/ms-python.python-2020.8.109390/pythonFiles/pyvsc-run-isolated.py\", line 26, in <module>\n    runpy.run_module(module, run_name=\"__main__\", alter_sys=True)\n  File \"/Library/Frameworks/Python.framework/Versions/3.9/lib/python3.9/runpy.py\", line 210, in run_module\n    return _run_module_code(code, init_globals, run_name, mod_spec)\n  File \"/Library/Frameworks/Python.framework/Versions/3.9/lib/python3.9/runpy.py\", line 97, in _run_module_code\n    _run_code(code, mod_globals, init_globals,\n  File \"/Library/Frameworks/Python.framework/Versions/3.9/lib/python3.9/runpy.py\", line 87, in _run_code\n    exec(code, run_globals)\n  File \"/Users/jiazhengli/Library/Python/3.9/lib/python/site-packages/ipykernel_launcher.py\", line 18, in <module>\n    app.launch_new_instance()\n  File \"/Users/jiazhengli/Library/Python/3.9/lib/python/site-packages/traitlets/config/application.py\", line 1075, in launch_instance\n    app.start()\n  File \"/Users/jiazhengli/Library/Python/3.9/lib/python/site-packages/ipykernel/kernelapp.py\", line 739, in start\n    self.io_loop.start()\n  File \"/Users/jiazhengli/Library/Python/3.9/lib/python/site-packages/tornado/platform/asyncio.py\", line 205, in start\n    self.asyncio_loop.run_forever()\n  File \"/Library/Frameworks/Python.framework/Versions/3.9/lib/python3.9/asyncio/base_events.py\", line 596, in run_forever\n    self._run_once()\n  File \"/Library/Frameworks/Python.framework/Versions/3.9/lib/python3.9/asyncio/base_events.py\", line 1890, in _run_once\n    handle._run()\n  File \"/Library/Frameworks/Python.framework/Versions/3.9/lib/python3.9/asyncio/events.py\", line 80, in _run\n    self._context.run(self._callback, *self._args)\n  File \"/Users/jiazhengli/Library/Python/3.9/lib/python/site-packages/ipykernel/kernelbase.py\", line 545, in dispatch_queue\n    await self.process_one()\n  File \"/Users/jiazhengli/Library/Python/3.9/lib/python/site-packages/ipykernel/kernelbase.py\", line 534, in process_one\n    await dispatch(*args)\n  File \"/Users/jiazhengli/Library/Python/3.9/lib/python/site-packages/ipykernel/kernelbase.py\", line 437, in dispatch_shell\n    await result\n  File \"/Users/jiazhengli/Library/Python/3.9/lib/python/site-packages/ipykernel/ipkernel.py\", line 362, in execute_request\n    await super().execute_request(stream, ident, parent)\n  File \"/Users/jiazhengli/Library/Python/3.9/lib/python/site-packages/ipykernel/kernelbase.py\", line 778, in execute_request\n    reply_content = await reply_content\n  File \"/Users/jiazhengli/Library/Python/3.9/lib/python/site-packages/ipykernel/ipkernel.py\", line 449, in do_execute\n    res = shell.run_cell(\n  File \"/Users/jiazhengli/Library/Python/3.9/lib/python/site-packages/ipykernel/zmqshell.py\", line 549, in run_cell\n    return super().run_cell(*args, **kwargs)\n  File \"/Users/jiazhengli/Library/Python/3.9/lib/python/site-packages/IPython/core/interactiveshell.py\", line 3048, in run_cell\n    result = self._run_cell(\n  File \"/Users/jiazhengli/Library/Python/3.9/lib/python/site-packages/IPython/core/interactiveshell.py\", line 3103, in _run_cell\n    result = runner(coro)\n  File \"/Users/jiazhengli/Library/Python/3.9/lib/python/site-packages/IPython/core/async_helpers.py\", line 129, in _pseudo_sync_runner\n    coro.send(None)\n  File \"/Users/jiazhengli/Library/Python/3.9/lib/python/site-packages/IPython/core/interactiveshell.py\", line 3308, in run_cell_async\n    has_raised = await self.run_ast_nodes(code_ast.body, cell_name,\n  File \"/Users/jiazhengli/Library/Python/3.9/lib/python/site-packages/IPython/core/interactiveshell.py\", line 3490, in run_ast_nodes\n    if await self.run_code(code, result, async_=asy):\n  File \"/Users/jiazhengli/Library/Python/3.9/lib/python/site-packages/IPython/core/interactiveshell.py\", line 3550, in run_code\n    exec(code_obj, self.user_global_ns, self.user_ns)\n  File \"/var/folders/lr/n1nc31vx3sz7dt4y6jfw_21h0000gr/T/ipykernel_28577/1358413422.py\", line 12, in <module>\n    from transformers import AutoTokenizer, AutoModel\n  File \"/Users/jiazhengli/Library/Python/3.9/lib/python/site-packages/transformers/__init__.py\", line 26, in <module>\n    from . import dependency_versions_check\n  File \"/Users/jiazhengli/Library/Python/3.9/lib/python/site-packages/transformers/dependency_versions_check.py\", line 16, in <module>\n    from .utils.versions import require_version, require_version_core\n  File \"/Users/jiazhengli/Library/Python/3.9/lib/python/site-packages/transformers/utils/__init__.py\", line 27, in <module>\n    from .chat_template_utils import DocstringParsingException, TypeHintParsingException, get_json_schema\n  File \"/Users/jiazhengli/Library/Python/3.9/lib/python/site-packages/transformers/utils/chat_template_utils.py\", line 40, in <module>\n    from torch import Tensor\n  File \"/Users/jiazhengli/Library/Python/3.9/lib/python/site-packages/torch/__init__.py\", line 1477, in <module>\n    from .functional import *  # noqa: F403\n  File \"/Users/jiazhengli/Library/Python/3.9/lib/python/site-packages/torch/functional.py\", line 9, in <module>\n    import torch.nn.functional as F\n  File \"/Users/jiazhengli/Library/Python/3.9/lib/python/site-packages/torch/nn/__init__.py\", line 1, in <module>\n    from .modules import *  # noqa: F403\n  File \"/Users/jiazhengli/Library/Python/3.9/lib/python/site-packages/torch/nn/modules/__init__.py\", line 35, in <module>\n    from .transformer import TransformerEncoder, TransformerDecoder, \\\n  File \"/Users/jiazhengli/Library/Python/3.9/lib/python/site-packages/torch/nn/modules/transformer.py\", line 20, in <module>\n    device: torch.device = torch.device(torch._C._get_default_device()),  # torch.device('cpu'),\n/Users/jiazhengli/Library/Python/3.9/lib/python/site-packages/torch/nn/modules/transformer.py:20: UserWarning: Failed to initialize NumPy: _ARRAY_API not found (Triggered internally at /Users/runner/work/pytorch/pytorch/pytorch/torch/csrc/utils/tensor_numpy.cpp:84.)\n  device: torch.device = torch.device(torch._C._get_default_device()),  # torch.device('cpu'),\n"
        }
      ],
      "source": [
        "import pandas as pd\n",
        "import requests\n",
        "# from bs4 import BeautifulSoup\n",
        "import matplotlib.pyplot as plt\n",
        "import urllib.parse\n",
        "import re\n",
        "import numpy as np\n",
        "import seaborn as sns\n",
        "import ast\n",
        "from wordcloud import WordCloud, STOPWORDS\n",
        "import sklearn\n",
        "from transformers import AutoTokenizer, AutoModel\n",
        "import torch\n",
        "from sklearn.decomposition import PCA\n",
        "import ast"
      ]
    },
    {
      "cell_type": "code",
      "source": [
        "from google.colab import drive\n",
        "drive.mount('/content/drive')"
      ],
      "metadata": {
        "colab": {
          "base_uri": "https://localhost:8080/"
        },
        "id": "NPerXzw_VHrc",
        "outputId": "14e5c809-c8fc-4a36-f605-7308e4f57a7c"
      },
      "execution_count": 3,
      "outputs": [
        {
          "output_type": "stream",
          "name": "stdout",
          "text": [
            "Mounted at /content/drive\n"
          ]
        }
      ]
    },
    {
      "cell_type": "code",
      "execution_count": 11,
      "metadata": {
        "tags": [],
        "colab": {
          "base_uri": "https://localhost:8080/",
          "height": 355
        },
        "id": "O5VpZVJWU6bS",
        "outputId": "5c2160fe-c7b5-453e-e3c5-1a284ff0ef3c"
      },
      "outputs": [
        {
          "output_type": "stream",
          "name": "stdout",
          "text": "(399399, 156)\n"
        },
        {
          "output_type": "execute_result",
          "data": {
            "text/plain": "   hasResults protocolSection.identificationModule.nctId  \\\n0       False                                NCT05353218   \n1       False                                NCT05713162   \n2       False                                NCT05143775   \n3       False                                NCT05988710   \n4       False                                NCT01707277   \n\n  protocolSection.identificationModule.orgStudyIdInfo.id  \\\n0                                           2021/923       \n1                                          PIC-04-17       \n2                                     KY 2020-099-01       \n3                                             222204       \n4                                                EMI       \n\n  protocolSection.identificationModule.organization.fullName  \\\n0                                Istanbul University           \n1                          Fundació Sant Joan de Déu           \n2                    Beijing Neurosurgical Institute           \n3               Vanderbilt University Medical Center           \n4  Fundación para la Investigación del Hospital C...           \n\n  protocolSection.identificationModule.organization.class  \\\n0                                              OTHER        \n1                                              OTHER        \n2                                              OTHER        \n3                                              OTHER        \n4                                              OTHER        \n\n     protocolSection.identificationModule.briefTitle  \\\n0  Ultrasound-Guided Intermediate Versus Deep Cer...   \n1  Evaluation of the Effect of a Social Skills Pr...   \n2  Strategic Intervention on Preserving Language ...   \n3  Low-dose Buccal Buprenorphine: Relative Abuse ...   \n4  The Effects of Inspiratory Muscle Training in ...   \n\n  protocolSection.identificationModule.officialTitle  \\\n0  Efficacy of Ultrasound-Guided Intermediate Ver...   \n1  Evaluation of the Effectiveness of a Social Sk...   \n2  Strategic Intervention on Preserving Language ...   \n3  Low-dose Buccal Buprenorphine: Relative Abuse ...   \n4  The Effects of Inspiratory Muscle Training in ...   \n\n  protocolSection.statusModule.statusVerifiedDate  \\\n0                                         2023-04   \n1                                         2022-03   \n2                                         2021-12   \n3                                         2024-12   \n4                                         2016-02   \n\n  protocolSection.statusModule.overallStatus  \\\n0                                  COMPLETED   \n1                                  COMPLETED   \n2                                    UNKNOWN   \n3                                 RECRUITING   \n4                                  COMPLETED   \n\n  protocolSection.statusModule.expandedAccessInfo.hasExpandedAccess  ...  \\\n0                                              False                 ...   \n1                                              False                 ...   \n2                                              False                 ...   \n3                                              False                 ...   \n4                                              False                 ...   \n\n  protocolSection.oversightModule.isUnapprovedDevice  \\\n0                                               None   \n1                                               None   \n2                                               None   \n3                                               None   \n4                                               None   \n\n  protocolSection.statusModule.delayedPosting  \\\n0                                        None   \n1                                        None   \n2                                        None   \n3                                        None   \n4                                        None   \n\n  resultsSection.moreInfoModule.pointOfContact.phoneExt  \\\n0                                               None      \n1                                               None      \n2                                               None      \n3                                               None      \n4                                               None      \n\n  protocolSection.designModule.nPtrsToThisExpAccNctId  \\\n0                                                NaN    \n1                                                NaN    \n2                                                NaN    \n3                                                NaN    \n4                                                NaN    \n\n  protocolSection.designModule.expandedAccessTypes.individual  \\\n0                                               None            \n1                                               None            \n2                                               None            \n3                                               None            \n4                                               None            \n\n  protocolSection.oversightModule.fdaaa801Violation  \\\n0                                              None   \n1                                              None   \n2                                              None   \n3                                              None   \n4                                              None   \n\n  annotationSection.annotationModule.violationAnnotation.violationEvents  \\\n0                                               None                       \n1                                               None                       \n2                                               None                       \n3                                               None                       \n4                                               None                       \n\n  protocolSection.designModule.expandedAccessTypes.intermediate  \\\n0                                               None              \n1                                               None              \n2                                               None              \n3                                               None              \n4                                               None              \n\n  protocolSection.designModule.expandedAccessTypes.treatment  \\\n0                                               None           \n1                                               None           \n2                                               None           \n3                                               None           \n4                                               None           \n\n  protocolSection.oversightModule.isPpsd  \n0                                   None  \n1                                   None  \n2                                   None  \n3                                   None  \n4                                   None  \n\n[5 rows x 156 columns]",
            "text/html": "<div>\n<style scoped>\n    .dataframe tbody tr th:only-of-type {\n        vertical-align: middle;\n    }\n\n    .dataframe tbody tr th {\n        vertical-align: top;\n    }\n\n    .dataframe thead th {\n        text-align: right;\n    }\n</style>\n<table border=\"1\" class=\"dataframe\">\n  <thead>\n    <tr style=\"text-align: right;\">\n      <th></th>\n      <th>hasResults</th>\n      <th>protocolSection.identificationModule.nctId</th>\n      <th>protocolSection.identificationModule.orgStudyIdInfo.id</th>\n      <th>protocolSection.identificationModule.organization.fullName</th>\n      <th>protocolSection.identificationModule.organization.class</th>\n      <th>protocolSection.identificationModule.briefTitle</th>\n      <th>protocolSection.identificationModule.officialTitle</th>\n      <th>protocolSection.statusModule.statusVerifiedDate</th>\n      <th>protocolSection.statusModule.overallStatus</th>\n      <th>protocolSection.statusModule.expandedAccessInfo.hasExpandedAccess</th>\n      <th>...</th>\n      <th>protocolSection.oversightModule.isUnapprovedDevice</th>\n      <th>protocolSection.statusModule.delayedPosting</th>\n      <th>resultsSection.moreInfoModule.pointOfContact.phoneExt</th>\n      <th>protocolSection.designModule.nPtrsToThisExpAccNctId</th>\n      <th>protocolSection.designModule.expandedAccessTypes.individual</th>\n      <th>protocolSection.oversightModule.fdaaa801Violation</th>\n      <th>annotationSection.annotationModule.violationAnnotation.violationEvents</th>\n      <th>protocolSection.designModule.expandedAccessTypes.intermediate</th>\n      <th>protocolSection.designModule.expandedAccessTypes.treatment</th>\n      <th>protocolSection.oversightModule.isPpsd</th>\n    </tr>\n  </thead>\n  <tbody>\n    <tr>\n      <th>0</th>\n      <td>False</td>\n      <td>NCT05353218</td>\n      <td>2021/923</td>\n      <td>Istanbul University</td>\n      <td>OTHER</td>\n      <td>Ultrasound-Guided Intermediate Versus Deep Cer...</td>\n      <td>Efficacy of Ultrasound-Guided Intermediate Ver...</td>\n      <td>2023-04</td>\n      <td>COMPLETED</td>\n      <td>False</td>\n      <td>...</td>\n      <td>None</td>\n      <td>None</td>\n      <td>None</td>\n      <td>NaN</td>\n      <td>None</td>\n      <td>None</td>\n      <td>None</td>\n      <td>None</td>\n      <td>None</td>\n      <td>None</td>\n    </tr>\n    <tr>\n      <th>1</th>\n      <td>False</td>\n      <td>NCT05713162</td>\n      <td>PIC-04-17</td>\n      <td>Fundació Sant Joan de Déu</td>\n      <td>OTHER</td>\n      <td>Evaluation of the Effect of a Social Skills Pr...</td>\n      <td>Evaluation of the Effectiveness of a Social Sk...</td>\n      <td>2022-03</td>\n      <td>COMPLETED</td>\n      <td>False</td>\n      <td>...</td>\n      <td>None</td>\n      <td>None</td>\n      <td>None</td>\n      <td>NaN</td>\n      <td>None</td>\n      <td>None</td>\n      <td>None</td>\n      <td>None</td>\n      <td>None</td>\n      <td>None</td>\n    </tr>\n    <tr>\n      <th>2</th>\n      <td>False</td>\n      <td>NCT05143775</td>\n      <td>KY 2020-099-01</td>\n      <td>Beijing Neurosurgical Institute</td>\n      <td>OTHER</td>\n      <td>Strategic Intervention on Preserving Language ...</td>\n      <td>Strategic Intervention on Preserving Language ...</td>\n      <td>2021-12</td>\n      <td>UNKNOWN</td>\n      <td>False</td>\n      <td>...</td>\n      <td>None</td>\n      <td>None</td>\n      <td>None</td>\n      <td>NaN</td>\n      <td>None</td>\n      <td>None</td>\n      <td>None</td>\n      <td>None</td>\n      <td>None</td>\n      <td>None</td>\n    </tr>\n    <tr>\n      <th>3</th>\n      <td>False</td>\n      <td>NCT05988710</td>\n      <td>222204</td>\n      <td>Vanderbilt University Medical Center</td>\n      <td>OTHER</td>\n      <td>Low-dose Buccal Buprenorphine: Relative Abuse ...</td>\n      <td>Low-dose Buccal Buprenorphine: Relative Abuse ...</td>\n      <td>2024-12</td>\n      <td>RECRUITING</td>\n      <td>False</td>\n      <td>...</td>\n      <td>None</td>\n      <td>None</td>\n      <td>None</td>\n      <td>NaN</td>\n      <td>None</td>\n      <td>None</td>\n      <td>None</td>\n      <td>None</td>\n      <td>None</td>\n      <td>None</td>\n    </tr>\n    <tr>\n      <th>4</th>\n      <td>False</td>\n      <td>NCT01707277</td>\n      <td>EMI</td>\n      <td>Fundación para la Investigación del Hospital C...</td>\n      <td>OTHER</td>\n      <td>The Effects of Inspiratory Muscle Training in ...</td>\n      <td>The Effects of Inspiratory Muscle Training in ...</td>\n      <td>2016-02</td>\n      <td>COMPLETED</td>\n      <td>False</td>\n      <td>...</td>\n      <td>None</td>\n      <td>None</td>\n      <td>None</td>\n      <td>NaN</td>\n      <td>None</td>\n      <td>None</td>\n      <td>None</td>\n      <td>None</td>\n      <td>None</td>\n      <td>None</td>\n    </tr>\n  </tbody>\n</table>\n<p>5 rows × 156 columns</p>\n</div>"
          },
          "metadata": {},
          "execution_count": 11
        }
      ],
      "source": [
        "df = pd.read_parquet('/Users/jiazhengli/Desktop/project_root/clinical_trials_interventional.parquet')\n",
        "print(df.shape)\n",
        "df.head()\n",
        "\n",
        "# df = pd.read_parquet('/Users/jiazhengli/Desktop/project_root/clinical_trials_interventional.parquet', engine='pyarrow', columns=None).head(10000)\n",
        "# print(df.shape)\n",
        "# df.head()"
      ]
    },
    {
      "cell_type": "code",
      "execution_count": 3,
      "metadata": {},
      "outputs": [
        {
          "output_type": "execute_result",
          "data": {
            "text/plain": "protocolSection.statusModule.overallStatus\nCOMPLETED                  223519\nUNKNOWN                     52101\nRECRUITING                  48029\nTERMINATED                  26359\nNOT_YET_RECRUITING          17077\nACTIVE_NOT_RECRUITING       16067\nWITHDRAWN                   12236\nENROLLING_BY_INVITATION      2677\nSUSPENDED                    1334\nName: count, dtype: int64"
          },
          "metadata": {},
          "execution_count": 3
        }
      ],
      "source": [
        "df['protocolSection.statusModule.overallStatus'].value_counts()"
      ]
    },
    {
      "cell_type": "code",
      "execution_count": 12,
      "metadata": {},
      "outputs": [],
      "source": [
        "selected_statuses = [\"COMPLETED\", \"TERMINATED\", \"SUSPENDED\", \"WITHDRAWN\"]\n",
        "\n",
        "df = df[df['protocolSection.statusModule.overallStatus'].isin(selected_statuses)].reset_index(drop=True)\n",
        "# df.shape"
      ]
    },
    {
      "cell_type": "code",
      "execution_count": 13,
      "metadata": {},
      "outputs": [],
      "source": [
        "df.columns = df.columns.str.split('.', n=1).str[1].str.replace('.', '_', regex=False)"
      ]
    },
    {
      "cell_type": "code",
      "execution_count": 5,
      "metadata": {
        "tags": []
      },
      "outputs": [
        {
          "output_type": "stream",
          "name": "stdout",
          "text": "(263448, 24)\n"
        },
        {
          "output_type": "execute_result",
          "data": {
            "text/plain": "  identificationModule_nctId statusModule_overallStatus designModule_phases  \\\n0                NCT05353218                  COMPLETED                [NA]   \n1                NCT05713162                  COMPLETED                [NA]   \n2                NCT01707277                  COMPLETED                [NA]   \n3                NCT02953301                  COMPLETED            [PHASE2]   \n4                NCT05921591                  COMPLETED            [PHASE1]   \n\n  identificationModule_organization_class oversightModule_oversightHasDmc  \\\n0                                   OTHER                           False   \n1                                   OTHER                            None   \n2                                   OTHER                           False   \n3                                INDUSTRY                            True   \n4                                INDUSTRY                           False   \n\n  oversightModule_isFdaRegulatedDrug oversightModule_isFdaRegulatedDevice  \\\n0                              False                                False   \n1                              False                                False   \n2                               None                                 None   \n3                               None                                 None   \n4                               True                                False   \n\n  designModule_designInfo_allocation  \\\n0                         RANDOMIZED   \n1                         RANDOMIZED   \n2                         RANDOMIZED   \n3                         RANDOMIZED   \n4                         RANDOMIZED   \n\n  designModule_designInfo_interventionModel  \\\n0                                  PARALLEL   \n1                                  PARALLEL   \n2                                  PARALLEL   \n3                                  PARALLEL   \n4                                SEQUENTIAL   \n\n  designModule_designInfo_primaryPurpose  ...  \\\n0                              TREATMENT  ...   \n1                              TREATMENT  ...   \n2                              TREATMENT  ...   \n3                              TREATMENT  ...   \n4                              TREATMENT  ...   \n\n  moreInfoModule_certainAgreement_restrictiveAgreement  \\\n0                                               None     \n1                                               None     \n2                                               None     \n3                                               None     \n4                                               None     \n\n  statusModule_completionDateStruct_date statusModule_startDateStruct_date  \\\n0                             2023-04-27                        2022-06-07   \n1                             2019-04-30                        2017-01-30   \n2                                2012-03                           2011-03   \n3                                2024-08                           2016-11   \n4                             2023-09-12                        2023-05-26   \n\n               eligibilityModule_eligibilityCriteria  \\\n0  Inclusion Criteria:\\n\\n* Patients scheduled fo...   \n1  Inclusion Criteria:\\n\\n* age range between 8 a...   \n2  Inclusion Criteria:\\n\\n* a) previous history o...   \n3  Main Inclusion Criteria:\\n\\n* Patients with hi...   \n4  Key Inclusion Criteria:\\n\\n* Participants must...   \n\n                   contactsLocationsModule_locations  \\\n0  [{'city': 'Istanbul', 'contacts': None, 'count...   \n1  [{'city': 'Barcelona', 'contacts': None, 'coun...   \n2  [{'city': 'Valencia', 'contacts': None, 'count...   \n3  [{'city': 'Graz', 'contacts': None, 'country':...   \n4  [{'city': 'Los Angeles', 'contacts': None, 'co...   \n\n                     conditionBrowseModule_ancestors  \\\n0                                               None   \n1  [{'id': 'D002659', 'term': 'Child Development ...   \n2  [{'id': 'D006331', 'term': 'Heart Diseases'}, ...   \n3  [{'id': 'D004194', 'term': 'Disease'}, {'id': ...   \n4                                               None   \n\n            sponsorCollaboratorsModule_collaborators  \\\n0                                               None   \n1                                               None   \n2  [{'class': 'OTHER', 'name': 'University of Val...   \n3                                               None   \n4                                               None   \n\n  interventionBrowseModule_meshes  \\\n0                            None   \n1                            None   \n2                            None   \n3                            None   \n4                            None   \n\n                      descriptionModule_briefSummary  \\\n0  Cervical plexus blocks are regional methods us...   \n1  Research evaluating effectiveness of social sk...   \n2  Previous studies have evaluated the effects of...   \n3  The purpose of this study is to determine whet...   \n4  The purpose of this clinical study is to asses...   \n\n               descriptionModule_detailedDescription  \n0  Carotid endarterectomy is a surgical method us...  \n1  Participants were recruited by psychologists a...  \n2                                               None  \n3                                               None  \n4                                               None  \n\n[5 rows x 24 columns]",
            "text/html": "<div>\n<style scoped>\n    .dataframe tbody tr th:only-of-type {\n        vertical-align: middle;\n    }\n\n    .dataframe tbody tr th {\n        vertical-align: top;\n    }\n\n    .dataframe thead th {\n        text-align: right;\n    }\n</style>\n<table border=\"1\" class=\"dataframe\">\n  <thead>\n    <tr style=\"text-align: right;\">\n      <th></th>\n      <th>identificationModule_nctId</th>\n      <th>statusModule_overallStatus</th>\n      <th>designModule_phases</th>\n      <th>identificationModule_organization_class</th>\n      <th>oversightModule_oversightHasDmc</th>\n      <th>oversightModule_isFdaRegulatedDrug</th>\n      <th>oversightModule_isFdaRegulatedDevice</th>\n      <th>designModule_designInfo_allocation</th>\n      <th>designModule_designInfo_interventionModel</th>\n      <th>designModule_designInfo_primaryPurpose</th>\n      <th>...</th>\n      <th>moreInfoModule_certainAgreement_restrictiveAgreement</th>\n      <th>statusModule_completionDateStruct_date</th>\n      <th>statusModule_startDateStruct_date</th>\n      <th>eligibilityModule_eligibilityCriteria</th>\n      <th>contactsLocationsModule_locations</th>\n      <th>conditionBrowseModule_ancestors</th>\n      <th>sponsorCollaboratorsModule_collaborators</th>\n      <th>interventionBrowseModule_meshes</th>\n      <th>descriptionModule_briefSummary</th>\n      <th>descriptionModule_detailedDescription</th>\n    </tr>\n  </thead>\n  <tbody>\n    <tr>\n      <th>0</th>\n      <td>NCT05353218</td>\n      <td>COMPLETED</td>\n      <td>[NA]</td>\n      <td>OTHER</td>\n      <td>False</td>\n      <td>False</td>\n      <td>False</td>\n      <td>RANDOMIZED</td>\n      <td>PARALLEL</td>\n      <td>TREATMENT</td>\n      <td>...</td>\n      <td>None</td>\n      <td>2023-04-27</td>\n      <td>2022-06-07</td>\n      <td>Inclusion Criteria:\\n\\n* Patients scheduled fo...</td>\n      <td>[{'city': 'Istanbul', 'contacts': None, 'count...</td>\n      <td>None</td>\n      <td>None</td>\n      <td>None</td>\n      <td>Cervical plexus blocks are regional methods us...</td>\n      <td>Carotid endarterectomy is a surgical method us...</td>\n    </tr>\n    <tr>\n      <th>1</th>\n      <td>NCT05713162</td>\n      <td>COMPLETED</td>\n      <td>[NA]</td>\n      <td>OTHER</td>\n      <td>None</td>\n      <td>False</td>\n      <td>False</td>\n      <td>RANDOMIZED</td>\n      <td>PARALLEL</td>\n      <td>TREATMENT</td>\n      <td>...</td>\n      <td>None</td>\n      <td>2019-04-30</td>\n      <td>2017-01-30</td>\n      <td>Inclusion Criteria:\\n\\n* age range between 8 a...</td>\n      <td>[{'city': 'Barcelona', 'contacts': None, 'coun...</td>\n      <td>[{'id': 'D002659', 'term': 'Child Development ...</td>\n      <td>None</td>\n      <td>None</td>\n      <td>Research evaluating effectiveness of social sk...</td>\n      <td>Participants were recruited by psychologists a...</td>\n    </tr>\n    <tr>\n      <th>2</th>\n      <td>NCT01707277</td>\n      <td>COMPLETED</td>\n      <td>[NA]</td>\n      <td>OTHER</td>\n      <td>False</td>\n      <td>None</td>\n      <td>None</td>\n      <td>RANDOMIZED</td>\n      <td>PARALLEL</td>\n      <td>TREATMENT</td>\n      <td>...</td>\n      <td>None</td>\n      <td>2012-03</td>\n      <td>2011-03</td>\n      <td>Inclusion Criteria:\\n\\n* a) previous history o...</td>\n      <td>[{'city': 'Valencia', 'contacts': None, 'count...</td>\n      <td>[{'id': 'D006331', 'term': 'Heart Diseases'}, ...</td>\n      <td>[{'class': 'OTHER', 'name': 'University of Val...</td>\n      <td>None</td>\n      <td>Previous studies have evaluated the effects of...</td>\n      <td>None</td>\n    </tr>\n    <tr>\n      <th>3</th>\n      <td>NCT02953301</td>\n      <td>COMPLETED</td>\n      <td>[PHASE2]</td>\n      <td>INDUSTRY</td>\n      <td>True</td>\n      <td>None</td>\n      <td>None</td>\n      <td>RANDOMIZED</td>\n      <td>PARALLEL</td>\n      <td>TREATMENT</td>\n      <td>...</td>\n      <td>None</td>\n      <td>2024-08</td>\n      <td>2016-11</td>\n      <td>Main Inclusion Criteria:\\n\\n* Patients with hi...</td>\n      <td>[{'city': 'Graz', 'contacts': None, 'country':...</td>\n      <td>[{'id': 'D004194', 'term': 'Disease'}, {'id': ...</td>\n      <td>None</td>\n      <td>None</td>\n      <td>The purpose of this study is to determine whet...</td>\n      <td>None</td>\n    </tr>\n    <tr>\n      <th>4</th>\n      <td>NCT05921591</td>\n      <td>COMPLETED</td>\n      <td>[PHASE1]</td>\n      <td>INDUSTRY</td>\n      <td>False</td>\n      <td>True</td>\n      <td>False</td>\n      <td>RANDOMIZED</td>\n      <td>SEQUENTIAL</td>\n      <td>TREATMENT</td>\n      <td>...</td>\n      <td>None</td>\n      <td>2023-09-12</td>\n      <td>2023-05-26</td>\n      <td>Key Inclusion Criteria:\\n\\n* Participants must...</td>\n      <td>[{'city': 'Los Angeles', 'contacts': None, 'co...</td>\n      <td>None</td>\n      <td>None</td>\n      <td>None</td>\n      <td>The purpose of this clinical study is to asses...</td>\n      <td>None</td>\n    </tr>\n  </tbody>\n</table>\n<p>5 rows × 24 columns</p>\n</div>"
          },
          "metadata": {},
          "execution_count": 5
        }
      ],
      "source": [
        "columns_to_keep = ['identificationModule_nctId', 'statusModule_overallStatus', 'designModule_phases', 'identificationModule_organization_class', 'oversightModule_oversightHasDmc', 'oversightModule_isFdaRegulatedDrug', 'oversightModule_isFdaRegulatedDevice',\n",
        "'designModule_designInfo_allocation', 'designModule_designInfo_interventionModel', 'designModule_designInfo_primaryPurpose', 'designModule_designInfo_maskingInfo_masking', 'eligibilityModule_healthyVolunteers', 'eligibilityModule_sex', 'moreInfoModule_certainAgreement_piSponsorEmployee',\n",
        "'moreInfoModule_certainAgreement_restrictiveAgreement', 'statusModule_completionDateStruct_date',\n",
        "'statusModule_startDateStruct_date', 'eligibilityModule_eligibilityCriteria', 'contactsLocationsModule_locations',\n",
        "'conditionBrowseModule_ancestors', 'sponsorCollaboratorsModule_collaborators', 'interventionBrowseModule_meshes',\n",
        "'descriptionModule_briefSummary', 'descriptionModule_detailedDescription'\n",
        "]\n",
        "\n",
        "df = df[columns_to_keep]\n",
        "print(df.shape)\n",
        "df.head()"
      ]
    },
    {
      "cell_type": "markdown",
      "metadata": {
        "id": "QyFgniUnU6bS"
      },
      "source": [
        "Encode Phase"
      ]
    },
    {
      "cell_type": "code",
      "execution_count": 6,
      "metadata": {
        "id": "vy-dNx7dU6bT",
        "outputId": "5ae898b2-e71a-42d1-ed2a-a6281494a618",
        "tags": []
      },
      "outputs": [
        {
          "output_type": "execute_result",
          "data": {
            "text/plain": "designModule_phases\n[NA]                119492\n[PHASE2]             40513\n[PHASE1]             34679\n[PHASE3]             28708\n[PHASE4]             23449\n                     ...  \n[PHASE2, PHASE3]         1\n[PHASE1, PHASE2]         1\n[PHASE2, PHASE3]         1\n[PHASE2, PHASE3]         1\n[PHASE1, PHASE2]         1\nName: count, Length: 13643, dtype: int64"
          },
          "metadata": {},
          "execution_count": 6
        }
      ],
      "source": [
        "# Rename values in the 'Phase' column\n",
        "\n",
        "# def fix_phases(phases):\n",
        "#     if pd.isna(phases):  # Handle NaN values\n",
        "#         return ['NA']\n",
        "#     if isinstance(phases, str):  # Convert string to a Python list\n",
        "#         try:\n",
        "#             phases = ast.literal_eval(phases)  # Safely parse the string\n",
        "#         except (ValueError, SyntaxError):  # Handle any malformed strings\n",
        "#             return ['NA']\n",
        "#     if isinstance(phases, list):  # Process the list\n",
        "#         return ['PHASE1' if phase == 'EARLY_PHASE1' else phase for phase in phases]\n",
        "#     return ['NA']  # Default to ['NA'] for unexpected cases\n",
        "\n",
        "# df['designModule_phases'] = df['designModule_phases'].apply(fix_phases)\n",
        "def fix_phases(phases):\n",
        "    if isinstance(phases, float) and pd.isna(phases):  # Handle NaN values\n",
        "        return ['NA']\n",
        "\n",
        "    if isinstance(phases, np.ndarray):  # Convert NumPy arrays to Python lists\n",
        "        phases = phases.tolist()\n",
        "\n",
        "    if isinstance(phases, list):  # Process lists correctly\n",
        "        return ['PHASE1' if phase == 'EARLY_PHASE1' else phase for phase in phases]\n",
        "\n",
        "    return ['NA']  # Default case\n",
        "\n",
        "# Apply function with `.loc` to avoid `SettingWithCopyWarning`\n",
        "df.loc[:, 'designModule_phases'] = df['designModule_phases']\n",
        "\n",
        "df['designModule_phases'].value_counts()"
      ]
    },
    {
      "cell_type": "code",
      "execution_count": 7,
      "metadata": {
        "tags": [],
        "id": "324uWauiU6bT",
        "outputId": "9ce89e66-1073-4fdc-d48d-cadf84baf109"
      },
      "outputs": [
        {
          "output_type": "stream",
          "name": "stdout",
          "text": "PHASE1  PHASE2  PHASE3  PHASE4  NA\n0       0       0       0       0   1\n1       0       0       0       0   1\n2       0       0       0       0   1\n3       0       1       0       0   0\n4       1       0       0       0   0\n"
        }
      ],
      "source": [
        "# Ensure the column contains only valid lists\n",
        "df['designModule_phases'] = df['designModule_phases'].apply(\n",
        "    lambda x: x.tolist() if isinstance(x, np.ndarray) else x  # Convert NumPy arrays to lists\n",
        ")\n",
        "\n",
        "# Create dummy variables for each phase\n",
        "valid_phases = ['PHASE1', 'PHASE2', 'PHASE3', 'PHASE4', 'NA']\n",
        "\n",
        "for phase in valid_phases:\n",
        "    df[phase] = df['designModule_phases'].apply(lambda x: int(phase in x) if isinstance(x, list) else 0)\n",
        "\n",
        "# Display the dummy columns\n",
        "print(df[valid_phases].head())"
      ]
    },
    {
      "cell_type": "code",
      "execution_count": 8,
      "metadata": {
        "id": "idqzmRbvU6bU"
      },
      "outputs": [],
      "source": [
        "df = df.drop(columns=['NA','designModule_phases'])"
      ]
    },
    {
      "cell_type": "code",
      "execution_count": 9,
      "metadata": {
        "id": "fNlA_ayDU6bU"
      },
      "outputs": [],
      "source": [
        "# def create_dummies(df, column_name):\n",
        "#     \"\"\"\n",
        "#     Creates dummy variables for a categorical column, handles missing values, and drops the original column and 'NA' dummy.\n",
        "\n",
        "#     Parameters:\n",
        "#         df (pd.DataFrame): The DataFrame containing the column to process.\n",
        "#         column_name (str): The name of the column to transform.\n",
        "\n",
        "#     Returns:\n",
        "#         pd.DataFrame: The DataFrame with dummy variables added and the original column removed.\n",
        "#     \"\"\"\n",
        "#     # Check for missing values and fill with 'NA'\n",
        "#     df[column_name] = df[column_name].fillna('NA')\n",
        "\n",
        "#     # Create dummy variables\n",
        "#     dummies = pd.get_dummies(df[column_name], prefix=\"\", prefix_sep=\"\")\n",
        "\n",
        "#     # Drop the 'NA' column if it exists\n",
        "#     if 'NA' in dummies.columns:\n",
        "#         dummies = dummies.drop(columns=['NA'])\n",
        "\n",
        "#     # Drop the original column\n",
        "#     df = df.drop(columns=[column_name])\n",
        "\n",
        "#     # Concatenate the dummies with the original DataFrame\n",
        "#     df = pd.concat([df, dummies], axis=1)\n",
        "\n",
        "#     return df\n",
        "def create_dummies(df, column_name):\n",
        "    \"\"\"\n",
        "    Creates dummy variables for a categorical column, handles missing values, and drops the original column and 'NA' dummy.\n",
        "    \"\"\"\n",
        "    df = df.copy()  # Avoid modifying the original DataFrame\n",
        "    df[column_name] = df[column_name].fillna('NA')\n",
        "    dummies = pd.get_dummies(df[column_name], prefix=\"\", prefix_sep=\"\")\n",
        "\n",
        "    if 'NA' in dummies.columns:\n",
        "        dummies = dummies.drop(columns='NA')\n",
        "\n",
        "    df = pd.concat([df.drop(columns=column_name), dummies], axis=1)\n",
        "    return df\n"
      ]
    },
    {
      "cell_type": "markdown",
      "metadata": {
        "id": "tIfXkRHfU6bV"
      },
      "source": [
        "Encode organization class"
      ]
    },
    {
      "cell_type": "code",
      "execution_count": 10,
      "metadata": {
        "id": "VTBe1OgYU6bV"
      },
      "outputs": [],
      "source": [
        "df = create_dummies(df, 'identificationModule_organization_class')\n",
        "df = df.rename(columns={\n",
        "    'FED': 'organization_class_FED',\n",
        "    'INDIV': 'organization_class_INDIV',\n",
        "    'INDUSTRY': 'organization_class_INDUSTRY',\n",
        "    'NETWORK': 'organization_class_NETWORK',\n",
        "    'NIH': 'organization_class_NIH',\n",
        "    'OTHER': 'organization_class_OTHER',\n",
        "    'OTHER_GOV': 'organization_class_OTHER_GOV',\n",
        "    'UNKNOWN': 'organization_class_UNKNOWN'\n",
        "})"
      ]
    },
    {
      "cell_type": "code",
      "execution_count": 11,
      "metadata": {
        "id": "0-MDDQkuU6bV"
      },
      "outputs": [],
      "source": [
        "df = create_dummies(df, 'oversightModule_oversightHasDmc')\n",
        "df = df.rename(columns={\n",
        "    'False': 'oversightHasDmc_no',\n",
        "    'True': 'oversightHasDmc_yes'\n",
        "})"
      ]
    },
    {
      "cell_type": "code",
      "execution_count": 13,
      "metadata": {
        "id": "aW-wyPgHU6bW"
      },
      "outputs": [],
      "source": [
        "df = create_dummies(df, 'oversightModule_isFdaRegulatedDrug')\n",
        "df = df.rename(columns={\n",
        "    'False': 'FdaRegulatedDrug_no',\n",
        "    'True': 'FdaRegulatedDrug_yes'\n",
        "})"
      ]
    },
    {
      "cell_type": "code",
      "execution_count": 14,
      "metadata": {
        "id": "_4_0uP7QU6bX"
      },
      "outputs": [],
      "source": [
        "df = create_dummies(df, 'oversightModule_isFdaRegulatedDevice')\n",
        "df = df.rename(columns={\n",
        "    'False': 'FdaRegulatedDevice_no',\n",
        "    'True': 'FdaRegulatedDevice_yes'\n",
        "})"
      ]
    },
    {
      "cell_type": "code",
      "execution_count": 15,
      "metadata": {
        "id": "GDXka5oKU6bX"
      },
      "outputs": [],
      "source": [
        "df = create_dummies(df, 'designModule_designInfo_allocation')\n",
        "df = df.rename(columns={\n",
        "    'NON_RANDOMIZED': 'designInfo_allocation_NON_RANDOMIZED',\n",
        "    'RANDOMIZED': 'designInfo_allocation_RANDOMIZED'\n",
        "})"
      ]
    },
    {
      "cell_type": "code",
      "execution_count": 16,
      "metadata": {
        "id": "sAqzzeXWU6bX"
      },
      "outputs": [],
      "source": [
        "df = create_dummies(df, 'designModule_designInfo_interventionModel')\n",
        "df = df.rename(columns={\n",
        "    'CROSSOVER': 'interventionModel_CROSSOVER',\n",
        "    'FACTORIAL': 'interventionModel_FACTORIAL',\n",
        "    'PARALLEL': 'interventionModel_PARALLEL',\n",
        "    'SEQUENTIAL': 'interventionModel_SEQUENTIAL',\n",
        "    'SINGLE_GROUP': 'interventionModel_SINGLE_GROUP'\n",
        "})"
      ]
    },
    {
      "cell_type": "code",
      "execution_count": 17,
      "metadata": {
        "id": "u_NK6KqbU6bY"
      },
      "outputs": [],
      "source": [
        "df = create_dummies(df, 'designModule_designInfo_primaryPurpose')\n",
        "df = df.rename(columns={\n",
        "    'BASIC_SCIENCE': 'primaryPurpose_BASIC_SCIENCE',\n",
        "    'DEVICE_FEASIBILITY': 'primaryPurpose_DEVICE_FEASIBILITY',\n",
        "    'DIAGNOSTIC': 'primaryPurpose_DIAGNOSTIC',\n",
        "    'ECT': 'primaryPurpose_ECT',\n",
        "    'HEALTH_SERVICES_RESEARCH': 'primaryPurpose_HEALTH_SERVICES_RESEARCH',\n",
        "    'OTHER': 'primaryPurpose_OTHER',\n",
        "    'PREVENTION': 'primaryPurpose_PREVENTION',\n",
        "    'SCREENING': 'primaryPurpose_SCREENING',\n",
        "    'SUPPORTIVE_CARE': 'primaryPurpose_SUPPORTIVE_CARE',\n",
        "    'TREATMENT': 'primaryPurpose_TREATMENT'\n",
        "})"
      ]
    },
    {
      "cell_type": "code",
      "execution_count": 18,
      "metadata": {
        "id": "UYutkeO0U6bY"
      },
      "outputs": [],
      "source": [
        "df = create_dummies(df, 'designModule_designInfo_maskingInfo_masking')\n",
        "df = df.rename(columns={\n",
        "    'DOUBLE': 'masking_DOUBLE',\n",
        "    'NONE': 'masking_NONE',\n",
        "    'QUADRUPLE': 'masking_QUADRUPLE',\n",
        "    'SINGLE': 'masking_SINGLE',\n",
        "    'TRIPLE': 'masking_TRIPLE'\n",
        "})"
      ]
    },
    {
      "cell_type": "code",
      "execution_count": 19,
      "metadata": {
        "id": "KhI-FVPKU6bY"
      },
      "outputs": [],
      "source": [
        "df = create_dummies(df, 'eligibilityModule_healthyVolunteers')\n",
        "df = df.rename(columns={\n",
        "    'False': 'healthyVolunteers_no',\n",
        "    'True': 'healthyVolunteers_yes'\n",
        "})"
      ]
    },
    {
      "cell_type": "code",
      "execution_count": 20,
      "metadata": {
        "id": "Ij6DEBt7U6bZ"
      },
      "outputs": [],
      "source": [
        "df = create_dummies(df, 'eligibilityModule_sex')\n",
        "df = df.rename(columns={\n",
        "    'ALL': 'sex_all',\n",
        "    'FEMALE': 'sex_female',\n",
        "    'MALE': 'sex_male'\n",
        "})"
      ]
    },
    {
      "cell_type": "code",
      "execution_count": 21,
      "metadata": {
        "id": "3BTadbPeU6bZ"
      },
      "outputs": [],
      "source": [
        "df = create_dummies(df, 'moreInfoModule_certainAgreement_piSponsorEmployee')\n",
        "df = df.rename(columns={\n",
        "    'False': 'piSponsorEmployee_no',\n",
        "    'True': 'piSponsorEmployee_yes'\n",
        "})"
      ]
    },
    {
      "cell_type": "code",
      "execution_count": 22,
      "metadata": {
        "id": "vGE5TroKU6bZ"
      },
      "outputs": [],
      "source": [
        "df = create_dummies(df, 'moreInfoModule_certainAgreement_restrictiveAgreement')\n",
        "df = df.rename(columns={\n",
        "    'False': 'restrictiveAgreement_no',\n",
        "    'True': 'restrictiveAgreement_yes'\n",
        "})"
      ]
    },
    {
      "cell_type": "code",
      "execution_count": 23,
      "metadata": {
        "id": "MLsH1pWBU6ba"
      },
      "outputs": [],
      "source": [
        "def fill_incomplete_date(date_str):\n",
        "    if pd.isna(date_str):\n",
        "        return date_str  # Leave NaN as is\n",
        "    if len(date_str) == 7:  # Format like '2004-10'\n",
        "        return date_str + '-15'  # Add '-15' for the middle of the month\n",
        "    return date_str\n",
        "\n",
        "# Clean and fill incomplete dates\n",
        "df['statusModule_startDateStruct_date'] = df['statusModule_startDateStruct_date'].apply(fill_incomplete_date)\n",
        "df['statusModule_completionDateStruct_date'] = df['statusModule_completionDateStruct_date'].apply(fill_incomplete_date)\n",
        "\n",
        "# Convert to datetime, leaving NaN values as is\n",
        "df['statusModule_startDateStruct_date'] = pd.to_datetime(df['statusModule_startDateStruct_date'], errors='coerce')\n",
        "df['statusModule_completionDateStruct_date'] = pd.to_datetime(df['statusModule_completionDateStruct_date'], errors='coerce')\n",
        "\n",
        "# Calculate duration in years for non-missing dates\n",
        "df['duration_of_trial'] = (\n",
        "    (df['statusModule_completionDateStruct_date'] - df['statusModule_startDateStruct_date']).dt.days / 365\n",
        ")\n",
        "\n",
        "# Group by 'statusModule_overallStatus' to calculate the average duration for each status\n",
        "average_durations = (\n",
        "    df[df['duration_of_trial'].notna()]\n",
        "    .groupby('statusModule_overallStatus')['duration_of_trial']\n",
        "    .mean()\n",
        ")\n",
        "# Fill missing durations with the average duration based on 'statusModule_overallStatus'\n",
        "def fill_missing_duration(row):\n",
        "    if pd.isna(row['duration_of_trial']):\n",
        "        return average_durations.get(row['statusModule_overallStatus'], None)  # Default to None if no status match\n",
        "    return row['duration_of_trial']\n",
        "\n",
        "df['duration_of_trial'] = df.apply(fill_missing_duration, axis=1)\n",
        "\n",
        "df = df.drop(columns=['statusModule_startDateStruct_date', 'statusModule_completionDateStruct_date'])\n"
      ]
    },
    {
      "cell_type": "code",
      "execution_count": 24,
      "metadata": {
        "tags": [],
        "id": "8c1zIRaYU6ba",
        "outputId": "3bb7d144-58ae-4057-bb28-2622eb4fda9c"
      },
      "outputs": [
        {
          "output_type": "stream",
          "name": "stdout",
          "text": "Missing values in 'duration_of_trial': 0\n"
        }
      ],
      "source": [
        "df['duration_of_trial'] = df['duration_of_trial'].fillna(df['duration_of_trial'].mean())\n",
        "print(\"Missing values in 'duration_of_trial':\", df['duration_of_trial'].isna().sum())"
      ]
    },
    {
      "cell_type": "code",
      "execution_count": 18,
      "metadata": {
        "tags": []
      },
      "outputs": [
        {
          "output_type": "stream",
          "name": "stdout",
          "text": "0    18.0\n1     8.0\n2     0.0\n3    18.0\n4    18.0\n5    18.0\n6    18.0\n7    18.0\n8    18.0\n9    18.0\nName: eligibilityModule_minimumAge, dtype: float64\n0    100.0\n1     17.0\n2    100.0\n3    100.0\n4     55.0\n5     75.0\n6     65.0\n7    100.0\n8    100.0\n9    100.0\nName: eligibilityModule_maximumAge, dtype: float64\n/var/folders/lr/n1nc31vx3sz7dt4y6jfw_21h0000gr/T/ipykernel_28577/1568420023.py:15: FutureWarning: A value is trying to be set on a copy of a DataFrame or Series through chained assignment using an inplace method.\nThe behavior will change in pandas 3.0. This inplace method will never work because the intermediate object on which we are setting values always behaves as a copy.\n\nFor example, when doing 'df[col].method(value, inplace=True)', try using 'df.method({col: value}, inplace=True)' or df[col] = df[col].method(value) instead, to perform the operation inplace on the original object.\n\n\n  df['eligibilityModule_minimumAge'].fillna(df['eligibilityModule_minimumAge'].min(), inplace=True)\n/var/folders/lr/n1nc31vx3sz7dt4y6jfw_21h0000gr/T/ipykernel_28577/1568420023.py:16: FutureWarning: A value is trying to be set on a copy of a DataFrame or Series through chained assignment using an inplace method.\nThe behavior will change in pandas 3.0. This inplace method will never work because the intermediate object on which we are setting values always behaves as a copy.\n\nFor example, when doing 'df[col].method(value, inplace=True)', try using 'df.method({col: value}, inplace=True)' or df[col] = df[col].method(value) instead, to perform the operation inplace on the original object.\n\n\n  df['eligibilityModule_maximumAge'].fillna(df['eligibilityModule_maximumAge'].max(), inplace=True)\n"
        }
      ],
      "source": [
        "def convert_age(value):\n",
        "    if pd.isna(value):  # Handle missing values\n",
        "        return None\n",
        "    elif \"Weeks\" in value:\n",
        "        return round(int(value.split()[0]) / 52, 2)  # Convert weeks to years\n",
        "    elif \"Years\" in value:\n",
        "        return int(value.split()[0])  # Extract numerical part\n",
        "    return None  # If unrecognized format\n",
        "\n",
        "# Apply conversion to both columns\n",
        "df['eligibilityModule_minimumAge'] = df['eligibilityModule_minimumAge'].apply(convert_age)\n",
        "df['eligibilityModule_maximumAge'] = df['eligibilityModule_maximumAge'].apply(convert_age)\n",
        "\n",
        "# Replace missing values\n",
        "df['eligibilityModule_minimumAge'].fillna(df['eligibilityModule_minimumAge'].min(), inplace=True)\n",
        "df['eligibilityModule_maximumAge'].fillna(df['eligibilityModule_maximumAge'].max(), inplace=True)\n",
        "\n",
        "df['eligibilityModule_maximumAge'] = df['eligibilityModule_maximumAge'].apply(lambda x: 100 if x > 100 else x)\n",
        "print(df['eligibilityModule_minimumAge'][:10])\n",
        "print(df['eligibilityModule_maximumAge'][:10])"
      ]
    },
    {
      "cell_type": "code",
      "execution_count": 19,
      "metadata": {
        "tags": []
      },
      "outputs": [
        {
          "output_type": "stream",
          "name": "stderr",
          "text": "/var/folders/lr/n1nc31vx3sz7dt4y6jfw_21h0000gr/T/ipykernel_28577/2601035345.py:1: FutureWarning: A value is trying to be set on a copy of a DataFrame or Series through chained assignment using an inplace method.\nThe behavior will change in pandas 3.0. This inplace method will never work because the intermediate object on which we are setting values always behaves as a copy.\n\nFor example, when doing 'df[col].method(value, inplace=True)', try using 'df.method({col: value}, inplace=True)' or df[col] = df[col].method(value) instead, to perform the operation inplace on the original object.\n\n\n  df['designModule_enrollmentInfo_count'].fillna(df['designModule_enrollmentInfo_count'].median(), inplace=True)\n"
        }
      ],
      "source": [
        "df['designModule_enrollmentInfo_count'].fillna(df['designModule_enrollmentInfo_count'].median(), inplace=True)"
      ]
    },
    {
      "cell_type": "code",
      "execution_count": 20,
      "metadata": {},
      "outputs": [],
      "source": [
        "rare_categories = ['AMBIG', 'UNKNOWN', 'INDIV']\n",
        "\n",
        "# Replace rare categories with \"OTHER_SMALL\"\n",
        "df['sponsorCollaboratorsModule_leadSponsor_class'] = df['sponsorCollaboratorsModule_leadSponsor_class'].replace(rare_categories, 'OTHER_SMALL')\n",
        "\n",
        "# Create dummies while adding a prefix\n",
        "df = pd.get_dummies(df, columns=['sponsorCollaboratorsModule_leadSponsor_class'], prefix='leadsponsor')"
      ]
    },
    {
      "cell_type": "code",
      "execution_count": 25,
      "metadata": {
        "id": "fScXcAz2U6bb"
      },
      "outputs": [],
      "source": [
        "def count_criteria(criteria_text):\n",
        "    inclusion_count = 0\n",
        "    exclusion_count = 0\n",
        "\n",
        "    # Ensure the input is a valid string and not NaN\n",
        "    if isinstance(criteria_text, str) and 'Inclusion Criteria' in criteria_text and 'Exclusion Criteria' in criteria_text:\n",
        "        # Split into inclusion and exclusion sections\n",
        "        try:\n",
        "            inclusion_section = criteria_text.split('Inclusion Criteria:')[1].split('Exclusion Criteria:')[0]\n",
        "            exclusion_section = criteria_text.split('Exclusion Criteria:')[1]\n",
        "\n",
        "            # Count bullet points (each * represents a new criterion)\n",
        "            inclusion_count = inclusion_section.count('*')\n",
        "            exclusion_count = exclusion_section.count('*')\n",
        "        except IndexError:\n",
        "            pass  # In case there's any issue with splitting or formatting\n",
        "\n",
        "    return inclusion_count, exclusion_count\n",
        "\n",
        "# Apply the function to the eligibility column\n",
        "df[['inclusion_count', 'exclusion_count']] = df['eligibilityModule_eligibilityCriteria'].apply(lambda x: pd.Series(count_criteria(x)))"
      ]
    },
    {
      "cell_type": "code",
      "execution_count": 26,
      "metadata": {
        "id": "Mhoa_N3rU6bb",
        "outputId": "08d6a5e5-fadd-4292-87ec-91660340d41c"
      },
      "outputs": [
        {
          "output_type": "execute_result",
          "data": {
            "text/plain": "        inclusion_count  exclusion_count\n0                     1                6\n1                     4                3\n2                     4                8\n3                     3                3\n4                     4               20\n...                 ...              ...\n263443                2                1\n263444               16               13\n263445                0                0\n263446                6                6\n263447                2                6\n\n[263448 rows x 2 columns]",
            "text/html": "<div>\n<style scoped>\n    .dataframe tbody tr th:only-of-type {\n        vertical-align: middle;\n    }\n\n    .dataframe tbody tr th {\n        vertical-align: top;\n    }\n\n    .dataframe thead th {\n        text-align: right;\n    }\n</style>\n<table border=\"1\" class=\"dataframe\">\n  <thead>\n    <tr style=\"text-align: right;\">\n      <th></th>\n      <th>inclusion_count</th>\n      <th>exclusion_count</th>\n    </tr>\n  </thead>\n  <tbody>\n    <tr>\n      <th>0</th>\n      <td>1</td>\n      <td>6</td>\n    </tr>\n    <tr>\n      <th>1</th>\n      <td>4</td>\n      <td>3</td>\n    </tr>\n    <tr>\n      <th>2</th>\n      <td>4</td>\n      <td>8</td>\n    </tr>\n    <tr>\n      <th>3</th>\n      <td>3</td>\n      <td>3</td>\n    </tr>\n    <tr>\n      <th>4</th>\n      <td>4</td>\n      <td>20</td>\n    </tr>\n    <tr>\n      <th>...</th>\n      <td>...</td>\n      <td>...</td>\n    </tr>\n    <tr>\n      <th>263443</th>\n      <td>2</td>\n      <td>1</td>\n    </tr>\n    <tr>\n      <th>263444</th>\n      <td>16</td>\n      <td>13</td>\n    </tr>\n    <tr>\n      <th>263445</th>\n      <td>0</td>\n      <td>0</td>\n    </tr>\n    <tr>\n      <th>263446</th>\n      <td>6</td>\n      <td>6</td>\n    </tr>\n    <tr>\n      <th>263447</th>\n      <td>2</td>\n      <td>6</td>\n    </tr>\n  </tbody>\n</table>\n<p>263448 rows × 2 columns</p>\n</div>"
          },
          "metadata": {},
          "execution_count": 26
        }
      ],
      "source": [
        "df = df.drop(['eligibilityModule_eligibilityCriteria'], axis = 1)\n",
        "df[['inclusion_count', 'exclusion_count']]"
      ]
    },
    {
      "cell_type": "code",
      "execution_count": 27,
      "metadata": {
        "id": "0bC1C2tKU6bb",
        "outputId": "55a22f86-6113-4b81-db1d-6f902d301bde"
      },
      "outputs": [],
      "source": [
        "def count_facilities(locations):\n",
        "    if isinstance(locations, float) and pd.isna(locations):  # Handle NaN values\n",
        "        return 0\n",
        "\n",
        "    if isinstance(locations, np.ndarray):  # Convert NumPy arrays to lists\n",
        "        locations = locations.tolist()\n",
        "\n",
        "    if isinstance(locations, list):  # Directly count list items\n",
        "        return len(locations)\n",
        "\n",
        "    if isinstance(locations, str):  # Convert string representation of a list\n",
        "        try:\n",
        "            parsed_locations = ast.literal_eval(locations)\n",
        "            if isinstance(parsed_locations, list):\n",
        "                return len(parsed_locations)\n",
        "        except (ValueError, SyntaxError):\n",
        "            return 0  # If parsing fails, return 0\n",
        "\n",
        "    return 0  # Default case for unexpected formats\n",
        "\n",
        "# Apply function\n",
        "df['facility_count'] = df['contactsLocationsModule_locations'].apply(count_facilities)"
      ]
    },
    {
      "cell_type": "code",
      "execution_count": 28,
      "metadata": {},
      "outputs": [
        {
          "output_type": "execute_result",
          "data": {
            "text/plain": "0          1\n1          1\n2          1\n3         54\n4          1\n          ..\n263443     1\n263444    15\n263445     1\n263446     5\n263447     1\nName: facility_count, Length: 263448, dtype: int64"
          },
          "metadata": {},
          "execution_count": 28
        }
      ],
      "source": [
        "df = df.drop(['contactsLocationsModule_locations'], axis = 1)\n",
        "df['facility_count']"
      ]
    },
    {
      "cell_type": "code",
      "execution_count": 32,
      "metadata": {
        "tags": [
          "outputPrepend"
        ],
        "id": "YK0OzhB5U6bb",
        "outputId": "c188b916-8f87-4aed-bbec-2d79b32bb86f"
      },
      "outputs": [
        {
          "output_type": "stream",
          "name": "stdout",
          "text": "cted data format: <class 'NoneType'> - None\nUnexpected data format: <class 'NoneType'> - None\nNo matches found in: [{'id': 'D020924', 'term': 'Urological Manifestations'}]\nUnexpected data format: <class 'NoneType'> - None\nNo matches found in: [{'id': 'D019967', 'term': 'Schizophrenia Spectrum and Other Psychotic Disorders'}, {'id': 'D001523', 'term': 'Mental Disorders'}]\nNo matches found in: [{'id': 'D003072', 'term': 'Cognition Disorders'}, {'id': 'D019965', 'term': 'Neurocognitive Disorders'}, {'id': 'D001523', 'term': 'Mental Disorders'}]\nUnexpected data format: <class 'NoneType'> - None\nUnexpected data format: <class 'NoneType'> - None\nUnexpected data format: <class 'NoneType'> - None\nNo matches found in: [{'id': 'D007039', 'term': 'Hypotrichosis'}, {'id': 'D006201', 'term': 'Hair Diseases'}, {'id': 'D012871', 'term': 'Skin Diseases'}, {'id': 'D020763', 'term': 'Pathological Conditions, Anatomical'}]\nNo matches found in: [{'id': 'D014883', 'term': 'Water-Electrolyte Imbalance'}, {'id': 'D008659', 'term': 'Metabolic Diseases'}, {'id': 'D010335', 'term': 'Pathologic Processes'}]\nUnexpected data format: <class 'NoneType'> - None\nUnexpected data format: <class 'NoneType'> - None\nNo matches found in: [{'id': 'D020018', 'term': 'Sexual Dysfunctions, Psychological'}, {'id': 'D001523', 'term': 'Mental Disorders'}]\nUnexpected data format: <class 'NoneType'> - None\nNo matches found in: [{'id': 'D019964', 'term': 'Mood Disorders'}, {'id': 'D001523', 'term': 'Mental Disorders'}, {'id': 'D001526', 'term': 'Behavioral Symptoms'}]\nNo matches found in: [{'id': 'D000745', 'term': 'Anemia, Hemolytic, Congenital'}, {'id': 'D000743', 'term': 'Anemia, Hemolytic'}, {'id': 'D000740', 'term': 'Anemia'}, {'id': 'D006402', 'term': 'Hematologic Diseases'}, {'id': 'D006453', 'term': 'Hemoglobinopathies'}, {'id': 'D030342', 'term': 'Genetic Diseases, Inborn'}]\nUnexpected data format: <class 'NoneType'> - None\nUnexpected data format: <class 'NoneType'> - None\nUnexpected data format: <class 'NoneType'> - None\nUnexpected data format: <class 'NoneType'> - None\nNo matches found in: [{'id': 'D012817', 'term': 'Signs and Symptoms, Digestive'}, {'id': 'D011183', 'term': 'Postoperative Complications'}, {'id': 'D010335', 'term': 'Pathologic Processes'}]\nUnexpected data format: <class 'NoneType'> - None\nNo matches found in: [{'id': 'D001526', 'term': 'Behavioral Symptoms'}]\nUnexpected data format: <class 'NoneType'> - None\nUnexpected data format: <class 'NoneType'> - None\nUnexpected data format: <class 'NoneType'> - None\nUnexpected data format: <class 'NoneType'> - None\nNo matches found in: [{'id': 'D004194', 'term': 'Disease'}, {'id': 'D010335', 'term': 'Pathologic Processes'}, {'id': 'D007960', 'term': 'Leukocyte Disorders'}, {'id': 'D006402', 'term': 'Hematologic Diseases'}]\nUnexpected data format: <class 'NoneType'> - None\nNo matches found in: [{'id': 'D000745', 'term': 'Anemia, Hemolytic, Congenital'}, {'id': 'D000743', 'term': 'Anemia, Hemolytic'}, {'id': 'D000740', 'term': 'Anemia'}, {'id': 'D006402', 'term': 'Hematologic Diseases'}, {'id': 'D030342', 'term': 'Genetic Diseases, Inborn'}, {'id': 'D002239', 'term': 'Carbohydrate Metabolism, Inborn Errors'}, {'id': 'D008661', 'term': 'Metabolism, Inborn Errors'}, {'id': 'D008659', 'term': 'Metabolic Diseases'}]\nUnexpected data format: <class 'NoneType'> - None\nUnexpected data format: <class 'NoneType'> - None\nUnexpected data format: <class 'NoneType'> - None\nUnexpected data format: <class 'NoneType'> - None\nUnexpected data format: <class 'NoneType'> - None\nNo matches found in: [{'id': 'D010146', 'term': 'Pain'}, {'id': 'D009461', 'term': 'Neurologic Manifestations'}]\nNo matches found in: [{'id': 'D020969', 'term': 'Disease Attributes'}, {'id': 'D010335', 'term': 'Pathologic Processes'}, {'id': 'D004756', 'term': 'Enterobacteriaceae Infections'}, {'id': 'D016905', 'term': 'Gram-Negative Bacterial Infections'}, {'id': 'D001424', 'term': 'Bacterial Infections'}, {'id': 'D001423', 'term': 'Bacterial Infections and Mycoses'}]\nNo matches found in: [{'id': 'D010335', 'term': 'Pathologic Processes'}]\nNo matches found in: [{'id': 'D010335', 'term': 'Pathologic Processes'}]\nNo matches found in: [{'id': 'D007766', 'term': 'Lacrimal Apparatus Diseases'}, {'id': 'D007637', 'term': 'Keratoconjunctivitis'}, {'id': 'D003231', 'term': 'Conjunctivitis'}, {'id': 'D003229', 'term': 'Conjunctival Diseases'}, {'id': 'D007634', 'term': 'Keratitis'}, {'id': 'D003316', 'term': 'Corneal Diseases'}]\nNo matches found in: [{'id': 'D003072', 'term': 'Cognition Disorders'}, {'id': 'D019965', 'term': 'Neurocognitive Disorders'}, {'id': 'D001523', 'term': 'Mental Disorders'}]\nUnexpected data format: <class 'NoneType'> - None\nUnexpected data format: <class 'NoneType'> - None\nUnexpected data format: <class 'NoneType'> - None\nUnexpected data format: <class 'NoneType'> - None\nNo matches found in: [{'id': 'D010146', 'term': 'Pain'}, {'id': 'D009461', 'term': 'Neurologic Manifestations'}, {'id': 'D012817', 'term': 'Signs and Symptoms, Digestive'}]\nUnexpected data format: <class 'NoneType'> - None\nNo matches found in: [{'id': 'D012871', 'term': 'Skin Diseases'}, {'id': 'D017443', 'term': 'Skin Diseases, Eczematous'}]\nUnexpected data format: <class 'NoneType'> - None\nUnexpected data format: <class 'NoneType'> - None\nUnexpected data format: <class 'NoneType'> - None\nUnexpected data format: <class 'NoneType'> - None\nNo matches found in: [{'id': 'D011183', 'term': 'Postoperative Complications'}, {'id': 'D010335', 'term': 'Pathologic Processes'}, {'id': 'D010146', 'term': 'Pain'}, {'id': 'D009461', 'term': 'Neurologic Manifestations'}]\nUnexpected data format: <class 'NoneType'> - None\nUnexpected data format: <class 'NoneType'> - None\nNo matches found in: [{'id': 'D019964', 'term': 'Mood Disorders'}, {'id': 'D001523', 'term': 'Mental Disorders'}, {'id': 'D001526', 'term': 'Behavioral Symptoms'}]\nNo matches found in: [{'id': 'D006402', 'term': 'Hematologic Diseases'}, {'id': 'D019189', 'term': 'Iron Metabolism Disorders'}, {'id': 'D008659', 'term': 'Metabolic Diseases'}, {'id': 'D000747', 'term': 'Anemia, Hypochromic'}]\nUnexpected data format: <class 'NoneType'> - None\nNo matches found in: [{'id': 'D001836', 'term': 'Body Weight Changes'}, {'id': 'D001835', 'term': 'Body Weight'}]\nUnexpected data format: <class 'NoneType'> - None\nNo matches found in: [{'id': 'D020763', 'term': 'Pathological Conditions, Anatomical'}]\nUnexpected data format: <class 'NoneType'> - None\nUnexpected data format: <class 'NoneType'> - None\nUnexpected data format: <class 'NoneType'> - None\nUnexpected data format: <class 'NoneType'> - None\nUnexpected data format: <class 'NoneType'> - None\nNo matches found in: [{'id': 'D050171', 'term': 'Dyslipidemias'}, {'id': 'D052439', 'term': 'Lipid Metabolism Disorders'}, {'id': 'D008659', 'term': 'Metabolic Diseases'}]\nUnexpected data format: <class 'NoneType'> - None\nUnexpected data format: <class 'NoneType'> - None\nNo matches found in: [{'id': 'D010859', 'term': 'Pigmentation Disorders'}, {'id': 'D012871', 'term': 'Skin Diseases'}]\nNo matches found in: [{'id': 'D019965', 'term': 'Neurocognitive Disorders'}, {'id': 'D001523', 'term': 'Mental Disorders'}]\nNo matches found in: [{'id': 'D011183', 'term': 'Postoperative Complications'}, {'id': 'D010335', 'term': 'Pathologic Processes'}, {'id': 'D010146', 'term': 'Pain'}, {'id': 'D009461', 'term': 'Neurologic Manifestations'}]\nUnexpected data format: <class 'NoneType'> - None\nUnexpected data format: <class 'NoneType'> - None\nUnexpected data format: <class 'NoneType'> - None\nNo matches found in: [{'id': 'D002921', 'term': 'Cicatrix'}, {'id': 'D005355', 'term': 'Fibrosis'}, {'id': 'D010335', 'term': 'Pathologic Processes'}]\nNo matches found in: [{'id': 'D019967', 'term': 'Schizophrenia Spectrum and Other Psychotic Disorders'}, {'id': 'D044343', 'term': 'Overnutrition'}, {'id': 'D009748', 'term': 'Nutrition Disorders'}, {'id': 'D001835', 'term': 'Body Weight'}]\nNo matches found in: [{'id': 'D019967', 'term': 'Schizophrenia Spectrum and Other Psychotic Disorders'}, {'id': 'D001523', 'term': 'Mental Disorders'}]\nNo matches found in: [{'id': 'D009748', 'term': 'Nutrition Disorders'}]\nNo matches found in: [{'id': 'D010146', 'term': 'Pain'}, {'id': 'D009461', 'term': 'Neurologic Manifestations'}]\nUnexpected data format: <class 'NoneType'> - None\nNo matches found in: [{'id': 'D017486', 'term': 'Acneiform Eruptions'}, {'id': 'D012871', 'term': 'Skin Diseases'}, {'id': 'D012625', 'term': 'Sebaceous Gland Diseases'}]\nUnexpected data format: <class 'NoneType'> - None\nUnexpected data format: <class 'NoneType'> - None\nNo matches found in: [{'id': 'D011183', 'term': 'Postoperative Complications'}, {'id': 'D010335', 'term': 'Pathologic Processes'}, {'id': 'D010146', 'term': 'Pain'}, {'id': 'D009461', 'term': 'Neurologic Manifestations'}]\nNo matches found in: [{'id': 'D017444', 'term': 'Skin Diseases, Papulosquamous'}, {'id': 'D012871', 'term': 'Skin Diseases'}]\nUnexpected data format: <class 'NoneType'> - None\nUnexpected data format: <class 'NoneType'> - None\nUnexpected data format: <class 'NoneType'> - None\nNo matches found in: [{'id': 'D044343', 'term': 'Overnutrition'}, {'id': 'D009748', 'term': 'Nutrition Disorders'}, {'id': 'D001835', 'term': 'Body Weight'}, {'id': 'D001836', 'term': 'Body Weight Changes'}]\nUnexpected data format: <class 'NoneType'> - None\nUnexpected data format: <class 'NoneType'> - None\nUnexpected data format: <class 'NoneType'> - None\nUnexpected data format: <class 'NoneType'> - None\nNo matches found in: [{'id': 'D012883', 'term': 'Skin Ulcer'}, {'id': 'D012871', 'term': 'Skin Diseases'}]\nNo matches found in: [{'id': 'D010146', 'term': 'Pain'}, {'id': 'D009461', 'term': 'Neurologic Manifestations'}]\nNo matches found in: [{'id': 'D020969', 'term': 'Disease Attributes'}, {'id': 'D010335', 'term': 'Pathologic Processes'}]\nUnexpected data format: <class 'NoneType'> - None\nUnexpected data format: <class 'NoneType'> - None\nUnexpected data format: <class 'NoneType'> - None\nNo matches found in: [{'id': 'D014804', 'term': 'Vitamin B Deficiency'}, {'id': 'D001361', 'term': 'Avitaminosis'}, {'id': 'D003677', 'term': 'Deficiency Diseases'}, {'id': 'D044342', 'term': 'Malnutrition'}, {'id': 'D009748', 'term': 'Nutrition Disorders'}]\nNo matches found in: [{'id': 'D008206', 'term': 'Lymphatic Diseases'}]\nUnexpected data format: <class 'NoneType'> - None\nNo matches found in: [{'id': 'D012817', 'term': 'Signs and Symptoms, Digestive'}]\nNo matches found in: [{'id': 'D010146', 'term': 'Pain'}, {'id': 'D009461', 'term': 'Neurologic Manifestations'}]\nUnexpected data format: <class 'NoneType'> - None\nUnexpected data format: <class 'NoneType'> - None\nUnexpected data format: <class 'NoneType'> - None\nNo matches found in: [{'id': 'D012817', 'term': 'Signs and Symptoms, Digestive'}]\nNo matches found in: [{'id': 'D000068105', 'term': 'Bipolar and Related Disorders'}, {'id': 'D019964', 'term': 'Mood Disorders'}, {'id': 'D001523', 'term': 'Mental Disorders'}]\nNo matches found in: [{'id': 'D007718', 'term': 'Knee Injuries'}, {'id': 'D007869', 'term': 'Leg Injuries'}]\nUnexpected data format: <class 'NoneType'> - None\nUnexpected data format: <class 'NoneType'> - None\nNo matches found in: [{'id': 'D001526', 'term': 'Behavioral Symptoms'}, {'id': 'D019964', 'term': 'Mood Disorders'}, {'id': 'D001523', 'term': 'Mental Disorders'}]\nUnexpected data format: <class 'NoneType'> - None\nNo matches found in: [{'id': 'D006402', 'term': 'Hematologic Diseases'}, {'id': 'D019189', 'term': 'Iron Metabolism Disorders'}, {'id': 'D008659', 'term': 'Metabolic Diseases'}, {'id': 'D000747', 'term': 'Anemia, Hypochromic'}, {'id': 'D044342', 'term': 'Malnutrition'}, {'id': 'D009748', 'term': 'Nutrition Disorders'}]\nUnexpected data format: <class 'NoneType'> - None\nNo matches found in: [{'id': 'D010335', 'term': 'Pathologic Processes'}]\nUnexpected data format: <class 'NoneType'> - None\nUnexpected data format: <class 'NoneType'> - None\nUnexpected data format: <class 'NoneType'> - None\nUnexpected data format: <class 'NoneType'> - None\nUnexpected data format: <class 'NoneType'> - None\nUnexpected data format: <class 'NoneType'> - None\nNo matches found in: [{'id': 'D001416', 'term': 'Back Pain'}, {'id': 'D010146', 'term': 'Pain'}, {'id': 'D009461', 'term': 'Neurologic Manifestations'}]\nUnexpected data format: <class 'NoneType'> - None\nNo matches found in: [{'id': 'D006949', 'term': 'Hyperlipidemias'}, {'id': 'D050171', 'term': 'Dyslipidemias'}, {'id': 'D052439', 'term': 'Lipid Metabolism Disorders'}, {'id': 'D008659', 'term': 'Metabolic Diseases'}, {'id': 'D008052', 'term': 'Lipid Metabolism, Inborn Errors'}, {'id': 'D008661', 'term': 'Metabolism, Inborn Errors'}, {'id': 'D030342', 'term': 'Genetic Diseases, Inborn'}, {'id': 'D006951', 'term': 'Hyperlipoproteinemias'}]\nUnexpected data format: <class 'NoneType'> - None\nUnexpected data format: <class 'NoneType'> - None\nUnexpected data format: <class 'NoneType'> - None\nNo matches found in: [{'id': 'D017444', 'term': 'Skin Diseases, Papulosquamous'}, {'id': 'D012871', 'term': 'Skin Diseases'}]\nNo matches found in: [{'id': 'D001526', 'term': 'Behavioral Symptoms'}, {'id': 'D019964', 'term': 'Mood Disorders'}, {'id': 'D001523', 'term': 'Mental Disorders'}]\nNo matches found in: [{'id': 'D011183', 'term': 'Postoperative Complications'}, {'id': 'D010335', 'term': 'Pathologic Processes'}, {'id': 'D010146', 'term': 'Pain'}, {'id': 'D009461', 'term': 'Neurologic Manifestations'}]\nNo matches found in: [{'id': 'D001526', 'term': 'Behavioral Symptoms'}, {'id': 'D003866', 'term': 'Depressive Disorder'}, {'id': 'D019964', 'term': 'Mood Disorders'}, {'id': 'D001523', 'term': 'Mental Disorders'}]\nUnexpected data format: <class 'NoneType'> - None\nNo matches found in: [{'id': 'D019964', 'term': 'Mood Disorders'}, {'id': 'D001523', 'term': 'Mental Disorders'}, {'id': 'D001526', 'term': 'Behavioral Symptoms'}]\nUnexpected data format: <class 'NoneType'> - None\nUnexpected data format: <class 'NoneType'> - None\nUnexpected data format: <class 'NoneType'> - None\nUnexpected data format: <class 'NoneType'> - None\nNo matches found in: [{'id': 'D012817', 'term': 'Signs and Symptoms, Digestive'}]\nNo matches found in: [{'id': 'D012817', 'term': 'Signs and Symptoms, Digestive'}]\nUnexpected data format: <class 'NoneType'> - None\nUnexpected data format: <class 'NoneType'> - None\nUnexpected data format: <class 'NoneType'> - None\nNo matches found in: [{'id': 'D001836', 'term': 'Body Weight Changes'}, {'id': 'D001835', 'term': 'Body Weight'}]\nNo matches found in: [{'id': 'D012817', 'term': 'Signs and Symptoms, Digestive'}]\nNo matches found in: [{'id': 'D006946', 'term': 'Hyperinsulinism'}, {'id': 'D044882', 'term': 'Glucose Metabolism Disorders'}, {'id': 'D008659', 'term': 'Metabolic Diseases'}, {'id': 'D006943', 'term': 'Hyperglycemia'}]\nUnexpected data format: <class 'NoneType'> - None\nUnexpected data format: <class 'NoneType'> - None\nUnexpected data format: <class 'NoneType'> - None\nUnexpected data format: <class 'NoneType'> - None\nUnexpected data format: <class 'NoneType'> - None\nNo matches found in: [{'id': 'D019964', 'term': 'Mood Disorders'}, {'id': 'D001523', 'term': 'Mental Disorders'}, {'id': 'D001526', 'term': 'Behavioral Symptoms'}]\nNo matches found in: [{'id': 'D006946', 'term': 'Hyperinsulinism'}, {'id': 'D044882', 'term': 'Glucose Metabolism Disorders'}, {'id': 'D008659', 'term': 'Metabolic Diseases'}, {'id': 'D006949', 'term': 'Hyperlipidemias'}, {'id': 'D050171', 'term': 'Dyslipidemias'}, {'id': 'D052439', 'term': 'Lipid Metabolism Disorders'}, {'id': 'D006943', 'term': 'Hyperglycemia'}]\nUnexpected data format: <class 'NoneType'> - None\nNo matches found in: [{'id': 'D001836', 'term': 'Body Weight Changes'}, {'id': 'D001835', 'term': 'Body Weight'}]\nNo matches found in: [{'id': 'D001526', 'term': 'Behavioral Symptoms'}, {'id': 'D019964', 'term': 'Mood Disorders'}, {'id': 'D001523', 'term': 'Mental Disorders'}]\nUnexpected data format: <class 'NoneType'> - None\nUnexpected data format: <class 'NoneType'> - None\nUnexpected data format: <class 'NoneType'> - None\nUnexpected data format: <class 'NoneType'> - None\nNo matches found in: [{'id': 'D001835', 'term': 'Body Weight'}, {'id': 'D044342', 'term': 'Malnutrition'}, {'id': 'D009748', 'term': 'Nutrition Disorders'}]\nUnexpected data format: <class 'NoneType'> - None\nUnexpected data format: <class 'NoneType'> - None\nNo matches found in: [{'id': 'D006949', 'term': 'Hyperlipidemias'}, {'id': 'D050171', 'term': 'Dyslipidemias'}, {'id': 'D052439', 'term': 'Lipid Metabolism Disorders'}, {'id': 'D008659', 'term': 'Metabolic Diseases'}, {'id': 'D001161', 'term': 'Arteriosclerosis'}, {'id': 'D001157', 'term': 'Arterial Occlusive Diseases'}, {'id': 'D014652', 'term': 'Vascular Diseases'}]\nNo matches found in: [{'id': 'D001523', 'term': 'Mental Disorders'}]\nUnexpected data format: <class 'NoneType'> - None\nUnexpected data format: <class 'NoneType'> - None\nNo matches found in: [{'id': 'D000081207', 'term': 'Primary Immunodeficiency Diseases'}, {'id': 'D030342', 'term': 'Genetic Diseases, Inborn'}, {'id': 'D007232', 'term': 'Infant, Newborn, Diseases'}, {'id': 'D049914', 'term': 'DNA Repair-Deficiency Disorders'}, {'id': 'D008659', 'term': 'Metabolic Diseases'}, {'id': 'D040181', 'term': 'Genetic Diseases, X-Linked'}]\nNo matches found in: [{'id': 'D006402', 'term': 'Hematologic Diseases'}, {'id': 'D000080984', 'term': 'Congenital Bone Marrow Failure Syndromes'}, {'id': 'D000080983', 'term': 'Bone Marrow Failure Disorders'}, {'id': 'D001855', 'term': 'Bone Marrow Diseases'}, {'id': 'D030342', 'term': 'Genetic Diseases, Inborn'}, {'id': 'D000745', 'term': 'Anemia, Hemolytic, Congenital'}, {'id': 'D000743', 'term': 'Anemia, Hemolytic'}]\nUnexpected data format: <class 'NoneType'> - None\nNo matches found in: [{'id': 'D019958', 'term': 'Attention Deficit and Disruptive Behavior Disorders'}, {'id': 'D065886', 'term': 'Neurodevelopmental Disorders'}, {'id': 'D001523', 'term': 'Mental Disorders'}]\nUnexpected data format: <class 'NoneType'> - None\nNo matches found in: [{'id': 'D001526', 'term': 'Behavioral Symptoms'}, {'id': 'D019964', 'term': 'Mood Disorders'}, {'id': 'D001523', 'term': 'Mental Disorders'}]\nUnexpected data format: <class 'NoneType'> - None\nUnexpected data format: <class 'NoneType'> - None\nUnexpected data format: <class 'NoneType'> - None\nUnexpected data format: <class 'NoneType'> - None\nUnexpected data format: <class 'NoneType'> - None\nUnexpected data format: <class 'NoneType'> - None\nNo matches found in: [{'id': 'D011183', 'term': 'Postoperative Complications'}, {'id': 'D010335', 'term': 'Pathologic Processes'}, {'id': 'D010146', 'term': 'Pain'}, {'id': 'D009461', 'term': 'Neurologic Manifestations'}]\nUnexpected data format: <class 'NoneType'> - None\nNo matches found in: [{'id': 'D000068099', 'term': 'Trauma and Stressor Related Disorders'}, {'id': 'D001523', 'term': 'Mental Disorders'}]\nUnexpected data format: <class 'NoneType'> - None\nUnexpected data format: <class 'NoneType'> - None\nNo matches found in: [{'id': 'D010146', 'term': 'Pain'}, {'id': 'D009461', 'term': 'Neurologic Manifestations'}, {'id': 'D012817', 'term': 'Signs and Symptoms, Digestive'}]\nNo matches found in: [{'id': 'D010335', 'term': 'Pathologic Processes'}, {'id': 'D007431', 'term': 'Intraoperative Complications'}]\nUnexpected data format: <class 'NoneType'> - None\nNo matches found in: [{'id': 'D010146', 'term': 'Pain'}, {'id': 'D009461', 'term': 'Neurologic Manifestations'}]\nUnexpected data format: <class 'NoneType'> - None\nUnexpected data format: <class 'NoneType'> - None\nUnexpected data format: <class 'NoneType'> - None\nNo matches found in: [{'id': 'D050171', 'term': 'Dyslipidemias'}, {'id': 'D052439', 'term': 'Lipid Metabolism Disorders'}, {'id': 'D008659', 'term': 'Metabolic Diseases'}]\nUnexpected data format: <class 'NoneType'> - None\nNo matches found in: [{'id': 'D001526', 'term': 'Behavioral Symptoms'}, {'id': 'D019964', 'term': 'Mood Disorders'}, {'id': 'D001523', 'term': 'Mental Disorders'}]\n"
        }
      ],
      "source": [
        "disease_type = [\n",
        "    'Infections', 'Neoplasms', 'Musculoskeletal Diseases', 'Digestive System Diseases',\n",
        "    'Stomatognathic Diseases', 'Respiratory Tract Diseases', 'Otorhinolaryngologic Diseases',\n",
        "    'Nervous System Diseases', 'Eye Diseases', 'Urogenital Diseases', 'Cardiovascular Diseases',\n",
        "    'Hemic and Lymphatic Diseases', 'Congenital, Hereditary, and Neonatal Diseases and Abnormalities',\n",
        "    'Skin and Connective Tissue Diseases', 'Nutritional and Metabolic Diseases',\n",
        "    'Endocrine System Diseases', 'Immune System Diseases', 'Disorders of Environmental Origin',\n",
        "    'Animal Diseases', 'Pathological Conditions, Signs and Symptoms', 'Occupational Diseases',\n",
        "    'Chemically-Induced Disorders', 'Wounds and Injuries']\n",
        "\n",
        "disease_type_set = set(disease_type)\n",
        "disease_type_lower = set(dt.lower() for dt in disease_type)\n",
        "\n",
        "# 2. Define parsing functions\n",
        "# def parse_ancestors(entry):\n",
        "#     if isinstance(entry, str):\n",
        "#         try:\n",
        "#             return ast.literal_eval(entry)\n",
        "#         except (ValueError, SyntaxError) as e:\n",
        "#             print(f\"Parsing error: {e} for entry: {entry[:50]}...\")\n",
        "#             return []\n",
        "#     else:\n",
        "#         return []\n",
        "\n",
        "# def extract_disease_terms(ancestors, disease_type_set):\n",
        "#     if not isinstance(ancestors, list):\n",
        "#         return []\n",
        "#     return [entry.get('term') for entry in ancestors if entry.get('term') in disease_type_set]\n",
        "\n",
        "# def extract_unique_sorted_terms(ancestors, disease_type_set):\n",
        "#     if not isinstance(ancestors, list):\n",
        "#         return []\n",
        "#     filtered_terms = {entry.get('term') for entry in ancestors if entry.get('term') in disease_type_set}\n",
        "#     return sorted(filtered_terms)\n",
        "\n",
        "# def extract_disease_terms_case_insensitive(ancestors, disease_type_lower_set):\n",
        "#     if not isinstance(ancestors, list):\n",
        "#         return []\n",
        "#     return [entry.get('term') for entry in ancestors if entry.get('term', '').lower() in disease_type_lower_set]\n",
        "\n",
        "# df['parsed_ancestors'] = df['conditionBrowseModule_ancestors'].apply(parse_ancestors)\n",
        "\n",
        "# df['selected_disease_names'] = df['parsed_ancestors'].apply(lambda x: extract_unique_sorted_terms(x, disease_type_set))\n",
        "\n",
        "# df.drop(columns=['parsed_ancestors'], inplace=True)\n",
        "\n",
        "# print(df[['conditionBrowseModule_ancestors', 'selected_disease_names']].head())\n",
        "def extract_unique_sorted_terms(ancestors, disease_type_set):\n",
        "    if isinstance(ancestors, np.ndarray):  # Convert NumPy arrays to Python lists\n",
        "        ancestors = ancestors.tolist()\n",
        "\n",
        "    if not isinstance(ancestors, list):  # Ensure it's a list\n",
        "        print(f\"Unexpected data format: {type(ancestors)} - {ancestors}\")\n",
        "        return []\n",
        "\n",
        "    filtered_terms = {entry.get('term') for entry in ancestors if isinstance(entry, dict) and entry.get('term') in disease_type_set}\n",
        "\n",
        "    if not filtered_terms:  # Log empty results for debugging\n",
        "        print(f\"No matches found in: {ancestors}\")\n",
        "\n",
        "    return sorted(filtered_terms)\n",
        "\n",
        "# Apply function\n",
        "df['selected_disease_names'] = df['conditionBrowseModule_ancestors'].apply(lambda x: extract_unique_sorted_terms(x, disease_type_set))"
      ]
    },
    {
      "cell_type": "code",
      "execution_count": 33,
      "metadata": {
        "id": "wNamoJPZU6bc",
        "outputId": "8714c5c3-40c0-4208-cd3f-8e8c4c8211a6"
      },
      "outputs": [
        {
          "output_type": "execute_result",
          "data": {
            "text/plain": "        Infections  Neoplasms  Musculoskeletal Diseases  \\\n0                0          0                         0   \n1                0          0                         0   \n2                0          0                         0   \n3                1          1                         0   \n4                0          0                         0   \n...            ...        ...                       ...   \n263443           0          0                         0   \n263444           1          0                         0   \n263445           0          1                         0   \n263446           0          0                         0   \n263447           0          0                         0   \n\n        Digestive System Diseases  Stomatognathic Diseases  \\\n0                               0                        0   \n1                               0                        0   \n2                               0                        0   \n3                               0                        0   \n4                               0                        0   \n...                           ...                      ...   \n263443                          0                        0   \n263444                          0                        0   \n263445                          0                        0   \n263446                          0                        0   \n263447                          1                        0   \n\n        Respiratory Tract Diseases  Otorhinolaryngologic Diseases  \\\n0                                0                              0   \n1                                0                              0   \n2                                1                              0   \n3                                0                              0   \n4                                0                              0   \n...                            ...                            ...   \n263443                           0                              0   \n263444                           0                              0   \n263445                           0                              0   \n263446                           0                              0   \n263447                           0                              1   \n\n        Nervous System Diseases  Eye Diseases  Urogenital Diseases  ...  \\\n0                             0             0                    0  ...   \n1                             0             0                    0  ...   \n2                             0             0                    0  ...   \n3                             0             0                    0  ...   \n4                             0             0                    0  ...   \n...                         ...           ...                  ...  ...   \n263443                        0             0                    0  ...   \n263444                        0             0                    1  ...   \n263445                        0             0                    0  ...   \n263446                        0             0                    0  ...   \n263447                        0             0                    0  ...   \n\n        Skin and Connective Tissue Diseases  \\\n0                                         0   \n1                                         0   \n2                                         0   \n3                                         0   \n4                                         0   \n...                                     ...   \n263443                                    0   \n263444                                    0   \n263445                                    0   \n263446                                    0   \n263447                                    0   \n\n        Nutritional and Metabolic Diseases  Endocrine System Diseases  \\\n0                                        0                          0   \n1                                        0                          0   \n2                                        0                          0   \n3                                        0                          0   \n4                                        0                          0   \n...                                    ...                        ...   \n263443                                   0                          0   \n263444                                   0                          0   \n263445                                   0                          0   \n263446                                   0                          0   \n263447                                   0                          0   \n\n        Immune System Diseases  Disorders of Environmental Origin  \\\n0                            0                                  0   \n1                            0                                  0   \n2                            0                                  0   \n3                            1                                  0   \n4                            0                                  0   \n...                        ...                                ...   \n263443                       0                                  0   \n263444                       1                                  0   \n263445                       1                                  0   \n263446                       0                                  0   \n263447                       0                                  0   \n\n        Animal Diseases  Pathological Conditions, Signs and Symptoms  \\\n0                     0                                            0   \n1                     0                                            0   \n2                     0                                            0   \n3                     0                                            0   \n4                     0                                            0   \n...                 ...                                          ...   \n263443                0                                            0   \n263444                0                                            0   \n263445                0                                            0   \n263446                0                                            0   \n263447                0                                            0   \n\n        Occupational Diseases  Chemically-Induced Disorders  \\\n0                           0                             0   \n1                           0                             0   \n2                           0                             0   \n3                           0                             0   \n4                           0                             0   \n...                       ...                           ...   \n263443                      0                             0   \n263444                      0                             0   \n263445                      0                             0   \n263446                      0                             0   \n263447                      0                             0   \n\n        Wounds and Injuries  \n0                         0  \n1                         0  \n2                         0  \n3                         0  \n4                         0  \n...                     ...  \n263443                    0  \n263444                    0  \n263445                    0  \n263446                    0  \n263447                    0  \n\n[263448 rows x 23 columns]",
            "text/html": "<div>\n<style scoped>\n    .dataframe tbody tr th:only-of-type {\n        vertical-align: middle;\n    }\n\n    .dataframe tbody tr th {\n        vertical-align: top;\n    }\n\n    .dataframe thead th {\n        text-align: right;\n    }\n</style>\n<table border=\"1\" class=\"dataframe\">\n  <thead>\n    <tr style=\"text-align: right;\">\n      <th></th>\n      <th>Infections</th>\n      <th>Neoplasms</th>\n      <th>Musculoskeletal Diseases</th>\n      <th>Digestive System Diseases</th>\n      <th>Stomatognathic Diseases</th>\n      <th>Respiratory Tract Diseases</th>\n      <th>Otorhinolaryngologic Diseases</th>\n      <th>Nervous System Diseases</th>\n      <th>Eye Diseases</th>\n      <th>Urogenital Diseases</th>\n      <th>...</th>\n      <th>Skin and Connective Tissue Diseases</th>\n      <th>Nutritional and Metabolic Diseases</th>\n      <th>Endocrine System Diseases</th>\n      <th>Immune System Diseases</th>\n      <th>Disorders of Environmental Origin</th>\n      <th>Animal Diseases</th>\n      <th>Pathological Conditions, Signs and Symptoms</th>\n      <th>Occupational Diseases</th>\n      <th>Chemically-Induced Disorders</th>\n      <th>Wounds and Injuries</th>\n    </tr>\n  </thead>\n  <tbody>\n    <tr>\n      <th>0</th>\n      <td>0</td>\n      <td>0</td>\n      <td>0</td>\n      <td>0</td>\n      <td>0</td>\n      <td>0</td>\n      <td>0</td>\n      <td>0</td>\n      <td>0</td>\n      <td>0</td>\n      <td>...</td>\n      <td>0</td>\n      <td>0</td>\n      <td>0</td>\n      <td>0</td>\n      <td>0</td>\n      <td>0</td>\n      <td>0</td>\n      <td>0</td>\n      <td>0</td>\n      <td>0</td>\n    </tr>\n    <tr>\n      <th>1</th>\n      <td>0</td>\n      <td>0</td>\n      <td>0</td>\n      <td>0</td>\n      <td>0</td>\n      <td>0</td>\n      <td>0</td>\n      <td>0</td>\n      <td>0</td>\n      <td>0</td>\n      <td>...</td>\n      <td>0</td>\n      <td>0</td>\n      <td>0</td>\n      <td>0</td>\n      <td>0</td>\n      <td>0</td>\n      <td>0</td>\n      <td>0</td>\n      <td>0</td>\n      <td>0</td>\n    </tr>\n    <tr>\n      <th>2</th>\n      <td>0</td>\n      <td>0</td>\n      <td>0</td>\n      <td>0</td>\n      <td>0</td>\n      <td>1</td>\n      <td>0</td>\n      <td>0</td>\n      <td>0</td>\n      <td>0</td>\n      <td>...</td>\n      <td>0</td>\n      <td>0</td>\n      <td>0</td>\n      <td>0</td>\n      <td>0</td>\n      <td>0</td>\n      <td>0</td>\n      <td>0</td>\n      <td>0</td>\n      <td>0</td>\n    </tr>\n    <tr>\n      <th>3</th>\n      <td>1</td>\n      <td>1</td>\n      <td>0</td>\n      <td>0</td>\n      <td>0</td>\n      <td>0</td>\n      <td>0</td>\n      <td>0</td>\n      <td>0</td>\n      <td>0</td>\n      <td>...</td>\n      <td>0</td>\n      <td>0</td>\n      <td>0</td>\n      <td>1</td>\n      <td>0</td>\n      <td>0</td>\n      <td>0</td>\n      <td>0</td>\n      <td>0</td>\n      <td>0</td>\n    </tr>\n    <tr>\n      <th>4</th>\n      <td>0</td>\n      <td>0</td>\n      <td>0</td>\n      <td>0</td>\n      <td>0</td>\n      <td>0</td>\n      <td>0</td>\n      <td>0</td>\n      <td>0</td>\n      <td>0</td>\n      <td>...</td>\n      <td>0</td>\n      <td>0</td>\n      <td>0</td>\n      <td>0</td>\n      <td>0</td>\n      <td>0</td>\n      <td>0</td>\n      <td>0</td>\n      <td>0</td>\n      <td>0</td>\n    </tr>\n    <tr>\n      <th>...</th>\n      <td>...</td>\n      <td>...</td>\n      <td>...</td>\n      <td>...</td>\n      <td>...</td>\n      <td>...</td>\n      <td>...</td>\n      <td>...</td>\n      <td>...</td>\n      <td>...</td>\n      <td>...</td>\n      <td>...</td>\n      <td>...</td>\n      <td>...</td>\n      <td>...</td>\n      <td>...</td>\n      <td>...</td>\n      <td>...</td>\n      <td>...</td>\n      <td>...</td>\n      <td>...</td>\n    </tr>\n    <tr>\n      <th>263443</th>\n      <td>0</td>\n      <td>0</td>\n      <td>0</td>\n      <td>0</td>\n      <td>0</td>\n      <td>0</td>\n      <td>0</td>\n      <td>0</td>\n      <td>0</td>\n      <td>0</td>\n      <td>...</td>\n      <td>0</td>\n      <td>0</td>\n      <td>0</td>\n      <td>0</td>\n      <td>0</td>\n      <td>0</td>\n      <td>0</td>\n      <td>0</td>\n      <td>0</td>\n      <td>0</td>\n    </tr>\n    <tr>\n      <th>263444</th>\n      <td>1</td>\n      <td>0</td>\n      <td>0</td>\n      <td>0</td>\n      <td>0</td>\n      <td>0</td>\n      <td>0</td>\n      <td>0</td>\n      <td>0</td>\n      <td>1</td>\n      <td>...</td>\n      <td>0</td>\n      <td>0</td>\n      <td>0</td>\n      <td>1</td>\n      <td>0</td>\n      <td>0</td>\n      <td>0</td>\n      <td>0</td>\n      <td>0</td>\n      <td>0</td>\n    </tr>\n    <tr>\n      <th>263445</th>\n      <td>0</td>\n      <td>1</td>\n      <td>0</td>\n      <td>0</td>\n      <td>0</td>\n      <td>0</td>\n      <td>0</td>\n      <td>0</td>\n      <td>0</td>\n      <td>0</td>\n      <td>...</td>\n      <td>0</td>\n      <td>0</td>\n      <td>0</td>\n      <td>1</td>\n      <td>0</td>\n      <td>0</td>\n      <td>0</td>\n      <td>0</td>\n      <td>0</td>\n      <td>0</td>\n    </tr>\n    <tr>\n      <th>263446</th>\n      <td>0</td>\n      <td>0</td>\n      <td>0</td>\n      <td>0</td>\n      <td>0</td>\n      <td>0</td>\n      <td>0</td>\n      <td>0</td>\n      <td>0</td>\n      <td>0</td>\n      <td>...</td>\n      <td>0</td>\n      <td>0</td>\n      <td>0</td>\n      <td>0</td>\n      <td>0</td>\n      <td>0</td>\n      <td>0</td>\n      <td>0</td>\n      <td>0</td>\n      <td>0</td>\n    </tr>\n    <tr>\n      <th>263447</th>\n      <td>0</td>\n      <td>0</td>\n      <td>0</td>\n      <td>1</td>\n      <td>0</td>\n      <td>0</td>\n      <td>1</td>\n      <td>0</td>\n      <td>0</td>\n      <td>0</td>\n      <td>...</td>\n      <td>0</td>\n      <td>0</td>\n      <td>0</td>\n      <td>0</td>\n      <td>0</td>\n      <td>0</td>\n      <td>0</td>\n      <td>0</td>\n      <td>0</td>\n      <td>0</td>\n    </tr>\n  </tbody>\n</table>\n<p>263448 rows × 23 columns</p>\n</div>"
          },
          "metadata": {},
          "execution_count": 33
        }
      ],
      "source": [
        "from sklearn.preprocessing import MultiLabelBinarizer\n",
        "\n",
        "mlb = MultiLabelBinarizer(classes=disease_type)\n",
        "dummies = pd.DataFrame(mlb.fit_transform(df['selected_disease_names']),\n",
        "                       columns=mlb.classes_,\n",
        "                       index=df.index)\n",
        "dummies"
      ]
    },
    {
      "cell_type": "code",
      "execution_count": 34,
      "metadata": {},
      "outputs": [],
      "source": [
        "df = df.drop(columns=['selected_disease_names', 'conditionBrowseModule_ancestors'])"
      ]
    },
    {
      "cell_type": "code",
      "execution_count": 35,
      "metadata": {
        "id": "JQXlltxsU6bc"
      },
      "outputs": [],
      "source": [
        "df= pd.concat([df, dummies], axis=1)"
      ]
    },
    {
      "cell_type": "code",
      "execution_count": 36,
      "metadata": {
        "id": "9bX5PsdnU6bc",
        "outputId": "8c678408-716e-418f-af14-9ccef8929c42",
        "tags": []
      },
      "outputs": [
        {
          "output_type": "stream",
          "name": "stdout",
          "text": "0            []\n1            []\n2       [OTHER]\n3            []\n4            []\n5            []\n6            []\n7       [OTHER]\n8    [INDUSTRY]\n9       [OTHER]\nName: collaborator_classes, dtype: object\n"
        }
      ],
      "source": [
        "def extract_classes(collaborators_entry):\n",
        "    \"\"\"\n",
        "    Extracts 'class' values from the collaborators entry.\n",
        "\n",
        "    Parameters:\n",
        "    - collaborators_entry (str, list, or np.ndarray): A list of dictionaries or an array.\n",
        "\n",
        "    Returns:\n",
        "    - list: A list of 'class' values. Returns an empty list if input is invalid or missing.\n",
        "    \"\"\"\n",
        "    if isinstance(collaborators_entry, float) and pd.isna(collaborators_entry):  # Handle NaN values\n",
        "        return []\n",
        "\n",
        "    if isinstance(collaborators_entry, np.ndarray):  # Convert NumPy arrays to lists\n",
        "        collaborators_entry = collaborators_entry.tolist()\n",
        "\n",
        "    if isinstance(collaborators_entry, list):  # Ensure it's a list\n",
        "        class_list = [entry.get('class') for entry in collaborators_entry if isinstance(entry, dict) and 'class' in entry]\n",
        "        return class_list if class_list else []  # Ensure output is a list\n",
        "\n",
        "    return []  # Default case for unexpected types\n",
        "\n",
        "# Apply function with `.loc` to avoid SettingWithCopyWarning\n",
        "df.loc[:, 'collaborator_classes'] = df['sponsorCollaboratorsModule_collaborators'].apply(extract_classes)\n",
        "\n",
        "# Check the results\n",
        "print(df['collaborator_classes'].head(10))"
      ]
    },
    {
      "cell_type": "code",
      "execution_count": 37,
      "metadata": {
        "tags": [],
        "id": "EEKt2KqTU6bd",
        "outputId": "cdde517c-ae8d-467d-9941-2069af8f4e23"
      },
      "outputs": [
        {
          "output_type": "stream",
          "name": "stdout",
          "text": "Unique Classes: ['AMBIG', 'FED', 'INDIV', 'INDUSTRY', 'NETWORK', 'NIH', 'OTHER', 'OTHER_GOV', 'UNKNOWN']\n"
        },
        {
          "output_type": "execute_result",
          "data": {
            "text/plain": "        collaborator_AMBIG  collaborator_FED  collaborator_INDIV  \\\n0                        0                 0                   0   \n1                        0                 0                   0   \n2                        0                 0                   0   \n3                        0                 0                   0   \n4                        0                 0                   0   \n...                    ...               ...                 ...   \n263443                   0                 0                   0   \n263444                   0                 0                   0   \n263445                   0                 0                   0   \n263446                   0                 0                   0   \n263447                   0                 0                   0   \n\n        collaborator_INDUSTRY  collaborator_NETWORK  collaborator_NIH  \\\n0                           0                     0                 0   \n1                           0                     0                 0   \n2                           0                     0                 0   \n3                           0                     0                 0   \n4                           0                     0                 0   \n...                       ...                   ...               ...   \n263443                      0                     0                 0   \n263444                      0                     0                 0   \n263445                      1                     0                 1   \n263446                      0                     0                 0   \n263447                      1                     0                 0   \n\n        collaborator_OTHER  collaborator_OTHER_GOV  collaborator_UNKNOWN  \n0                        0                       0                     0  \n1                        0                       0                     0  \n2                        1                       0                     0  \n3                        0                       0                     0  \n4                        0                       0                     0  \n...                    ...                     ...                   ...  \n263443                   0                       0                     0  \n263444                   0                       0                     0  \n263445                   0                       0                     0  \n263446                   0                       0                     0  \n263447                   0                       0                     0  \n\n[263448 rows x 9 columns]",
            "text/html": "<div>\n<style scoped>\n    .dataframe tbody tr th:only-of-type {\n        vertical-align: middle;\n    }\n\n    .dataframe tbody tr th {\n        vertical-align: top;\n    }\n\n    .dataframe thead th {\n        text-align: right;\n    }\n</style>\n<table border=\"1\" class=\"dataframe\">\n  <thead>\n    <tr style=\"text-align: right;\">\n      <th></th>\n      <th>collaborator_AMBIG</th>\n      <th>collaborator_FED</th>\n      <th>collaborator_INDIV</th>\n      <th>collaborator_INDUSTRY</th>\n      <th>collaborator_NETWORK</th>\n      <th>collaborator_NIH</th>\n      <th>collaborator_OTHER</th>\n      <th>collaborator_OTHER_GOV</th>\n      <th>collaborator_UNKNOWN</th>\n    </tr>\n  </thead>\n  <tbody>\n    <tr>\n      <th>0</th>\n      <td>0</td>\n      <td>0</td>\n      <td>0</td>\n      <td>0</td>\n      <td>0</td>\n      <td>0</td>\n      <td>0</td>\n      <td>0</td>\n      <td>0</td>\n    </tr>\n    <tr>\n      <th>1</th>\n      <td>0</td>\n      <td>0</td>\n      <td>0</td>\n      <td>0</td>\n      <td>0</td>\n      <td>0</td>\n      <td>0</td>\n      <td>0</td>\n      <td>0</td>\n    </tr>\n    <tr>\n      <th>2</th>\n      <td>0</td>\n      <td>0</td>\n      <td>0</td>\n      <td>0</td>\n      <td>0</td>\n      <td>0</td>\n      <td>1</td>\n      <td>0</td>\n      <td>0</td>\n    </tr>\n    <tr>\n      <th>3</th>\n      <td>0</td>\n      <td>0</td>\n      <td>0</td>\n      <td>0</td>\n      <td>0</td>\n      <td>0</td>\n      <td>0</td>\n      <td>0</td>\n      <td>0</td>\n    </tr>\n    <tr>\n      <th>4</th>\n      <td>0</td>\n      <td>0</td>\n      <td>0</td>\n      <td>0</td>\n      <td>0</td>\n      <td>0</td>\n      <td>0</td>\n      <td>0</td>\n      <td>0</td>\n    </tr>\n    <tr>\n      <th>...</th>\n      <td>...</td>\n      <td>...</td>\n      <td>...</td>\n      <td>...</td>\n      <td>...</td>\n      <td>...</td>\n      <td>...</td>\n      <td>...</td>\n      <td>...</td>\n    </tr>\n    <tr>\n      <th>263443</th>\n      <td>0</td>\n      <td>0</td>\n      <td>0</td>\n      <td>0</td>\n      <td>0</td>\n      <td>0</td>\n      <td>0</td>\n      <td>0</td>\n      <td>0</td>\n    </tr>\n    <tr>\n      <th>263444</th>\n      <td>0</td>\n      <td>0</td>\n      <td>0</td>\n      <td>0</td>\n      <td>0</td>\n      <td>0</td>\n      <td>0</td>\n      <td>0</td>\n      <td>0</td>\n    </tr>\n    <tr>\n      <th>263445</th>\n      <td>0</td>\n      <td>0</td>\n      <td>0</td>\n      <td>1</td>\n      <td>0</td>\n      <td>1</td>\n      <td>0</td>\n      <td>0</td>\n      <td>0</td>\n    </tr>\n    <tr>\n      <th>263446</th>\n      <td>0</td>\n      <td>0</td>\n      <td>0</td>\n      <td>0</td>\n      <td>0</td>\n      <td>0</td>\n      <td>0</td>\n      <td>0</td>\n      <td>0</td>\n    </tr>\n    <tr>\n      <th>263447</th>\n      <td>0</td>\n      <td>0</td>\n      <td>0</td>\n      <td>1</td>\n      <td>0</td>\n      <td>0</td>\n      <td>0</td>\n      <td>0</td>\n      <td>0</td>\n    </tr>\n  </tbody>\n</table>\n<p>263448 rows × 9 columns</p>\n</div>"
          },
          "metadata": {},
          "execution_count": 37
        }
      ],
      "source": [
        "from sklearn.preprocessing import MultiLabelBinarizer\n",
        "\n",
        "unique_classes = set(\n",
        "    class_name\n",
        "    for sublist in df['collaborator_classes'].dropna()\n",
        "    for class_name in sublist\n",
        ")\n",
        "\n",
        "# Optional: Sort the classes for consistency\n",
        "predefined_classes = sorted(unique_classes)\n",
        "\n",
        "print(\"Unique Classes:\", predefined_classes)\n",
        "\n",
        "# Step 2: Replace NaN with empty lists\n",
        "df['collaborator_classes'] = df['collaborator_classes'].apply(\n",
        "    lambda x: x if isinstance(x, list) else []\n",
        ")\n",
        "\n",
        "# Step 3: Initialize MultiLabelBinarizer with predefined classes\n",
        "mlb = MultiLabelBinarizer(classes=predefined_classes)\n",
        "\n",
        "# Step 4: Fit and transform the 'collaborator_classes' column\n",
        "dummies = pd.DataFrame(\n",
        "    mlb.fit_transform(df['collaborator_classes']),\n",
        "    columns=mlb.classes_,\n",
        "    index=df.index\n",
        ")\n",
        "\n",
        "rename_dict = {col: f'collaborator_{col}' for col in dummies.columns}\n",
        "\n",
        "# Rename the columns\n",
        "dummies = dummies.rename(columns=rename_dict)\n",
        "\n",
        "dummies"
      ]
    },
    {
      "cell_type": "code",
      "execution_count": 38,
      "metadata": {
        "id": "DGSv9i1vU6bd"
      },
      "outputs": [],
      "source": [
        "df = pd.concat([df, dummies], axis=1)\n",
        "df = df.drop(columns=['sponsorCollaboratorsModule_collaborators','collaborator_classes'])"
      ]
    },
    {
      "cell_type": "markdown",
      "source": [
        "Match the intervention names into broader Mesh terms"
      ],
      "metadata": {
        "id": "jZhs0b4eK4e7"
      }
    },
    {
      "cell_type": "code",
      "execution_count": 39,
      "metadata": {
        "id": "oE15AH1hU6be",
        "outputId": "cf459bff-33d1-4f0c-813d-9621ce27753d",
        "tags": []
      },
      "outputs": [],
      "source": [
        "def extract_d_ids(mesh_list):\n",
        "    if isinstance(mesh_list, float) and pd.isna(mesh_list):  # Handle NaN values\n",
        "        return []\n",
        "\n",
        "    if isinstance(mesh_list, np.ndarray):  # Convert NumPy arrays to lists\n",
        "        mesh_list = mesh_list.tolist()\n",
        "\n",
        "    if isinstance(mesh_list, list):  # Process valid lists directly\n",
        "        return [item['id'] for item in mesh_list if isinstance(item, dict) and 'id' in item and item['id'].startswith('D')]\n",
        "\n",
        "    if isinstance(mesh_list, str):  # Convert string to a Python object\n",
        "        try:\n",
        "            parsed_list = ast.literal_eval(mesh_list)\n",
        "            if isinstance(parsed_list, list):\n",
        "                return [item['id'] for item in parsed_list if isinstance(item, dict) and 'id' in item and item['id'].startswith('D')]\n",
        "        except (SyntaxError, ValueError):\n",
        "            return []\n",
        "\n",
        "    return []  # Default case for unexpected formats\n",
        "\n",
        "# Apply function\n",
        "df['interventions_mesh_ids'] = df['interventionBrowseModule_meshes'].apply(extract_d_ids)"
      ]
    },
    {
      "cell_type": "code",
      "execution_count": 44,
      "metadata": {
        "tags": [],
        "id": "nneiMvMTU6bf",
        "outputId": "e7b1402b-1b4f-487c-a752-91630e96870c"
      },
      "outputs": [
        {
          "output_type": "stream",
          "name": "stdout",
          "text": "Processed 1000/263448 rows...\nProcessed 1500/263448 rows...\nProcessed 2500/263448 rows...\nProcessed 3500/263448 rows...\nProcessed 5000/263448 rows...\nProcessed 5500/263448 rows...\nProcessed 8000/263448 rows...\nProcessed 9500/263448 rows...\nProcessed 10000/263448 rows...\nProcessed 11000/263448 rows...\nProcessed 13000/263448 rows...\nProcessed 14000/263448 rows...\nProcessed 15500/263448 rows...\nProcessed 16000/263448 rows...\nProcessed 17000/263448 rows...\nProcessed 18000/263448 rows...\nProcessed 18500/263448 rows...\nProcessed 20000/263448 rows...\nProcessed 21000/263448 rows...\nProcessed 23500/263448 rows...\nProcessed 24500/263448 rows...\nProcessed 26500/263448 rows...\nProcessed 27000/263448 rows...\nProcessed 28000/263448 rows...\nProcessed 31000/263448 rows...\nProcessed 32000/263448 rows...\nProcessed 32500/263448 rows...\nProcessed 34500/263448 rows...\nProcessed 35000/263448 rows...\nProcessed 36500/263448 rows...\nProcessed 37000/263448 rows...\nProcessed 37500/263448 rows...\nProcessed 41500/263448 rows...\nProcessed 44500/263448 rows...\nProcessed 45000/263448 rows...\nProcessed 45500/263448 rows...\nProcessed 46000/263448 rows...\nProcessed 48000/263448 rows...\nProcessed 48500/263448 rows...\nProcessed 49000/263448 rows...\nProcessed 49500/263448 rows...\nProcessed 52000/263448 rows...\nProcessed 53000/263448 rows...\nProcessed 53500/263448 rows...\nProcessed 56500/263448 rows...\nProcessed 57500/263448 rows...\nProcessed 59000/263448 rows...\nProcessed 61000/263448 rows...\nProcessed 65000/263448 rows...\nProcessed 65500/263448 rows...\nProcessed 66000/263448 rows...\nProcessed 66500/263448 rows...\nProcessed 67500/263448 rows...\nProcessed 69000/263448 rows...\nProcessed 69500/263448 rows...\nProcessed 70000/263448 rows...\nProcessed 74000/263448 rows...\nProcessed 75000/263448 rows...\nProcessed 77000/263448 rows...\nProcessed 78000/263448 rows...\nProcessed 80000/263448 rows...\nProcessed 86500/263448 rows...\nProcessed 87500/263448 rows...\nProcessed 88000/263448 rows...\nProcessed 88500/263448 rows...\nProcessed 89000/263448 rows...\nProcessed 90000/263448 rows...\nProcessed 91000/263448 rows...\nProcessed 93000/263448 rows...\nProcessed 95500/263448 rows...\nProcessed 97000/263448 rows...\nProcessed 99000/263448 rows...\nProcessed 100500/263448 rows...\nProcessed 101500/263448 rows...\nProcessed 104000/263448 rows...\nProcessed 107500/263448 rows...\nProcessed 108500/263448 rows...\nProcessed 109000/263448 rows...\nProcessed 111500/263448 rows...\nProcessed 112000/263448 rows...\nProcessed 113000/263448 rows...\nProcessed 114500/263448 rows...\nProcessed 115000/263448 rows...\nProcessed 116000/263448 rows...\nProcessed 116500/263448 rows...\nProcessed 117000/263448 rows...\nProcessed 117500/263448 rows...\nProcessed 121000/263448 rows...\nProcessed 121500/263448 rows...\nProcessed 124000/263448 rows...\nProcessed 124500/263448 rows...\nProcessed 125500/263448 rows...\nProcessed 126500/263448 rows...\nProcessed 128000/263448 rows...\nProcessed 129500/263448 rows...\nProcessed 130000/263448 rows...\nProcessed 130500/263448 rows...\nProcessed 132000/263448 rows...\nProcessed 133000/263448 rows...\nProcessed 134000/263448 rows...\nProcessed 137500/263448 rows...\nProcessed 138000/263448 rows...\nProcessed 138500/263448 rows...\nProcessed 142000/263448 rows...\nProcessed 143500/263448 rows...\nProcessed 144500/263448 rows...\nProcessed 145500/263448 rows...\nProcessed 147000/263448 rows...\nProcessed 149500/263448 rows...\nProcessed 150000/263448 rows...\nProcessed 151000/263448 rows...\nProcessed 153500/263448 rows...\nProcessed 156500/263448 rows...\nProcessed 158500/263448 rows...\nProcessed 159000/263448 rows...\nProcessed 159500/263448 rows...\nProcessed 160000/263448 rows...\nProcessed 160500/263448 rows...\nProcessed 161000/263448 rows...\nProcessed 161500/263448 rows...\nProcessed 164000/263448 rows...\nProcessed 166500/263448 rows...\nProcessed 168000/263448 rows...\nProcessed 168500/263448 rows...\nProcessed 170000/263448 rows...\nProcessed 171000/263448 rows...\nProcessed 173000/263448 rows...\nProcessed 173500/263448 rows...\nProcessed 174000/263448 rows...\nProcessed 177000/263448 rows...\nProcessed 177500/263448 rows...\nProcessed 178000/263448 rows...\nProcessed 179000/263448 rows...\nProcessed 180000/263448 rows...\nProcessed 181000/263448 rows...\nProcessed 181500/263448 rows...\nProcessed 183000/263448 rows...\nProcessed 183500/263448 rows...\nProcessed 186500/263448 rows...\nProcessed 188500/263448 rows...\nProcessed 191000/263448 rows...\nProcessed 193000/263448 rows...\nProcessed 196000/263448 rows...\nProcessed 197500/263448 rows...\nProcessed 199000/263448 rows...\nProcessed 199500/263448 rows...\nProcessed 202000/263448 rows...\nProcessed 203000/263448 rows...\nProcessed 204000/263448 rows...\nProcessed 204500/263448 rows...\nProcessed 205000/263448 rows...\nProcessed 206000/263448 rows...\nProcessed 206500/263448 rows...\nProcessed 208000/263448 rows...\nProcessed 209000/263448 rows...\nProcessed 210500/263448 rows...\nProcessed 212000/263448 rows...\nProcessed 212500/263448 rows...\nProcessed 214000/263448 rows...\nProcessed 215500/263448 rows...\nProcessed 218000/263448 rows...\nProcessed 218500/263448 rows...\nProcessed 219000/263448 rows...\nProcessed 220000/263448 rows...\nProcessed 225000/263448 rows...\nProcessed 227500/263448 rows...\nProcessed 230000/263448 rows...\nProcessed 230500/263448 rows...\nProcessed 231500/263448 rows...\nProcessed 232500/263448 rows...\nProcessed 234500/263448 rows...\nProcessed 235500/263448 rows...\nProcessed 237500/263448 rows...\nProcessed 238000/263448 rows...\nProcessed 240000/263448 rows...\nProcessed 240500/263448 rows...\nProcessed 243000/263448 rows...\nProcessed 244000/263448 rows...\nProcessed 247500/263448 rows...\nProcessed 249000/263448 rows...\nProcessed 249500/263448 rows...\nProcessed 251000/263448 rows...\nProcessed 253000/263448 rows...\nProcessed 253500/263448 rows...\nProcessed 254000/263448 rows...\nProcessed 255500/263448 rows...\nProcessed 256500/263448 rows...\nProcessed 258500/263448 rows...\nProcessed 260000/263448 rows...\nProcessed 260500/263448 rows...\nProcessed 261500/263448 rows...\nProcessed 263000/263448 rows...\n"
        },
        {
          "output_type": "execute_result",
          "data": {
            "text/plain": "          interventions_mesh_ids             tree_numbers\n0                             []           No tree number\n1                             []           No tree number\n2                             []           No tree number\n3                             []           No tree number\n4                             []           No tree number\n...                          ...                      ...\n263443                        []           No tree number\n263444  [D000069446, D000069545]  D02, D03, D12, D13, D26\n263445                        []           No tree number\n263446                 [D015283]                 D02, D03\n263447                        []           No tree number\n\n[263448 rows x 2 columns]",
            "text/html": "<div>\n<style scoped>\n    .dataframe tbody tr th:only-of-type {\n        vertical-align: middle;\n    }\n\n    .dataframe tbody tr th {\n        vertical-align: top;\n    }\n\n    .dataframe thead th {\n        text-align: right;\n    }\n</style>\n<table border=\"1\" class=\"dataframe\">\n  <thead>\n    <tr style=\"text-align: right;\">\n      <th></th>\n      <th>interventions_mesh_ids</th>\n      <th>tree_numbers</th>\n    </tr>\n  </thead>\n  <tbody>\n    <tr>\n      <th>0</th>\n      <td>[]</td>\n      <td>No tree number</td>\n    </tr>\n    <tr>\n      <th>1</th>\n      <td>[]</td>\n      <td>No tree number</td>\n    </tr>\n    <tr>\n      <th>2</th>\n      <td>[]</td>\n      <td>No tree number</td>\n    </tr>\n    <tr>\n      <th>3</th>\n      <td>[]</td>\n      <td>No tree number</td>\n    </tr>\n    <tr>\n      <th>4</th>\n      <td>[]</td>\n      <td>No tree number</td>\n    </tr>\n    <tr>\n      <th>...</th>\n      <td>...</td>\n      <td>...</td>\n    </tr>\n    <tr>\n      <th>263443</th>\n      <td>[]</td>\n      <td>No tree number</td>\n    </tr>\n    <tr>\n      <th>263444</th>\n      <td>[D000069446, D000069545]</td>\n      <td>D02, D03, D12, D13, D26</td>\n    </tr>\n    <tr>\n      <th>263445</th>\n      <td>[]</td>\n      <td>No tree number</td>\n    </tr>\n    <tr>\n      <th>263446</th>\n      <td>[D015283]</td>\n      <td>D02, D03</td>\n    </tr>\n    <tr>\n      <th>263447</th>\n      <td>[]</td>\n      <td>No tree number</td>\n    </tr>\n  </tbody>\n</table>\n<p>263448 rows × 2 columns</p>\n</div>"
          },
          "metadata": {},
          "execution_count": 44
        }
      ],
      "source": [
        "import requests\n",
        "\n",
        "def get_mesh_tree_number(mesh_id):\n",
        "    def fetch_tree_numbers(id_format):\n",
        "        url = f\"https://id.nlm.nih.gov/mesh/{id_format}.json\"\n",
        "        response = requests.get(url)\n",
        "        if response.status_code == 200:\n",
        "            data = response.json()\n",
        "            tree_numbers = data.get('treeNumber', [])\n",
        "            if isinstance(tree_numbers, str):\n",
        "                tree_numbers = [tree_numbers.split('/')[-1]]\n",
        "            elif isinstance(tree_numbers, list):\n",
        "                tree_numbers = [tn.split('/')[-1] for tn in tree_numbers]\n",
        "            return tree_numbers\n",
        "        return []\n",
        "\n",
        "    # Try the original mesh_id first\n",
        "    tree_numbers = fetch_tree_numbers(mesh_id)\n",
        "\n",
        "    # If not found, try the shortened version (remove three zeros)\n",
        "    if not tree_numbers and mesh_id.startswith('D') and len(mesh_id) == 10:\n",
        "        shortened_id = mesh_id[:1] + mesh_id[4:]  # Remove extra zeros (D000017257 → D017257)\n",
        "        tree_numbers = fetch_tree_numbers(shortened_id)\n",
        "\n",
        "    # Extract only the first part of each tree number (e.g., D03, D10) and return unique values\n",
        "    first_parts = {tn.split('.')[0] for tn in tree_numbers}\n",
        "    return ', '.join(sorted(first_parts)) if first_parts else 'No tree number'\n",
        "\n",
        "# Function to process each list of IDs in the column and get all tree numbers\n",
        "def get_all_tree_numbers(id_list, row_index, total_rows):\n",
        "    if not isinstance(id_list, list) or len(id_list) == 0:\n",
        "        return 'No tree number'\n",
        "\n",
        "    tree_parts = set()\n",
        "    for mesh_id in id_list:\n",
        "        tree_numbers = get_mesh_tree_number(mesh_id)\n",
        "        if tree_numbers != 'No tree number':\n",
        "            tree_parts.update(tree_numbers.split(', '))  # Split and collect individual tree numbers\n",
        "\n",
        "    # Show progress after every 500 rows\n",
        "    if (row_index + 1) % 500 == 0:\n",
        "        print(f\"Processed {row_index + 1}/{total_rows} rows...\")\n",
        "\n",
        "    return ', '.join(sorted(tree_parts)) if tree_parts else 'No tree number'\n",
        "\n",
        "# Apply the function to the extracted_d_ids column\n",
        "# df['tree_numbers'] = df['interventions_mesh_ids'].apply(get_all_tree_numbers)\n",
        "\n",
        "total_rows = len(df)\n",
        "df['tree_numbers'] = [get_all_tree_numbers(id_list, idx, total_rows) for idx, id_list in enumerate(df['interventions_mesh_ids'])]\n",
        "# Display the updated DataFrame\n",
        "df[['interventions_mesh_ids', 'tree_numbers']]"
      ]
    },
    {
      "cell_type": "code",
      "execution_count": 45,
      "metadata": {},
      "outputs": [],
      "source": [
        "df1 = df"
      ]
    },
    {
      "cell_type": "code",
      "execution_count": 46,
      "metadata": {
        "colab": {
          "base_uri": "https://localhost:8080/",
          "height": 105
        },
        "id": "rWqjk8mcU6bf",
        "outputId": "1556d12d-ac93-4bc1-84be-e791b5d91f61"
      },
      "outputs": [
        {
          "output_type": "execute_result",
          "data": {
            "text/plain": "   Heterocyclic Compounds  Polycyclic Compounds  \\\n0                     0.0                   0.0   \n1                     0.0                   0.0   \n2                     0.0                   0.0   \n3                     0.0                   0.0   \n4                     0.0                   0.0   \n5                     0.0                   0.0   \n6                     1.0                   0.0   \n7                     0.0                   0.0   \n8                     0.0                   0.0   \n9                     0.0                   0.0   \n\n   Hormones, Hormone Substitutes, and Hormone Antagonists  \\\n0                                                0.0        \n1                                                0.0        \n2                                                0.0        \n3                                                0.0        \n4                                                0.0        \n5                                                0.0        \n6                                                0.0        \n7                                                0.0        \n8                                                0.0        \n9                                                0.0        \n\n   Chemical Actions and Uses   Organic Chemicals  Lipids  \\\n0                         0.0                0.0     0.0   \n1                         0.0                0.0     0.0   \n2                         0.0                0.0     0.0   \n3                         0.0                0.0     0.0   \n4                         0.0                0.0     0.0   \n5                         0.0                0.0     0.0   \n6                         0.0                0.0     0.0   \n7                         0.0                0.0     0.0   \n8                         0.0                0.0     0.0   \n9                         0.0                0.0     0.0   \n\n   Enzymes and Coenzymes  Amino Acids, Peptides, and Proteins  \\\n0                    0.0                                  0.0   \n1                    0.0                                  0.0   \n2                    0.0                                  0.0   \n3                    0.0                                  0.0   \n4                    0.0                                  0.0   \n5                    0.0                                  0.0   \n6                    0.0                                  0.0   \n7                    0.0                                  0.0   \n8                    0.0                                  0.0   \n9                    0.0                                  0.0   \n\n   Inorganic Chemicals  Biological Factors  Carbohydrates  \\\n0                  0.0                 0.0            0.0   \n1                  0.0                 0.0            0.0   \n2                  0.0                 0.0            0.0   \n3                  0.0                 0.0            0.0   \n4                  0.0                 0.0            0.0   \n5                  0.0                 0.0            0.0   \n6                  0.0                 0.0            0.0   \n7                  0.0                 0.0            0.0   \n8                  0.0                 0.0            0.0   \n9                  0.0                 0.0            0.0   \n\n   Pharmaceutical Preparations  Complex Mixtures  \\\n0                          0.0               0.0   \n1                          0.0               0.0   \n2                          0.0               0.0   \n3                          0.0               0.0   \n4                          0.0               0.0   \n5                          0.0               0.0   \n6                          0.0               0.0   \n7                          0.0               0.0   \n8                          0.0               0.0   \n9                          0.0               0.0   \n\n   Nucleic Acids, Nucleotides, and Nucleosides  \\\n0                                          0.0   \n1                                          0.0   \n2                                          0.0   \n3                                          0.0   \n4                                          0.0   \n5                                          0.0   \n6                                          0.0   \n7                                          0.0   \n8                                          0.0   \n9                                          0.0   \n\n   Biomedical and Dental Materials  Macromolecular Substances  \n0                              0.0                        0.0  \n1                              0.0                        0.0  \n2                              0.0                        0.0  \n3                              0.0                        0.0  \n4                              0.0                        0.0  \n5                              0.0                        0.0  \n6                              0.0                        0.0  \n7                              0.0                        0.0  \n8                              0.0                        0.0  \n9                              0.0                        0.0  ",
            "text/html": "<div>\n<style scoped>\n    .dataframe tbody tr th:only-of-type {\n        vertical-align: middle;\n    }\n\n    .dataframe tbody tr th {\n        vertical-align: top;\n    }\n\n    .dataframe thead th {\n        text-align: right;\n    }\n</style>\n<table border=\"1\" class=\"dataframe\">\n  <thead>\n    <tr style=\"text-align: right;\">\n      <th></th>\n      <th>Heterocyclic Compounds</th>\n      <th>Polycyclic Compounds</th>\n      <th>Hormones, Hormone Substitutes, and Hormone Antagonists</th>\n      <th>Chemical Actions and Uses</th>\n      <th>Organic Chemicals</th>\n      <th>Lipids</th>\n      <th>Enzymes and Coenzymes</th>\n      <th>Amino Acids, Peptides, and Proteins</th>\n      <th>Inorganic Chemicals</th>\n      <th>Biological Factors</th>\n      <th>Carbohydrates</th>\n      <th>Pharmaceutical Preparations</th>\n      <th>Complex Mixtures</th>\n      <th>Nucleic Acids, Nucleotides, and Nucleosides</th>\n      <th>Biomedical and Dental Materials</th>\n      <th>Macromolecular Substances</th>\n    </tr>\n  </thead>\n  <tbody>\n    <tr>\n      <th>0</th>\n      <td>0.0</td>\n      <td>0.0</td>\n      <td>0.0</td>\n      <td>0.0</td>\n      <td>0.0</td>\n      <td>0.0</td>\n      <td>0.0</td>\n      <td>0.0</td>\n      <td>0.0</td>\n      <td>0.0</td>\n      <td>0.0</td>\n      <td>0.0</td>\n      <td>0.0</td>\n      <td>0.0</td>\n      <td>0.0</td>\n      <td>0.0</td>\n    </tr>\n    <tr>\n      <th>1</th>\n      <td>0.0</td>\n      <td>0.0</td>\n      <td>0.0</td>\n      <td>0.0</td>\n      <td>0.0</td>\n      <td>0.0</td>\n      <td>0.0</td>\n      <td>0.0</td>\n      <td>0.0</td>\n      <td>0.0</td>\n      <td>0.0</td>\n      <td>0.0</td>\n      <td>0.0</td>\n      <td>0.0</td>\n      <td>0.0</td>\n      <td>0.0</td>\n    </tr>\n    <tr>\n      <th>2</th>\n      <td>0.0</td>\n      <td>0.0</td>\n      <td>0.0</td>\n      <td>0.0</td>\n      <td>0.0</td>\n      <td>0.0</td>\n      <td>0.0</td>\n      <td>0.0</td>\n      <td>0.0</td>\n      <td>0.0</td>\n      <td>0.0</td>\n      <td>0.0</td>\n      <td>0.0</td>\n      <td>0.0</td>\n      <td>0.0</td>\n      <td>0.0</td>\n    </tr>\n    <tr>\n      <th>3</th>\n      <td>0.0</td>\n      <td>0.0</td>\n      <td>0.0</td>\n      <td>0.0</td>\n      <td>0.0</td>\n      <td>0.0</td>\n      <td>0.0</td>\n      <td>0.0</td>\n      <td>0.0</td>\n      <td>0.0</td>\n      <td>0.0</td>\n      <td>0.0</td>\n      <td>0.0</td>\n      <td>0.0</td>\n      <td>0.0</td>\n      <td>0.0</td>\n    </tr>\n    <tr>\n      <th>4</th>\n      <td>0.0</td>\n      <td>0.0</td>\n      <td>0.0</td>\n      <td>0.0</td>\n      <td>0.0</td>\n      <td>0.0</td>\n      <td>0.0</td>\n      <td>0.0</td>\n      <td>0.0</td>\n      <td>0.0</td>\n      <td>0.0</td>\n      <td>0.0</td>\n      <td>0.0</td>\n      <td>0.0</td>\n      <td>0.0</td>\n      <td>0.0</td>\n    </tr>\n    <tr>\n      <th>5</th>\n      <td>0.0</td>\n      <td>0.0</td>\n      <td>0.0</td>\n      <td>0.0</td>\n      <td>0.0</td>\n      <td>0.0</td>\n      <td>0.0</td>\n      <td>0.0</td>\n      <td>0.0</td>\n      <td>0.0</td>\n      <td>0.0</td>\n      <td>0.0</td>\n      <td>0.0</td>\n      <td>0.0</td>\n      <td>0.0</td>\n      <td>0.0</td>\n    </tr>\n    <tr>\n      <th>6</th>\n      <td>1.0</td>\n      <td>0.0</td>\n      <td>0.0</td>\n      <td>0.0</td>\n      <td>0.0</td>\n      <td>0.0</td>\n      <td>0.0</td>\n      <td>0.0</td>\n      <td>0.0</td>\n      <td>0.0</td>\n      <td>0.0</td>\n      <td>0.0</td>\n      <td>0.0</td>\n      <td>0.0</td>\n      <td>0.0</td>\n      <td>0.0</td>\n    </tr>\n    <tr>\n      <th>7</th>\n      <td>0.0</td>\n      <td>0.0</td>\n      <td>0.0</td>\n      <td>0.0</td>\n      <td>0.0</td>\n      <td>0.0</td>\n      <td>0.0</td>\n      <td>0.0</td>\n      <td>0.0</td>\n      <td>0.0</td>\n      <td>0.0</td>\n      <td>0.0</td>\n      <td>0.0</td>\n      <td>0.0</td>\n      <td>0.0</td>\n      <td>0.0</td>\n    </tr>\n    <tr>\n      <th>8</th>\n      <td>0.0</td>\n      <td>0.0</td>\n      <td>0.0</td>\n      <td>0.0</td>\n      <td>0.0</td>\n      <td>0.0</td>\n      <td>0.0</td>\n      <td>0.0</td>\n      <td>0.0</td>\n      <td>0.0</td>\n      <td>0.0</td>\n      <td>0.0</td>\n      <td>0.0</td>\n      <td>0.0</td>\n      <td>0.0</td>\n      <td>0.0</td>\n    </tr>\n    <tr>\n      <th>9</th>\n      <td>0.0</td>\n      <td>0.0</td>\n      <td>0.0</td>\n      <td>0.0</td>\n      <td>0.0</td>\n      <td>0.0</td>\n      <td>0.0</td>\n      <td>0.0</td>\n      <td>0.0</td>\n      <td>0.0</td>\n      <td>0.0</td>\n      <td>0.0</td>\n      <td>0.0</td>\n      <td>0.0</td>\n      <td>0.0</td>\n      <td>0.0</td>\n    </tr>\n  </tbody>\n</table>\n</div>"
          },
          "metadata": {},
          "execution_count": 46
        }
      ],
      "source": [
        "drugs_type = {\"Inorganic Chemicals\" : \"D01\",\n",
        "              \"Organic Chemicals\": \"D02\",\n",
        "              \"Heterocyclic Compounds\": \"D03\",\n",
        "              \"Polycyclic Compounds\" : \"D04\",\n",
        "              \"Macromolecular Substances\" : \"D05\",\n",
        "              \"Hormones, Hormone Substitutes, and Hormone Antagonists\": \"D06\",\n",
        "              \"Enzymes and Coenzymes\" : \"D08\",\n",
        "              \"Carbohydrates\" : \"D09\",\n",
        "              \"Lipids\" : \"D10\",\n",
        "              \"Amino Acids, Peptides, and Proteins\" : \"D12\",\n",
        "              \"Nucleic Acids, Nucleotides, and Nucleosides\" : \"D13\",\n",
        "              \"Complex Mixtures\": \"D20\",\n",
        "              \"Biological Factors\" : \"D23\",\n",
        "              \"Biomedical and Dental Materials\" : \"D25\",\n",
        "              \"Pharmaceutical Preparations\" : \"D26\",\n",
        "              \"Chemical Actions and Uses \" : \"D27\"\n",
        "}\n",
        "\n",
        "code_to_drug = {v: k for k, v in drugs_type.items()}\n",
        "\n",
        "# Function to extract relevant codes and create dummies\n",
        "def extract_and_dummy(tree_numbers):\n",
        "    codes = set(tree_numbers.split(\", \")) if tree_numbers != \"No tree number\" else set()\n",
        "    relevant_codes = codes.intersection(code_to_drug.keys())\n",
        "    return {code_to_drug[code]: 1 for code in relevant_codes}\n",
        "\n",
        "# Apply the function and create dummies\n",
        "dummy_df = df[\"tree_numbers\"].apply(extract_and_dummy).apply(pd.Series).fillna(0)\n",
        "dummy_df.head(10)"
      ]
    },
    {
      "cell_type": "code",
      "execution_count": 48,
      "metadata": {},
      "outputs": [],
      "source": [
        "df = pd.concat([df, dummy_df], axis=1)"
      ]
    },
    {
      "cell_type": "code",
      "execution_count": 49,
      "metadata": {
        "tags": [],
        "id": "0bymUwVOU6bg",
        "outputId": "ff9edd0c-a6a3-4a71-f855-27afa267498e"
      },
      "outputs": [
        {
          "output_type": "stream",
          "name": "stdout",
          "text": "Number of missing rows: 153910\n"
        }
      ],
      "source": [
        "num_missing = df['interventionBrowseModule_meshes'].isna().sum()\n",
        "print(f\"Number of missing rows: {num_missing}\")\n",
        "df = df.drop(columns = ['tree_numbers', 'interventions_mesh_ids','interventionBrowseModule_meshes'])"
      ]
    },
    {
      "cell_type": "markdown",
      "source": [
        "Merge trial descriptions and create embeddings"
      ],
      "metadata": {
        "id": "sBN0YslsLGww"
      }
    },
    {
      "cell_type": "code",
      "source": [
        "def combine_descriptions(row):\n",
        "    detailed_desc = row['descriptionModule_detailedDescription']\n",
        "    brief_summary = row['descriptionModule_briefSummary']\n",
        "\n",
        "    # Normalize whitespace in detailed_desc and split into words\n",
        "    if pd.notnull(detailed_desc):\n",
        "        normalized_desc = \" \".join(detailed_desc.split())  # Removes extra spaces, newlines, and tabs\n",
        "        word_count = len(normalized_desc.split())\n",
        "\n",
        "        if word_count > 8:\n",
        "            return f\"{brief_summary} {normalized_desc}\"  # Combine the two\n",
        "\n",
        "    return brief_summary  # Return only the brief summary\n",
        "\n",
        "# Create the new column with combined content\n",
        "df['combined_description'] = df.apply(combine_descriptions, axis=1)\n",
        "\n",
        "print(\"example combined description:\", df['combined_description'][40])"
      ],
      "metadata": {
        "colab": {
          "base_uri": "https://localhost:8080/"
        },
        "id": "vM5AMr0ZLF1x",
        "outputId": "9854fad0-2953-441b-e29f-b6a7a00c0243",
        "tags": []
      },
      "execution_count": 50,
      "outputs": [
        {
          "output_type": "stream",
          "name": "stdout",
          "text": "example combined description: Patients with advanced gastrointestinal (GI) cancers are very often sarcopenic/malnourished at diagnosis (\\> 60% of cases) and at high risk of rapid clinical deterioration. These patients have important supportive care needs that represent a major challenge for improving treatment tolerance and patient survival and health-related quality of life (HRQoL).\n\nMalnutrition and sarcopenia (muscle wasting and dysfunction) are associated with an increased risk of death, complications from chemotherapy, infections, emergency procedures and hospitalizations, and increased costs of care. Therefore, malnutrition and sarcopenia represent a major clinical target in GI cancers.\n\nInterventions targeting malnutrition/sarcopenia should be implemented as early as possible in patients' pathways, these syndromes being reversible at early stages but not at late stages.\n\nA multidisciplinary assessment at diagnosis and therapeutic approach combining nutritional support and and adapted physical activity (APA) in addition to anticancer treatments should be systematically implemented in patients with advanced GI cancers.\n\nThis type of intervention complies with the standards recommended by the National Cancer Institute (INCa) to promote the practice of physical activity during and after treatment in oncology. All patients will receive usual care including: * Chemotherapy at the investigator's choice, * Outpatient clinical visits according to the regular schedule, * Tumor evaluation based on tumor marker serum levels, as appropriate, and TAP-CT with intravenous contrast injection every 8 weeks. Nutritional support will consist of: * A nutrition assessment by a dietician including a VAS of food intakes at baseline, at W4 and W8 (plus additional visits if required), * Nutritional intervention according to the Société Francophone de Nutrition Clinique et Métabolisme (SFNEP) guidelines (dietetic counseling for all patients ± oral supplementation, enteral tube feeding, and/or parenteral nutrition). Physical activity support will consist of physical condition assessed by International Physical Activity Questionnaire (IPAQ), performance status (ECOG PS), resting heart rate and blood pressure, 6-minute walking test (speed, fatigue), handgrip test, chair stand fitness test, get-up and go test, balance in single-leg and bipodal stance.\n"
        }
      ]
    },
    {
      "cell_type": "code",
      "execution_count": 51,
      "metadata": {
        "colab": {
          "base_uri": "https://localhost:8080/"
        },
        "id": "xbqegd-ZU6bg",
        "outputId": "d15dcb44-b07a-40cb-d84c-d627764023be"
      },
      "outputs": [
        {
          "output_type": "execute_result",
          "data": {
            "text/plain": "np.float64(274.5674022957092)"
          },
          "metadata": {},
          "execution_count": 51
        }
      ],
      "source": [
        "df = df.drop(columns = ['descriptionModule_detailedDescription', 'descriptionModule_briefSummary'])\n",
        "average_word_count = df['combined_description'].apply(lambda x: len(str(x).split())).mean()\n",
        "average_word_count"
      ]
    },
    {
      "cell_type": "code",
      "execution_count": 57,
      "metadata": {},
      "outputs": [],
      "source": [
        "df.to_parquet('/Users/jiazhengli/Desktop/project_root/completion_model.parquet', engine='pyarrow', compression='snappy')"
      ]
    },
    {
      "cell_type": "code",
      "source": [
        "import torch\n",
        "from transformers import AutoTokenizer, AutoModel\n",
        "import numpy as np\n",
        "from tqdm import tqdm  # For progress tracking\n",
        "\n",
        "# Load PubMedBERT tokenizer and model\n",
        "tokenizer = AutoTokenizer.from_pretrained(\"microsoft/BiomedNLP-PubMedBERT-base-uncased-abstract-fulltext\")\n",
        "model = AutoModel.from_pretrained(\"microsoft/BiomedNLP-PubMedBERT-base-uncased-abstract-fulltext\")"
      ],
      "metadata": {
        "colab": {
          "base_uri": "https://localhost:8080/",
          "height": 267,
          "referenced_widgets": [
            "1ac9ccfc3c07440599190a114fec1ec1",
            "42e4ee8b10fd4640966c15e788c7137f",
            "991ca5ba92c7459c862e989257a96205",
            "eccb2f81cde84d79acc1cbd19c629a37",
            "c1c1b51a25ce4c3fb8487247ef8227f7",
            "7cfe341b9ce44e05bbd04154580dc91d",
            "06148c5766cb44ab86ea93aae121c455",
            "8553fd9ef52c44f7a1f1b430b2e86537",
            "d6e7f8465f6e458585d407b9f4b5a117",
            "d478f40c8cee42f0805af0edd29b7e2e",
            "0e0fcbb1a8d6494a92464ef28ea876cb",
            "63dd1ae9fb02410098d16dbeeb55d29a",
            "056d2d06827c4645a26c38c289a96ef5",
            "f5b821bc48eb4f41b272b28707e28ae1",
            "8a6d87accd8545aab457ad3a2e3c57f2",
            "2fbac157c09b44599cb23eab53da24d7",
            "352749b7fe3c4db396d6dd8eafaacf0c",
            "4f80903a9d7f4d0b87e1b4cea336822d",
            "4c4dd3e5d6554660a0f72167dfb03630",
            "6ab339a35c4d454897f533d625df9da0",
            "a23407320d454e91829eb6f69352efbb",
            "a614faaa6dfc4412bc1134ef98db6e49",
            "69e3782bd2b04e2ba61cf1539c0dbde2",
            "1b5aa92f8eaa4c8b86893ad69bcd7f06",
            "9674d199914e4881995ca05b458415aa",
            "3d5832c9467941a7973eba90479a292d",
            "c1ade0ef8fb4426db277c2c21bdb0105",
            "220626c65f0345e48d29b796228e054d",
            "36ba81768d8043eface2e89a9f7fae74",
            "49021013aaec49e6a51d1c5bc169a200",
            "175bf6ecebdd4a91ba30e34e539a6ea2",
            "931ccabfa5ab4f9cbe6a769b6fdb1bdb",
            "e754508944af49cbbfa73cb3f5774acc",
            "820118e5290f4fdc9cf9a66e83592aa8",
            "0b18c972a5e648b3aa49da32043f50ed",
            "e19f6487e66f4d1fa3ea031815442993",
            "21b35abc6f7b418bac732a7d14bf5881",
            "f0662216554a444cbda09e28bb6b1a9b",
            "3698058d1b3c452286b5a2697b32820d",
            "823d6cd448774036bc14d68273db49ca",
            "c3a852807e364e81832eb326e54bf3d0",
            "333819154fab477ba72d62dde63aed5c",
            "1cb57c9680b841ccba8e6221f9ad211c",
            "257f42a65aca4a2eaf3725fd27aa052e"
          ]
        },
        "id": "Gc0I0YXjW6H1",
        "outputId": "62727486-c5c8-4144-e56d-0bf8f493d1d0"
      },
      "execution_count": 7,
      "outputs": [
        {
          "output_type": "stream",
          "name": "stderr",
          "text": [
            "/usr/local/lib/python3.11/dist-packages/huggingface_hub/utils/_auth.py:94: UserWarning: \n",
            "The secret `HF_TOKEN` does not exist in your Colab secrets.\n",
            "To authenticate with the Hugging Face Hub, create a token in your settings tab (https://huggingface.co/settings/tokens), set it as secret in your Google Colab and restart your session.\n",
            "You will be able to reuse this secret in all of your notebooks.\n",
            "Please note that authentication is recommended but still optional to access public models or datasets.\n",
            "  warnings.warn(\n"
          ]
        },
        {
          "output_type": "display_data",
          "data": {
            "text/plain": [
              "tokenizer_config.json:   0%|          | 0.00/28.0 [00:00<?, ?B/s]"
            ],
            "application/vnd.jupyter.widget-view+json": {
              "version_major": 2,
              "version_minor": 0,
              "model_id": "1ac9ccfc3c07440599190a114fec1ec1"
            }
          },
          "metadata": {}
        },
        {
          "output_type": "display_data",
          "data": {
            "text/plain": [
              "config.json:   0%|          | 0.00/385 [00:00<?, ?B/s]"
            ],
            "application/vnd.jupyter.widget-view+json": {
              "version_major": 2,
              "version_minor": 0,
              "model_id": "63dd1ae9fb02410098d16dbeeb55d29a"
            }
          },
          "metadata": {}
        },
        {
          "output_type": "display_data",
          "data": {
            "text/plain": [
              "vocab.txt:   0%|          | 0.00/226k [00:00<?, ?B/s]"
            ],
            "application/vnd.jupyter.widget-view+json": {
              "version_major": 2,
              "version_minor": 0,
              "model_id": "69e3782bd2b04e2ba61cf1539c0dbde2"
            }
          },
          "metadata": {}
        },
        {
          "output_type": "display_data",
          "data": {
            "text/plain": [
              "pytorch_model.bin:   0%|          | 0.00/440M [00:00<?, ?B/s]"
            ],
            "application/vnd.jupyter.widget-view+json": {
              "version_major": 2,
              "version_minor": 0,
              "model_id": "820118e5290f4fdc9cf9a66e83592aa8"
            }
          },
          "metadata": {}
        }
      ]
    },
    {
      "cell_type": "code",
      "execution_count": 8,
      "metadata": {
        "tags": [],
        "colab": {
          "base_uri": "https://localhost:8080/"
        },
        "id": "XJEBB8zNU6bg",
        "outputId": "65eb2d18-4d44-42e7-b208-e857bcad7d51"
      },
      "outputs": [
        {
          "output_type": "stream",
          "name": "stderr",
          "text": [
            "100%|██████████| 250/250 [00:51<00:00,  4.85it/s]\n"
          ]
        }
      ],
      "source": [
        "# Move model to GPU\n",
        "device = torch.device('cuda' if torch.cuda.is_available() else 'cpu')\n",
        "model.to(device)\n",
        "model.eval()\n",
        "\n",
        "# Prepare to store embeddings as a PyTorch tensor\n",
        "all_embeddings = []\n",
        "\n",
        "# Process descriptions in batches\n",
        "batch_size = 16  # Increase if you have sufficient GPU memory\n",
        "num_batches = (len(df) + batch_size - 1) // batch_size  # Calculate number of batches\n",
        "\n",
        "for i in tqdm(range(num_batches)):\n",
        "    # Get the current batch of descriptions\n",
        "    batch_descriptions = df['combined_description'][i * batch_size : (i + 1) * batch_size].tolist()\n",
        "\n",
        "    # Tokenize and move tokens to GPU\n",
        "    tokens = tokenizer(batch_descriptions, return_tensors='pt', truncation=True, max_length=256, padding='max_length')\n",
        "    tokens = {key: val.to(device) for key, val in tokens.items()}\n",
        "\n",
        "    # Get embeddings\n",
        "    with torch.no_grad():\n",
        "        outputs = model(**tokens)\n",
        "        last_hidden_state = outputs.last_hidden_state  # Shape: (batch_size, sequence_length, hidden_size)\n",
        "        cls_embeddings = last_hidden_state[:, 0, :]  # Extract CLS token (batch_size, 768)\n",
        "        all_embeddings.append(cls_embeddings)\n",
        "\n",
        "# Concatenate all batches into a single tensor and convert to NumPy\n",
        "all_embeddings_flat = torch.cat(all_embeddings).cpu().numpy()  # Shape: (num_samples, 768)\n",
        "\n",
        "# Ensure it matches the length of df\n",
        "assert len(all_embeddings_flat) == len(df)\n",
        "\n",
        "# Add the embeddings back to the DataFrame\n",
        "df['cls_embedding'] = list(all_embeddings_flat)"
      ]
    },
    {
      "cell_type": "markdown",
      "source": [
        "Apply PCA dimension reduction"
      ],
      "metadata": {
        "id": "Jj6WaxX7x5Hw"
      }
    },
    {
      "cell_type": "code",
      "execution_count": 9,
      "metadata": {
        "colab": {
          "base_uri": "https://localhost:8080/",
          "height": 466
        },
        "id": "1HUMXWg8U6bg",
        "outputId": "936c31fb-4107-41da-be62-f91bedd33be5"
      },
      "outputs": [
        {
          "output_type": "display_data",
          "data": {
            "text/plain": [
              "<Figure size 640x480 with 1 Axes>"
            ],
            "image/png": "[encoded data removed]"
          },
          "metadata": {}
        },
        {
          "output_type": "stream",
          "name": "stdout",
          "text": [
            "Optimal number of components: 309\n"
          ]
        }
      ],
      "source": [
        "from sklearn.decomposition import PCA\n",
        "\n",
        "embeddings_matrix = np.vstack(df['cls_embedding'].values)\n",
        "\n",
        "pca = PCA()\n",
        "pca.fit(embeddings_matrix)\n",
        "\n",
        "# Calculate cumulative explained variance\n",
        "cumulative_variance = np.cumsum(pca.explained_variance_ratio_)\n",
        "\n",
        "# Plot cumulative explained variance\n",
        "plt.plot(range(1, len(cumulative_variance) + 1), cumulative_variance)\n",
        "plt.xlabel('Number of Components')\n",
        "plt.ylabel('Cumulative Explained Variance')\n",
        "plt.grid(True)\n",
        "plt.axhline(y=0.95, color='r', linestyle='--', label='95% Variance')\n",
        "plt.legend()\n",
        "plt.show()\n",
        "\n",
        "optimal_components = np.argmax(cumulative_variance >= 0.95) + 1\n",
        "print(f\"Optimal number of components: {optimal_components}\")"
      ]
    },
    {
      "cell_type": "code",
      "source": [
        "pca = PCA(n_components = optimal_components)\n",
        "reduced_embeddings = pca.fit_transform(embeddings_matrix)\n",
        "\n",
        "df['reduced_embedding'] = list(reduced_embeddings)"
      ],
      "metadata": {
        "id": "lmj8dsCk329R"
      },
      "execution_count": 10,
      "outputs": []
    },
    {
      "cell_type": "code",
      "execution_count": 1,
      "metadata": {},
      "outputs": [],
      "source": [
        "import pandas as pd"
      ]
    },
    {
      "cell_type": "code",
      "execution_count": 12,
      "metadata": {},
      "outputs": [
        {
          "output_type": "execute_result",
          "data": {
            "text/plain": "      protocolSection.identificationModule.nctId  \\\n0                                    NCT05143775   \n1                                    NCT02953301   \n2                                    NCT05060471   \n3                                    NCT03893903   \n4                                    NCT04062045   \n...                                          ...   \n24905                                NCT05248009   \n24906                                NCT03310541   \n24907                                NCT02009176   \n24908                                NCT02069093   \n24909                                NCT01410968   \n\n                                               pmid_list  \\\n0                                             [34599481]   \n1                                             [32632956]   \n2      [28055103, 23484057, 8348857, 8874455, 2035453...   \n3                                             [35599302]   \n4      [28217054, 30233861, 27501016, 30532584, 29980...   \n...                                                  ...   \n24905           [28096199, 20236380, 11316562, 30945803]   \n24906                                         [35440569]   \n24907  [15508102, 18019727, 9409569, 15798459, 188368...   \n24908                     [32043762, 31594912, 28314691]   \n24909                                         [28388966]   \n\n                                                Abstract  is_cancer  \\\n0      [Many patients with glioma experience surgery-...       True   \n1      [Mycosis fungoides (MF) is the most common typ...       True   \n2      [Each year, the American Cancer Society estima...       True   \n3      [Isocitrate dehydrogenase (IDH) mutations are ...       True   \n4      [The main advantages of video assisted thoraco...       True   \n...                                                  ...        ...   \n24905  [Background: Although the number of cancer sur...       True   \n24906  [AKT- a key molecular regulator of PI-3K signa...       True   \n24907  [Estimates from the year 2000 indicate that li...       True   \n24908  [The incidence of oral mucositis (any grade) a...       True   \n24909  [Dendritic cells (DCs) enhance the quality of ...       True   \n\n                                                 results  \\\n0                                    [Not a Publication]   \n1                                    [Not a Publication]   \n2      [Not a Publication, Not a Publication, Positiv...   \n3                                    [Not a Publication]   \n4      [Unknown, Unknown, Not a Publication, Not a Pu...   \n...                                                  ...   \n24905                                               None   \n24906                                               None   \n24907                                               None   \n24908                                               None   \n24909                                               None   \n\n          protocolSection.descriptionModule.briefSummary  \\\n0      This study is designed to compare the language...   \n1      The purpose of this study is to determine whet...   \n2      Locally Advanced Anal Canal Squamous Carcinoma...   \n3      The trial will address safety and tolerability...   \n4      Investigators will analyze the efficacy of con...   \n...                                                  ...   \n24905  Consenting subjects will receive a semi-perman...   \n24906  This study will test the recommended dose of A...   \n24907  The purpose of this study is to compare short-...   \n24908  Open-label, Phase II study of Stomatitis preve...   \n24909  The purpose of this study is to provide a safe...   \n\n      protocolSection.descriptionModule.detailedDescription  \\\n0      This study concentrates on patient who has typ...      \n1                                                   None      \n2                                                   None      \n3      The standard of care (SOC) treatment of patien...      \n4                                                   None      \n...                                                  ...      \n24905  Over 3 million patients are treated each year ...      \n24906                                               None      \n24907  Background:Hepatocellular carcinoma is the wor...      \n24908                                               None      \n24909  Primary Objectives\\n\\n1. Assess the safety of ...      \n\n         protocolSection.identificationModule.briefTitle  \\\n0      Strategic Intervention on Preserving Language ...   \n1      Resminostat for Maintenance Treatment of Patie...   \n2      PD-1 Blockade Combined with Chemotherapy Follo...   \n3      AMPLIFYing NEOepitope-specific VACcine Respons...   \n4      Efficacy of Continous Regional Anesthesia Usin...   \n...                                                  ...   \n24905  Feasibility of Semi-Permanent Tattoo for Treat...   \n24906  AZD5363 in Patients With Advanced Solid Tumors...   \n24907  Laparoscope Anatomical and Aon-anatomical Hepa...   \n24908  Open-label, Phase II Study of Stomatitis Preve...   \n24909  A Feasibility and Safety Study of Vaccination ...   \n\n      protocolSection.identificationModule.officialTitle  \n0      Strategic Intervention on Preserving Language ...  \n1      A Multicentre, Double Blind, Randomised, Place...  \n2      Neoadjuvant PD-1 Blockade Combined with Chemot...  \n3      AMPLIFYing NEOepitope-specific VACcine Respons...  \n4      Efficacy of Continous Regional Anesthesia Usin...  \n...                                                  ...  \n24905  Feasibility of Semi-Permanent Tattoo for Treat...  \n24906  A Pilot Study of AZD5363 for Patients With Adv...  \n24907  The Prospective, Randomized Case-control(RCT) ...  \n24908  A Phase II, Single Arm Study of the Use of Ste...  \n24909  A Feasibility and Safety Study of Vaccination ...  \n\n[24910 rows x 9 columns]",
            "text/html": "<div>\n<style scoped>\n    .dataframe tbody tr th:only-of-type {\n        vertical-align: middle;\n    }\n\n    .dataframe tbody tr th {\n        vertical-align: top;\n    }\n\n    .dataframe thead th {\n        text-align: right;\n    }\n</style>\n<table border=\"1\" class=\"dataframe\">\n  <thead>\n    <tr style=\"text-align: right;\">\n      <th></th>\n      <th>protocolSection.identificationModule.nctId</th>\n      <th>pmid_list</th>\n      <th>Abstract</th>\n      <th>is_cancer</th>\n      <th>results</th>\n      <th>protocolSection.descriptionModule.briefSummary</th>\n      <th>protocolSection.descriptionModule.detailedDescription</th>\n      <th>protocolSection.identificationModule.briefTitle</th>\n      <th>protocolSection.identificationModule.officialTitle</th>\n    </tr>\n  </thead>\n  <tbody>\n    <tr>\n      <th>0</th>\n      <td>NCT05143775</td>\n      <td>[34599481]</td>\n      <td>[Many patients with glioma experience surgery-...</td>\n      <td>True</td>\n      <td>[Not a Publication]</td>\n      <td>This study is designed to compare the language...</td>\n      <td>This study concentrates on patient who has typ...</td>\n      <td>Strategic Intervention on Preserving Language ...</td>\n      <td>Strategic Intervention on Preserving Language ...</td>\n    </tr>\n    <tr>\n      <th>1</th>\n      <td>NCT02953301</td>\n      <td>[32632956]</td>\n      <td>[Mycosis fungoides (MF) is the most common typ...</td>\n      <td>True</td>\n      <td>[Not a Publication]</td>\n      <td>The purpose of this study is to determine whet...</td>\n      <td>None</td>\n      <td>Resminostat for Maintenance Treatment of Patie...</td>\n      <td>A Multicentre, Double Blind, Randomised, Place...</td>\n    </tr>\n    <tr>\n      <th>2</th>\n      <td>NCT05060471</td>\n      <td>[28055103, 23484057, 8348857, 8874455, 2035453...</td>\n      <td>[Each year, the American Cancer Society estima...</td>\n      <td>True</td>\n      <td>[Not a Publication, Not a Publication, Positiv...</td>\n      <td>Locally Advanced Anal Canal Squamous Carcinoma...</td>\n      <td>None</td>\n      <td>PD-1 Blockade Combined with Chemotherapy Follo...</td>\n      <td>Neoadjuvant PD-1 Blockade Combined with Chemot...</td>\n    </tr>\n    <tr>\n      <th>3</th>\n      <td>NCT03893903</td>\n      <td>[35599302]</td>\n      <td>[Isocitrate dehydrogenase (IDH) mutations are ...</td>\n      <td>True</td>\n      <td>[Not a Publication]</td>\n      <td>The trial will address safety and tolerability...</td>\n      <td>The standard of care (SOC) treatment of patien...</td>\n      <td>AMPLIFYing NEOepitope-specific VACcine Respons...</td>\n      <td>AMPLIFYing NEOepitope-specific VACcine Respons...</td>\n    </tr>\n    <tr>\n      <th>4</th>\n      <td>NCT04062045</td>\n      <td>[28217054, 30233861, 27501016, 30532584, 29980...</td>\n      <td>[The main advantages of video assisted thoraco...</td>\n      <td>True</td>\n      <td>[Unknown, Unknown, Not a Publication, Not a Pu...</td>\n      <td>Investigators will analyze the efficacy of con...</td>\n      <td>None</td>\n      <td>Efficacy of Continous Regional Anesthesia Usin...</td>\n      <td>Efficacy of Continous Regional Anesthesia Usin...</td>\n    </tr>\n    <tr>\n      <th>...</th>\n      <td>...</td>\n      <td>...</td>\n      <td>...</td>\n      <td>...</td>\n      <td>...</td>\n      <td>...</td>\n      <td>...</td>\n      <td>...</td>\n      <td>...</td>\n    </tr>\n    <tr>\n      <th>24905</th>\n      <td>NCT05248009</td>\n      <td>[28096199, 20236380, 11316562, 30945803]</td>\n      <td>[Background: Although the number of cancer sur...</td>\n      <td>True</td>\n      <td>None</td>\n      <td>Consenting subjects will receive a semi-perman...</td>\n      <td>Over 3 million patients are treated each year ...</td>\n      <td>Feasibility of Semi-Permanent Tattoo for Treat...</td>\n      <td>Feasibility of Semi-Permanent Tattoo for Treat...</td>\n    </tr>\n    <tr>\n      <th>24906</th>\n      <td>NCT03310541</td>\n      <td>[35440569]</td>\n      <td>[AKT- a key molecular regulator of PI-3K signa...</td>\n      <td>True</td>\n      <td>None</td>\n      <td>This study will test the recommended dose of A...</td>\n      <td>None</td>\n      <td>AZD5363 in Patients With Advanced Solid Tumors...</td>\n      <td>A Pilot Study of AZD5363 for Patients With Adv...</td>\n    </tr>\n    <tr>\n      <th>24907</th>\n      <td>NCT02009176</td>\n      <td>[15508102, 18019727, 9409569, 15798459, 188368...</td>\n      <td>[Estimates from the year 2000 indicate that li...</td>\n      <td>True</td>\n      <td>None</td>\n      <td>The purpose of this study is to compare short-...</td>\n      <td>Background:Hepatocellular carcinoma is the wor...</td>\n      <td>Laparoscope Anatomical and Aon-anatomical Hepa...</td>\n      <td>The Prospective, Randomized Case-control(RCT) ...</td>\n    </tr>\n    <tr>\n      <th>24908</th>\n      <td>NCT02069093</td>\n      <td>[32043762, 31594912, 28314691]</td>\n      <td>[The incidence of oral mucositis (any grade) a...</td>\n      <td>True</td>\n      <td>None</td>\n      <td>Open-label, Phase II study of Stomatitis preve...</td>\n      <td>None</td>\n      <td>Open-label, Phase II Study of Stomatitis Preve...</td>\n      <td>A Phase II, Single Arm Study of the Use of Ste...</td>\n    </tr>\n    <tr>\n      <th>24909</th>\n      <td>NCT01410968</td>\n      <td>[28388966]</td>\n      <td>[Dendritic cells (DCs) enhance the quality of ...</td>\n      <td>True</td>\n      <td>None</td>\n      <td>The purpose of this study is to provide a safe...</td>\n      <td>Primary Objectives\\n\\n1. Assess the safety of ...</td>\n      <td>A Feasibility and Safety Study of Vaccination ...</td>\n      <td>A Feasibility and Safety Study of Vaccination ...</td>\n    </tr>\n  </tbody>\n</table>\n<p>24910 rows × 9 columns</p>\n</div>"
          },
          "metadata": {},
          "execution_count": 12
        }
      ],
      "source": [
        "df = pd.read_parquet('/Users/jiazhengli/Desktop/trials_pmid_papers_results.parquet')\n",
        "df"
      ]
    },
    {
      "cell_type": "code",
      "execution_count": 11,
      "metadata": {},
      "outputs": [
        {
          "output_type": "execute_result",
          "data": {
            "text/plain": "        hasResults protocolSection.identificationModule.nctId  \\\n0            False                                NCT05353218   \n1            False                                NCT05713162   \n2            False                                NCT05143775   \n3            False                                NCT06041633   \n4            False                                NCT05988710   \n...            ...                                        ...   \n521995       False                                NCT04468438   \n521996       False                                NCT00254020   \n521997       False                                NCT05298072   \n521998       False                                NCT04474067   \n521999       False                                NCT00204750   \n\n       protocolSection.identificationModule.orgStudyIdInfo.id  \\\n0                                                2021/923       \n1                                               PIC-04-17       \n2                                          KY 2020-099-01       \n3                              1072.6120.312.2021-15.12.2       \n4                                                  222204       \n...                                                   ...       \n521995                                          Example 3       \n521996                                           380-2004       \n521997                                        22-10590-BO       \n521998                                              DM002       \n521999                                               8953       \n\n       protocolSection.identificationModule.organization.fullName  \\\n0                                     Istanbul University           \n1                               Fundació Sant Joan de Déu           \n2                         Beijing Neurosurgical Institute           \n3                                 Jagiellonian University           \n4                    Vanderbilt University Medical Center           \n...                                                   ...           \n521995                                  Assiut University           \n521996                  Sunnybrook Health Sciences Centre           \n521997                         University Hospital, Essen           \n521998                      Hadassah Medical Organization           \n521999                                 University of Utah           \n\n       protocolSection.identificationModule.organization.class  \\\n0                                                   OTHER        \n1                                                   OTHER        \n2                                                   OTHER        \n3                                                   OTHER        \n4                                                   OTHER        \n...                                                   ...        \n521995                                              OTHER        \n521996                                              OTHER        \n521997                                              OTHER        \n521998                                              OTHER        \n521999                                              OTHER        \n\n          protocolSection.identificationModule.briefTitle  \\\n0       Ultrasound-Guided Intermediate Versus Deep Cer...   \n1       Evaluation of the Effect of a Social Skills Pr...   \n2       Strategic Intervention on Preserving Language ...   \n3       Preliminary Assessment of the Psycho-emotional...   \n4       Low-dose Buccal Buprenorphine: Relative Abuse ...   \n...                                                   ...   \n521995  Role of Estrogen in the Flarring up of Lupus N...   \n521996  The Role of Cytokine-Serotonin Interactions in...   \n521997  Identification of Novel Inflammation-related B...   \n521998                          COVID-19 - Cytokine Storm   \n521999  Trial of Electrosurgical Incision Versus Bougi...   \n\n       protocolSection.identificationModule.officialTitle  \\\n0       Efficacy of Ultrasound-Guided Intermediate Ver...   \n1       Evaluation of the Effectiveness of a Social Sk...   \n2       Strategic Intervention on Preserving Language ...   \n3       Preliminary Assessment of the Psycho-emotional...   \n4       Low-dose Buccal Buprenorphine: Relative Abuse ...   \n...                                                   ...   \n521995  Role of Estrogen in the Flarring up of Lupus N...   \n521996  The Role of Cytokine-Serotonin Interactions in...   \n521997  Identification of Novel Inflammation-related B...   \n521998  A Multi-Center Study Evaluating Clinical Cours...   \n521999  A Randomized, Prospective Trial of Electrosurg...   \n\n       protocolSection.statusModule.statusVerifiedDate  \\\n0                                              2023-04   \n1                                              2022-03   \n2                                              2021-12   \n3                                              2023-09   \n4                                              2024-12   \n...                                                ...   \n521995                                         2019-11   \n521996                                         2017-04   \n521997                                         2022-03   \n521998                                         2020-12   \n521999                                         2007-12   \n\n       protocolSection.statusModule.overallStatus  \\\n0                                       COMPLETED   \n1                                       COMPLETED   \n2                                         UNKNOWN   \n3                                      RECRUITING   \n4                                      RECRUITING   \n...                                           ...   \n521995                                    UNKNOWN   \n521996                                  COMPLETED   \n521997                                    UNKNOWN   \n521998                                    UNKNOWN   \n521999                                  COMPLETED   \n\n       protocolSection.statusModule.expandedAccessInfo.hasExpandedAccess  ...  \\\n0                                                   False                 ...   \n1                                                   False                 ...   \n2                                                   False                 ...   \n3                                                   False                 ...   \n4                                                   False                 ...   \n...                                                   ...                 ...   \n521995                                              False                 ...   \n521996                                              False                 ...   \n521997                                              False                 ...   \n521998                                              False                 ...   \n521999                                              False                 ...   \n\n       protocolSection.oversightModule.isUnapprovedDevice  \\\n0                                                    None   \n1                                                    None   \n2                                                    None   \n3                                                    None   \n4                                                    None   \n...                                                   ...   \n521995                                               None   \n521996                                               None   \n521997                                               None   \n521998                                               None   \n521999                                               None   \n\n       protocolSection.statusModule.delayedPosting  \\\n0                                             None   \n1                                             None   \n2                                             None   \n3                                             None   \n4                                             None   \n...                                            ...   \n521995                                        None   \n521996                                        None   \n521997                                        None   \n521998                                        None   \n521999                                        None   \n\n       resultsSection.moreInfoModule.pointOfContact.phoneExt  \\\n0                                                    None      \n1                                                    None      \n2                                                    None      \n3                                                    None      \n4                                                    None      \n...                                                   ...      \n521995                                               None      \n521996                                               None      \n521997                                               None      \n521998                                               None      \n521999                                               None      \n\n       protocolSection.designModule.nPtrsToThisExpAccNctId  \\\n0                                                     NaN    \n1                                                     NaN    \n2                                                     NaN    \n3                                                     NaN    \n4                                                     NaN    \n...                                                   ...    \n521995                                                NaN    \n521996                                                NaN    \n521997                                                NaN    \n521998                                                NaN    \n521999                                                NaN    \n\n       protocolSection.designModule.expandedAccessTypes.individual  \\\n0                                                    None            \n1                                                    None            \n2                                                    None            \n3                                                    None            \n4                                                    None            \n...                                                   ...            \n521995                                               None            \n521996                                               None            \n521997                                               None            \n521998                                               None            \n521999                                               None            \n\n       protocolSection.oversightModule.fdaaa801Violation  \\\n0                                                   None   \n1                                                   None   \n2                                                   None   \n3                                                   None   \n4                                                   None   \n...                                                  ...   \n521995                                              None   \n521996                                              None   \n521997                                              None   \n521998                                              None   \n521999                                              None   \n\n       annotationSection.annotationModule.violationAnnotation.violationEvents  \\\n0                                                    None                       \n1                                                    None                       \n2                                                    None                       \n3                                                    None                       \n4                                                    None                       \n...                                                   ...                       \n521995                                               None                       \n521996                                               None                       \n521997                                               None                       \n521998                                               None                       \n521999                                               None                       \n\n       protocolSection.designModule.expandedAccessTypes.intermediate  \\\n0                                                    None              \n1                                                    None              \n2                                                    None              \n3                                                    None              \n4                                                    None              \n...                                                   ...              \n521995                                               None              \n521996                                               None              \n521997                                               None              \n521998                                               None              \n521999                                               None              \n\n       protocolSection.designModule.expandedAccessTypes.treatment  \\\n0                                                    None           \n1                                                    None           \n2                                                    None           \n3                                                    None           \n4                                                    None           \n...                                                   ...           \n521995                                               None           \n521996                                               None           \n521997                                               None           \n521998                                               None           \n521999                                               None           \n\n       protocolSection.oversightModule.isPpsd  \n0                                        None  \n1                                        None  \n2                                        None  \n3                                        None  \n4                                        None  \n...                                       ...  \n521995                                   None  \n521996                                   None  \n521997                                   None  \n521998                                   None  \n521999                                   None  \n\n[522000 rows x 156 columns]",
            "text/html": "<div>\n<style scoped>\n    .dataframe tbody tr th:only-of-type {\n        vertical-align: middle;\n    }\n\n    .dataframe tbody tr th {\n        vertical-align: top;\n    }\n\n    .dataframe thead th {\n        text-align: right;\n    }\n</style>\n<table border=\"1\" class=\"dataframe\">\n  <thead>\n    <tr style=\"text-align: right;\">\n      <th></th>\n      <th>hasResults</th>\n      <th>protocolSection.identificationModule.nctId</th>\n      <th>protocolSection.identificationModule.orgStudyIdInfo.id</th>\n      <th>protocolSection.identificationModule.organization.fullName</th>\n      <th>protocolSection.identificationModule.organization.class</th>\n      <th>protocolSection.identificationModule.briefTitle</th>\n      <th>protocolSection.identificationModule.officialTitle</th>\n      <th>protocolSection.statusModule.statusVerifiedDate</th>\n      <th>protocolSection.statusModule.overallStatus</th>\n      <th>protocolSection.statusModule.expandedAccessInfo.hasExpandedAccess</th>\n      <th>...</th>\n      <th>protocolSection.oversightModule.isUnapprovedDevice</th>\n      <th>protocolSection.statusModule.delayedPosting</th>\n      <th>resultsSection.moreInfoModule.pointOfContact.phoneExt</th>\n      <th>protocolSection.designModule.nPtrsToThisExpAccNctId</th>\n      <th>protocolSection.designModule.expandedAccessTypes.individual</th>\n      <th>protocolSection.oversightModule.fdaaa801Violation</th>\n      <th>annotationSection.annotationModule.violationAnnotation.violationEvents</th>\n      <th>protocolSection.designModule.expandedAccessTypes.intermediate</th>\n      <th>protocolSection.designModule.expandedAccessTypes.treatment</th>\n      <th>protocolSection.oversightModule.isPpsd</th>\n    </tr>\n  </thead>\n  <tbody>\n    <tr>\n      <th>0</th>\n      <td>False</td>\n      <td>NCT05353218</td>\n      <td>2021/923</td>\n      <td>Istanbul University</td>\n      <td>OTHER</td>\n      <td>Ultrasound-Guided Intermediate Versus Deep Cer...</td>\n      <td>Efficacy of Ultrasound-Guided Intermediate Ver...</td>\n      <td>2023-04</td>\n      <td>COMPLETED</td>\n      <td>False</td>\n      <td>...</td>\n      <td>None</td>\n      <td>None</td>\n      <td>None</td>\n      <td>NaN</td>\n      <td>None</td>\n      <td>None</td>\n      <td>None</td>\n      <td>None</td>\n      <td>None</td>\n      <td>None</td>\n    </tr>\n    <tr>\n      <th>1</th>\n      <td>False</td>\n      <td>NCT05713162</td>\n      <td>PIC-04-17</td>\n      <td>Fundació Sant Joan de Déu</td>\n      <td>OTHER</td>\n      <td>Evaluation of the Effect of a Social Skills Pr...</td>\n      <td>Evaluation of the Effectiveness of a Social Sk...</td>\n      <td>2022-03</td>\n      <td>COMPLETED</td>\n      <td>False</td>\n      <td>...</td>\n      <td>None</td>\n      <td>None</td>\n      <td>None</td>\n      <td>NaN</td>\n      <td>None</td>\n      <td>None</td>\n      <td>None</td>\n      <td>None</td>\n      <td>None</td>\n      <td>None</td>\n    </tr>\n    <tr>\n      <th>2</th>\n      <td>False</td>\n      <td>NCT05143775</td>\n      <td>KY 2020-099-01</td>\n      <td>Beijing Neurosurgical Institute</td>\n      <td>OTHER</td>\n      <td>Strategic Intervention on Preserving Language ...</td>\n      <td>Strategic Intervention on Preserving Language ...</td>\n      <td>2021-12</td>\n      <td>UNKNOWN</td>\n      <td>False</td>\n      <td>...</td>\n      <td>None</td>\n      <td>None</td>\n      <td>None</td>\n      <td>NaN</td>\n      <td>None</td>\n      <td>None</td>\n      <td>None</td>\n      <td>None</td>\n      <td>None</td>\n      <td>None</td>\n    </tr>\n    <tr>\n      <th>3</th>\n      <td>False</td>\n      <td>NCT06041633</td>\n      <td>1072.6120.312.2021-15.12.2</td>\n      <td>Jagiellonian University</td>\n      <td>OTHER</td>\n      <td>Preliminary Assessment of the Psycho-emotional...</td>\n      <td>Preliminary Assessment of the Psycho-emotional...</td>\n      <td>2023-09</td>\n      <td>RECRUITING</td>\n      <td>False</td>\n      <td>...</td>\n      <td>None</td>\n      <td>None</td>\n      <td>None</td>\n      <td>NaN</td>\n      <td>None</td>\n      <td>None</td>\n      <td>None</td>\n      <td>None</td>\n      <td>None</td>\n      <td>None</td>\n    </tr>\n    <tr>\n      <th>4</th>\n      <td>False</td>\n      <td>NCT05988710</td>\n      <td>222204</td>\n      <td>Vanderbilt University Medical Center</td>\n      <td>OTHER</td>\n      <td>Low-dose Buccal Buprenorphine: Relative Abuse ...</td>\n      <td>Low-dose Buccal Buprenorphine: Relative Abuse ...</td>\n      <td>2024-12</td>\n      <td>RECRUITING</td>\n      <td>False</td>\n      <td>...</td>\n      <td>None</td>\n      <td>None</td>\n      <td>None</td>\n      <td>NaN</td>\n      <td>None</td>\n      <td>None</td>\n      <td>None</td>\n      <td>None</td>\n      <td>None</td>\n      <td>None</td>\n    </tr>\n    <tr>\n      <th>...</th>\n      <td>...</td>\n      <td>...</td>\n      <td>...</td>\n      <td>...</td>\n      <td>...</td>\n      <td>...</td>\n      <td>...</td>\n      <td>...</td>\n      <td>...</td>\n      <td>...</td>\n      <td>...</td>\n      <td>...</td>\n      <td>...</td>\n      <td>...</td>\n      <td>...</td>\n      <td>...</td>\n      <td>...</td>\n      <td>...</td>\n      <td>...</td>\n      <td>...</td>\n      <td>...</td>\n    </tr>\n    <tr>\n      <th>521995</th>\n      <td>False</td>\n      <td>NCT04468438</td>\n      <td>Example 3</td>\n      <td>Assiut University</td>\n      <td>OTHER</td>\n      <td>Role of Estrogen in the Flarring up of Lupus N...</td>\n      <td>Role of Estrogen in the Flarring up of Lupus N...</td>\n      <td>2019-11</td>\n      <td>UNKNOWN</td>\n      <td>False</td>\n      <td>...</td>\n      <td>None</td>\n      <td>None</td>\n      <td>None</td>\n      <td>NaN</td>\n      <td>None</td>\n      <td>None</td>\n      <td>None</td>\n      <td>None</td>\n      <td>None</td>\n      <td>None</td>\n    </tr>\n    <tr>\n      <th>521996</th>\n      <td>False</td>\n      <td>NCT00254020</td>\n      <td>380-2004</td>\n      <td>Sunnybrook Health Sciences Centre</td>\n      <td>OTHER</td>\n      <td>The Role of Cytokine-Serotonin Interactions in...</td>\n      <td>The Role of Cytokine-Serotonin Interactions in...</td>\n      <td>2017-04</td>\n      <td>COMPLETED</td>\n      <td>False</td>\n      <td>...</td>\n      <td>None</td>\n      <td>None</td>\n      <td>None</td>\n      <td>NaN</td>\n      <td>None</td>\n      <td>None</td>\n      <td>None</td>\n      <td>None</td>\n      <td>None</td>\n      <td>None</td>\n    </tr>\n    <tr>\n      <th>521997</th>\n      <td>False</td>\n      <td>NCT05298072</td>\n      <td>22-10590-BO</td>\n      <td>University Hospital, Essen</td>\n      <td>OTHER</td>\n      <td>Identification of Novel Inflammation-related B...</td>\n      <td>Identification of Novel Inflammation-related B...</td>\n      <td>2022-03</td>\n      <td>UNKNOWN</td>\n      <td>False</td>\n      <td>...</td>\n      <td>None</td>\n      <td>None</td>\n      <td>None</td>\n      <td>NaN</td>\n      <td>None</td>\n      <td>None</td>\n      <td>None</td>\n      <td>None</td>\n      <td>None</td>\n      <td>None</td>\n    </tr>\n    <tr>\n      <th>521998</th>\n      <td>False</td>\n      <td>NCT04474067</td>\n      <td>DM002</td>\n      <td>Hadassah Medical Organization</td>\n      <td>OTHER</td>\n      <td>COVID-19 - Cytokine Storm</td>\n      <td>A Multi-Center Study Evaluating Clinical Cours...</td>\n      <td>2020-12</td>\n      <td>UNKNOWN</td>\n      <td>False</td>\n      <td>...</td>\n      <td>None</td>\n      <td>None</td>\n      <td>None</td>\n      <td>NaN</td>\n      <td>None</td>\n      <td>None</td>\n      <td>None</td>\n      <td>None</td>\n      <td>None</td>\n      <td>None</td>\n    </tr>\n    <tr>\n      <th>521999</th>\n      <td>False</td>\n      <td>NCT00204750</td>\n      <td>8953</td>\n      <td>University of Utah</td>\n      <td>OTHER</td>\n      <td>Trial of Electrosurgical Incision Versus Bougi...</td>\n      <td>A Randomized, Prospective Trial of Electrosurg...</td>\n      <td>2007-12</td>\n      <td>COMPLETED</td>\n      <td>False</td>\n      <td>...</td>\n      <td>None</td>\n      <td>None</td>\n      <td>None</td>\n      <td>NaN</td>\n      <td>None</td>\n      <td>None</td>\n      <td>None</td>\n      <td>None</td>\n      <td>None</td>\n      <td>None</td>\n    </tr>\n  </tbody>\n</table>\n<p>522000 rows × 156 columns</p>\n</div>"
          },
          "metadata": {},
          "execution_count": 11
        }
      ],
      "source": [
        "df_all = pd.read_parquet('/Users/jiazhengli/Desktop/project_root/clinical_trials_combined.parquet')\n",
        "df_all"
      ]
    },
    {
      "cell_type": "code",
      "execution_count": 14,
      "metadata": {},
      "outputs": [
        {
          "output_type": "execute_result",
          "data": {
            "text/plain": "0         INTERVENTIONAL\n1         INTERVENTIONAL\n2         INTERVENTIONAL\n3          OBSERVATIONAL\n4         INTERVENTIONAL\n               ...      \n521995     OBSERVATIONAL\n521996    INTERVENTIONAL\n521997     OBSERVATIONAL\n521998     OBSERVATIONAL\n521999    INTERVENTIONAL\nName: protocolSection.designModule.studyType, Length: 522000, dtype: object"
          },
          "metadata": {},
          "execution_count": 14
        }
      ],
      "source": [
        "# df_all.columns[:50]\n",
        "df_all['protocolSection.designModule.studyType']"
      ]
    },
    {
      "cell_type": "code",
      "execution_count": 27,
      "metadata": {},
      "outputs": [],
      "source": [
        "# # Make sure the column names are stripped of leading/trailing spaces\n",
        "# df.columns = df.columns.str.strip()\n",
        "# df_all.columns = df_all.columns.str.strip()\n",
        "\n",
        "# # Perform the merge based on NCT ID\n",
        "# df_merged = pd.merge(\n",
        "#     df,\n",
        "#     df_all[\n",
        "#         [\n",
        "#             'protocolSection.identificationModule.nctId',\n",
        "#             'protocolSection.descriptionModule.briefSummary',\n",
        "#             'protocolSection.descriptionModule.detailedDescription',\n",
        "#             'protocolSection.identificationModule.briefTitle','protocolSection.identificationModule.officialTitle'\n",
        "#         ]\n",
        "#     ],\n",
        "#     on='protocolSection.identificationModule.nctId',\n",
        "#     how='left'\n",
        "# )\n",
        "# Make sure the column names are stripped of leading/trailing spaces\n",
        "df.columns = df.columns.str.strip()\n",
        "df_all.columns = df_all.columns.str.strip()\n",
        "\n",
        "# Perform the merge based on NCT ID\n",
        "df_merged = pd.merge(\n",
        "    df,\n",
        "    df_all[['protocolSection.identificationModule.nctId', 'protocolSection.armsInterventionsModule.interventions']],\n",
        "    on='protocolSection.identificationModule.nctId',\n",
        "    how='left'\n",
        ")"
      ]
    },
    {
      "cell_type": "code",
      "execution_count": 28,
      "metadata": {},
      "outputs": [
        {
          "output_type": "execute_result",
          "data": {
            "text/plain": "      protocolSection.identificationModule.nctId  \\\n0                                    NCT05143775   \n1                                    NCT02953301   \n2                                    NCT05060471   \n3                                    NCT03893903   \n4                                    NCT04062045   \n...                                          ...   \n24905                                NCT05248009   \n24906                                NCT03310541   \n24907                                NCT02009176   \n24908                                NCT02069093   \n24909                                NCT01410968   \n\n                                               pmid_list  \\\n0                                             [34599481]   \n1                                             [32632956]   \n2      [28055103, 23484057, 8348857, 8874455, 2035453...   \n3                                             [35599302]   \n4      [28217054, 30233861, 27501016, 30532584, 29980...   \n...                                                  ...   \n24905           [28096199, 20236380, 11316562, 30945803]   \n24906                                         [35440569]   \n24907  [15508102, 18019727, 9409569, 15798459, 188368...   \n24908                     [32043762, 31594912, 28314691]   \n24909                                         [28388966]   \n\n                                                Abstract  is_cancer  \\\n0      [Many patients with glioma experience surgery-...       True   \n1      [Mycosis fungoides (MF) is the most common typ...       True   \n2      [Each year, the American Cancer Society estima...       True   \n3      [Isocitrate dehydrogenase (IDH) mutations are ...       True   \n4      [The main advantages of video assisted thoraco...       True   \n...                                                  ...        ...   \n24905  [Background: Although the number of cancer sur...       True   \n24906  [AKT- a key molecular regulator of PI-3K signa...       True   \n24907  [Estimates from the year 2000 indicate that li...       True   \n24908  [The incidence of oral mucositis (any grade) a...       True   \n24909  [Dendritic cells (DCs) enhance the quality of ...       True   \n\n                                                 results  \\\n0                                    [Not a Publication]   \n1                                    [Not a Publication]   \n2      [Not a Publication, Not a Publication, Positiv...   \n3                                    [Not a Publication]   \n4      [Unknown, Unknown, Not a Publication, Not a Pu...   \n...                                                  ...   \n24905                                               None   \n24906                                               None   \n24907                                               None   \n24908                                               None   \n24909                                               None   \n\n          protocolSection.descriptionModule.briefSummary  \\\n0      This study is designed to compare the language...   \n1      The purpose of this study is to determine whet...   \n2      Locally Advanced Anal Canal Squamous Carcinoma...   \n3      The trial will address safety and tolerability...   \n4      Investigators will analyze the efficacy of con...   \n...                                                  ...   \n24905  Consenting subjects will receive a semi-perman...   \n24906  This study will test the recommended dose of A...   \n24907  The purpose of this study is to compare short-...   \n24908  Open-label, Phase II study of Stomatitis preve...   \n24909  The purpose of this study is to provide a safe...   \n\n      protocolSection.descriptionModule.detailedDescription  \\\n0      This study concentrates on patient who has typ...      \n1                                                   None      \n2                                                   None      \n3      The standard of care (SOC) treatment of patien...      \n4                                                   None      \n...                                                  ...      \n24905  Over 3 million patients are treated each year ...      \n24906                                               None      \n24907  Background:Hepatocellular carcinoma is the wor...      \n24908                                               None      \n24909  Primary Objectives\\n\\n1. Assess the safety of ...      \n\n         protocolSection.identificationModule.briefTitle  \\\n0      Strategic Intervention on Preserving Language ...   \n1      Resminostat for Maintenance Treatment of Patie...   \n2      PD-1 Blockade Combined with Chemotherapy Follo...   \n3      AMPLIFYing NEOepitope-specific VACcine Respons...   \n4      Efficacy of Continous Regional Anesthesia Usin...   \n...                                                  ...   \n24905  Feasibility of Semi-Permanent Tattoo for Treat...   \n24906  AZD5363 in Patients With Advanced Solid Tumors...   \n24907  Laparoscope Anatomical and Aon-anatomical Hepa...   \n24908  Open-label, Phase II Study of Stomatitis Preve...   \n24909  A Feasibility and Safety Study of Vaccination ...   \n\n      protocolSection.identificationModule.officialTitle  \\\n0      Strategic Intervention on Preserving Language ...   \n1      A Multicentre, Double Blind, Randomised, Place...   \n2      Neoadjuvant PD-1 Blockade Combined with Chemot...   \n3      AMPLIFYing NEOepitope-specific VACcine Respons...   \n4      Efficacy of Continous Regional Anesthesia Usin...   \n...                                                  ...   \n24905  Feasibility of Semi-Permanent Tattoo for Treat...   \n24906  A Pilot Study of AZD5363 for Patients With Adv...   \n24907  The Prospective, Randomized Case-control(RCT) ...   \n24908  A Phase II, Single Arm Study of the Use of Ste...   \n24909  A Feasibility and Safety Study of Vaccination ...   \n\n      protocolSection.armsInterventionsModule.interventions  \n0      [{'armGroupLabels': ['new surgical plan group'...     \n1      [{'armGroupLabels': ['resminostat'], 'descript...     \n2      [{'armGroupLabels': ['Intervetional group'], '...     \n3      [{'armGroupLabels': ['IDH1 peptide vaccine', '...     \n4      [{'armGroupLabels': ['Group A - Local anesthet...     \n...                                                  ...     \n24905  [{'armGroupLabels': ['Semi-Permanent Tattoo In...     \n24906  [{'armGroupLabels': ['Advanced Solid Tumors', ...     \n24907  [{'armGroupLabels': ['Laparoscop Anatomical He...     \n24908  [{'armGroupLabels': ['Dexamethasone based mout...     \n24909  [{'armGroupLabels': ['Vaccination'], 'descript...     \n\n[24910 rows x 10 columns]",
            "text/html": "<div>\n<style scoped>\n    .dataframe tbody tr th:only-of-type {\n        vertical-align: middle;\n    }\n\n    .dataframe tbody tr th {\n        vertical-align: top;\n    }\n\n    .dataframe thead th {\n        text-align: right;\n    }\n</style>\n<table border=\"1\" class=\"dataframe\">\n  <thead>\n    <tr style=\"text-align: right;\">\n      <th></th>\n      <th>protocolSection.identificationModule.nctId</th>\n      <th>pmid_list</th>\n      <th>Abstract</th>\n      <th>is_cancer</th>\n      <th>results</th>\n      <th>protocolSection.descriptionModule.briefSummary</th>\n      <th>protocolSection.descriptionModule.detailedDescription</th>\n      <th>protocolSection.identificationModule.briefTitle</th>\n      <th>protocolSection.identificationModule.officialTitle</th>\n      <th>protocolSection.armsInterventionsModule.interventions</th>\n    </tr>\n  </thead>\n  <tbody>\n    <tr>\n      <th>0</th>\n      <td>NCT05143775</td>\n      <td>[34599481]</td>\n      <td>[Many patients with glioma experience surgery-...</td>\n      <td>True</td>\n      <td>[Not a Publication]</td>\n      <td>This study is designed to compare the language...</td>\n      <td>This study concentrates on patient who has typ...</td>\n      <td>Strategic Intervention on Preserving Language ...</td>\n      <td>Strategic Intervention on Preserving Language ...</td>\n      <td>[{'armGroupLabels': ['new surgical plan group'...</td>\n    </tr>\n    <tr>\n      <th>1</th>\n      <td>NCT02953301</td>\n      <td>[32632956]</td>\n      <td>[Mycosis fungoides (MF) is the most common typ...</td>\n      <td>True</td>\n      <td>[Not a Publication]</td>\n      <td>The purpose of this study is to determine whet...</td>\n      <td>None</td>\n      <td>Resminostat for Maintenance Treatment of Patie...</td>\n      <td>A Multicentre, Double Blind, Randomised, Place...</td>\n      <td>[{'armGroupLabels': ['resminostat'], 'descript...</td>\n    </tr>\n    <tr>\n      <th>2</th>\n      <td>NCT05060471</td>\n      <td>[28055103, 23484057, 8348857, 8874455, 2035453...</td>\n      <td>[Each year, the American Cancer Society estima...</td>\n      <td>True</td>\n      <td>[Not a Publication, Not a Publication, Positiv...</td>\n      <td>Locally Advanced Anal Canal Squamous Carcinoma...</td>\n      <td>None</td>\n      <td>PD-1 Blockade Combined with Chemotherapy Follo...</td>\n      <td>Neoadjuvant PD-1 Blockade Combined with Chemot...</td>\n      <td>[{'armGroupLabels': ['Intervetional group'], '...</td>\n    </tr>\n    <tr>\n      <th>3</th>\n      <td>NCT03893903</td>\n      <td>[35599302]</td>\n      <td>[Isocitrate dehydrogenase (IDH) mutations are ...</td>\n      <td>True</td>\n      <td>[Not a Publication]</td>\n      <td>The trial will address safety and tolerability...</td>\n      <td>The standard of care (SOC) treatment of patien...</td>\n      <td>AMPLIFYing NEOepitope-specific VACcine Respons...</td>\n      <td>AMPLIFYing NEOepitope-specific VACcine Respons...</td>\n      <td>[{'armGroupLabels': ['IDH1 peptide vaccine', '...</td>\n    </tr>\n    <tr>\n      <th>4</th>\n      <td>NCT04062045</td>\n      <td>[28217054, 30233861, 27501016, 30532584, 29980...</td>\n      <td>[The main advantages of video assisted thoraco...</td>\n      <td>True</td>\n      <td>[Unknown, Unknown, Not a Publication, Not a Pu...</td>\n      <td>Investigators will analyze the efficacy of con...</td>\n      <td>None</td>\n      <td>Efficacy of Continous Regional Anesthesia Usin...</td>\n      <td>Efficacy of Continous Regional Anesthesia Usin...</td>\n      <td>[{'armGroupLabels': ['Group A - Local anesthet...</td>\n    </tr>\n    <tr>\n      <th>...</th>\n      <td>...</td>\n      <td>...</td>\n      <td>...</td>\n      <td>...</td>\n      <td>...</td>\n      <td>...</td>\n      <td>...</td>\n      <td>...</td>\n      <td>...</td>\n      <td>...</td>\n    </tr>\n    <tr>\n      <th>24905</th>\n      <td>NCT05248009</td>\n      <td>[28096199, 20236380, 11316562, 30945803]</td>\n      <td>[Background: Although the number of cancer sur...</td>\n      <td>True</td>\n      <td>None</td>\n      <td>Consenting subjects will receive a semi-perman...</td>\n      <td>Over 3 million patients are treated each year ...</td>\n      <td>Feasibility of Semi-Permanent Tattoo for Treat...</td>\n      <td>Feasibility of Semi-Permanent Tattoo for Treat...</td>\n      <td>[{'armGroupLabels': ['Semi-Permanent Tattoo In...</td>\n    </tr>\n    <tr>\n      <th>24906</th>\n      <td>NCT03310541</td>\n      <td>[35440569]</td>\n      <td>[AKT- a key molecular regulator of PI-3K signa...</td>\n      <td>True</td>\n      <td>None</td>\n      <td>This study will test the recommended dose of A...</td>\n      <td>None</td>\n      <td>AZD5363 in Patients With Advanced Solid Tumors...</td>\n      <td>A Pilot Study of AZD5363 for Patients With Adv...</td>\n      <td>[{'armGroupLabels': ['Advanced Solid Tumors', ...</td>\n    </tr>\n    <tr>\n      <th>24907</th>\n      <td>NCT02009176</td>\n      <td>[15508102, 18019727, 9409569, 15798459, 188368...</td>\n      <td>[Estimates from the year 2000 indicate that li...</td>\n      <td>True</td>\n      <td>None</td>\n      <td>The purpose of this study is to compare short-...</td>\n      <td>Background:Hepatocellular carcinoma is the wor...</td>\n      <td>Laparoscope Anatomical and Aon-anatomical Hepa...</td>\n      <td>The Prospective, Randomized Case-control(RCT) ...</td>\n      <td>[{'armGroupLabels': ['Laparoscop Anatomical He...</td>\n    </tr>\n    <tr>\n      <th>24908</th>\n      <td>NCT02069093</td>\n      <td>[32043762, 31594912, 28314691]</td>\n      <td>[The incidence of oral mucositis (any grade) a...</td>\n      <td>True</td>\n      <td>None</td>\n      <td>Open-label, Phase II study of Stomatitis preve...</td>\n      <td>None</td>\n      <td>Open-label, Phase II Study of Stomatitis Preve...</td>\n      <td>A Phase II, Single Arm Study of the Use of Ste...</td>\n      <td>[{'armGroupLabels': ['Dexamethasone based mout...</td>\n    </tr>\n    <tr>\n      <th>24909</th>\n      <td>NCT01410968</td>\n      <td>[28388966]</td>\n      <td>[Dendritic cells (DCs) enhance the quality of ...</td>\n      <td>True</td>\n      <td>None</td>\n      <td>The purpose of this study is to provide a safe...</td>\n      <td>Primary Objectives\\n\\n1. Assess the safety of ...</td>\n      <td>A Feasibility and Safety Study of Vaccination ...</td>\n      <td>A Feasibility and Safety Study of Vaccination ...</td>\n      <td>[{'armGroupLabels': ['Vaccination'], 'descript...</td>\n    </tr>\n  </tbody>\n</table>\n<p>24910 rows × 10 columns</p>\n</div>"
          },
          "metadata": {},
          "execution_count": 28
        }
      ],
      "source": [
        "df_merged"
      ]
    },
    {
      "cell_type": "code",
      "execution_count": 7,
      "metadata": {},
      "outputs": [
        {
          "output_type": "execute_result",
          "data": {
            "text/plain": "np.int64(0)"
          },
          "metadata": {},
          "execution_count": 7
        }
      ],
      "source": [
        "df_merged['protocolSection.descriptionModule.briefSummary'].isna().sum()"
      ]
    },
    {
      "cell_type": "code",
      "execution_count": 8,
      "metadata": {},
      "outputs": [
        {
          "output_type": "execute_result",
          "data": {
            "text/plain": "np.int64(6421)"
          },
          "metadata": {},
          "execution_count": 8
        }
      ],
      "source": [
        "df_merged['protocolSection.descriptionModule.detailedDescription'].isna().sum()"
      ]
    },
    {
      "cell_type": "code",
      "execution_count": 33,
      "metadata": {},
      "outputs": [],
      "source": [
        "import numpy as np\n",
        "\n",
        "df_merged['intervention_types'] = df_merged['protocolSection.armsInterventionsModule.interventions'].apply(\n",
        "    lambda x: [d.get('type') for d in x] if isinstance(x, (list, np.ndarray)) else None\n",
        ")"
      ]
    },
    {
      "cell_type": "code",
      "execution_count": 43,
      "metadata": {},
      "outputs": [],
      "source": [
        "from collections import Counter\n",
        "import pandas as pd\n",
        "\n",
        "# Step 1: Drop nulls and convert each row to a set (to remove duplicates within a trial)\n",
        "unique_types_per_trial = df_merged['intervention_types'].dropna().apply(lambda x: set(x))\n",
        "\n",
        "# Step 2: Flatten the sets and count each unique type across all trials\n",
        "flat_types = [t for types in unique_types_per_trial for t in types]\n",
        "type_counts = Counter(flat_types)\n",
        "\n",
        "# Step 3: Convert to DataFrame for display\n",
        "type_counts_df = pd.DataFrame.from_dict(type_counts, orient='index', columns=['count']).reset_index()\n",
        "type_counts_df.columns = ['intervention_type', 'count']\n"
      ]
    },
    {
      "cell_type": "code",
      "execution_count": 44,
      "metadata": {},
      "outputs": [
        {
          "output_type": "execute_result",
          "data": {
            "text/plain": "      intervention_type  count\n0             PROCEDURE   3594\n1                  DRUG  15586\n2             RADIATION   2183\n3            BIOLOGICAL   2814\n4                DEVICE   1552\n5   COMBINATION_PRODUCT    138\n6                 OTHER   3306\n7    DIETARY_SUPPLEMENT    413\n8            BEHAVIORAL   1648\n9       DIAGNOSTIC_TEST    381\n10              GENETIC    155",
            "text/html": "<div>\n<style scoped>\n    .dataframe tbody tr th:only-of-type {\n        vertical-align: middle;\n    }\n\n    .dataframe tbody tr th {\n        vertical-align: top;\n    }\n\n    .dataframe thead th {\n        text-align: right;\n    }\n</style>\n<table border=\"1\" class=\"dataframe\">\n  <thead>\n    <tr style=\"text-align: right;\">\n      <th></th>\n      <th>intervention_type</th>\n      <th>count</th>\n    </tr>\n  </thead>\n  <tbody>\n    <tr>\n      <th>0</th>\n      <td>PROCEDURE</td>\n      <td>3594</td>\n    </tr>\n    <tr>\n      <th>1</th>\n      <td>DRUG</td>\n      <td>15586</td>\n    </tr>\n    <tr>\n      <th>2</th>\n      <td>RADIATION</td>\n      <td>2183</td>\n    </tr>\n    <tr>\n      <th>3</th>\n      <td>BIOLOGICAL</td>\n      <td>2814</td>\n    </tr>\n    <tr>\n      <th>4</th>\n      <td>DEVICE</td>\n      <td>1552</td>\n    </tr>\n    <tr>\n      <th>5</th>\n      <td>COMBINATION_PRODUCT</td>\n      <td>138</td>\n    </tr>\n    <tr>\n      <th>6</th>\n      <td>OTHER</td>\n      <td>3306</td>\n    </tr>\n    <tr>\n      <th>7</th>\n      <td>DIETARY_SUPPLEMENT</td>\n      <td>413</td>\n    </tr>\n    <tr>\n      <th>8</th>\n      <td>BEHAVIORAL</td>\n      <td>1648</td>\n    </tr>\n    <tr>\n      <th>9</th>\n      <td>DIAGNOSTIC_TEST</td>\n      <td>381</td>\n    </tr>\n    <tr>\n      <th>10</th>\n      <td>GENETIC</td>\n      <td>155</td>\n    </tr>\n  </tbody>\n</table>\n</div>"
          },
          "metadata": {},
          "execution_count": 44
        }
      ],
      "source": [
        "type_counts_df"
      ]
    },
    {
      "cell_type": "code",
      "execution_count": 54,
      "metadata": {},
      "outputs": [],
      "source": [
        "df_merged.to_parquet('/Users/jiazhengli/Desktop/trials_pmid_papers_results.parquet')"
      ]
    },
    {
      "cell_type": "code",
      "execution_count": null,
      "metadata": {},
      "outputs": [],
      "source": []
    }
  ],
  "metadata": {
    "kernelspec": {
      "display_name": "Python 3.9.7 64-bit",
      "language": "python",
      "name": "python_defaultSpec_1743219009345"
    },
    "language_info": {
      "codemirror_mode": {
        "name": "ipython",
        "version": 3
      },
      "file_extension": ".py",
      "mimetype": "text/x-python",
      "name": "python",
      "nbconvert_exporter": "python",
      "pygments_lexer": "ipython3",
      "version": "3.9.7-final"
    },
    "colab": {
      "provenance": [],
      "gpuType": "T4"
    },
    "accelerator": "GPU",
    "widgets": {
      "application/vnd.jupyter.widget-state+json": {
        "1ac9ccfc3c07440599190a114fec1ec1": {
          "model_module": "@jupyter-widgets/controls",
          "model_name": "HBoxModel",
          "model_module_version": "1.5.0",
          "state": {
            "_dom_classes": [],
            "_model_module": "@jupyter-widgets/controls",
            "_model_module_version": "1.5.0",
            "_model_name": "HBoxModel",
            "_view_count": null,
            "_view_module": "@jupyter-widgets/controls",
            "_view_module_version": "1.5.0",
            "_view_name": "HBoxView",
            "box_style": "",
            "children": [
              "IPY_MODEL_42e4ee8b10fd4640966c15e788c7137f",
              "IPY_MODEL_991ca5ba92c7459c862e989257a96205",
              "IPY_MODEL_eccb2f81cde84d79acc1cbd19c629a37"
            ],
            "layout": "IPY_MODEL_c1c1b51a25ce4c3fb8487247ef8227f7"
          }
        },
        "42e4ee8b10fd4640966c15e788c7137f": {
          "model_module": "@jupyter-widgets/controls",
          "model_name": "HTMLModel",
          "model_module_version": "1.5.0",
          "state": {
            "_dom_classes": [],
            "_model_module": "@jupyter-widgets/controls",
            "_model_module_version": "1.5.0",
            "_model_name": "HTMLModel",
            "_view_count": null,
            "_view_module": "@jupyter-widgets/controls",
            "_view_module_version": "1.5.0",
            "_view_name": "HTMLView",
            "description": "",
            "description_tooltip": null,
            "layout": "IPY_MODEL_7cfe341b9ce44e05bbd04154580dc91d",
            "placeholder": "​",
            "style": "IPY_MODEL_06148c5766cb44ab86ea93aae121c455",
            "value": "tokenizer_config.json: 100%"
          }
        },
        "991ca5ba92c7459c862e989257a96205": {
          "model_module": "@jupyter-widgets/controls",
          "model_name": "FloatProgressModel",
          "model_module_version": "1.5.0",
          "state": {
            "_dom_classes": [],
            "_model_module": "@jupyter-widgets/controls",
            "_model_module_version": "1.5.0",
            "_model_name": "FloatProgressModel",
            "_view_count": null,
            "_view_module": "@jupyter-widgets/controls",
            "_view_module_version": "1.5.0",
            "_view_name": "ProgressView",
            "bar_style": "success",
            "description": "",
            "description_tooltip": null,
            "layout": "IPY_MODEL_8553fd9ef52c44f7a1f1b430b2e86537",
            "max": 28,
            "min": 0,
            "orientation": "horizontal",
            "style": "IPY_MODEL_d6e7f8465f6e458585d407b9f4b5a117",
            "value": 28
          }
        },
        "eccb2f81cde84d79acc1cbd19c629a37": {
          "model_module": "@jupyter-widgets/controls",
          "model_name": "HTMLModel",
          "model_module_version": "1.5.0",
          "state": {
            "_dom_classes": [],
            "_model_module": "@jupyter-widgets/controls",
            "_model_module_version": "1.5.0",
            "_model_name": "HTMLModel",
            "_view_count": null,
            "_view_module": "@jupyter-widgets/controls",
            "_view_module_version": "1.5.0",
            "_view_name": "HTMLView",
            "description": "",
            "description_tooltip": null,
            "layout": "IPY_MODEL_d478f40c8cee42f0805af0edd29b7e2e",
            "placeholder": "​",
            "style": "IPY_MODEL_0e0fcbb1a8d6494a92464ef28ea876cb",
            "value": " 28.0/28.0 [00:00&lt;00:00, 1.38kB/s]"
          }
        },
        "c1c1b51a25ce4c3fb8487247ef8227f7": {
          "model_module": "@jupyter-widgets/base",
          "model_name": "LayoutModel",
          "model_module_version": "1.2.0",
          "state": {
            "_model_module": "@jupyter-widgets/base",
            "_model_module_version": "1.2.0",
            "_model_name": "LayoutModel",
            "_view_count": null,
            "_view_module": "@jupyter-widgets/base",
            "_view_module_version": "1.2.0",
            "_view_name": "LayoutView",
            "align_content": null,
            "align_items": null,
            "align_self": null,
            "border": null,
            "bottom": null,
            "display": null,
            "flex": null,
            "flex_flow": null,
            "grid_area": null,
            "grid_auto_columns": null,
            "grid_auto_flow": null,
            "grid_auto_rows": null,
            "grid_column": null,
            "grid_gap": null,
            "grid_row": null,
            "grid_template_areas": null,
            "grid_template_columns": null,
            "grid_template_rows": null,
            "height": null,
            "justify_content": null,
            "justify_items": null,
            "left": null,
            "margin": null,
            "max_height": null,
            "max_width": null,
            "min_height": null,
            "min_width": null,
            "object_fit": null,
            "object_position": null,
            "order": null,
            "overflow": null,
            "overflow_x": null,
            "overflow_y": null,
            "padding": null,
            "right": null,
            "top": null,
            "visibility": null,
            "width": null
          }
        },
        "7cfe341b9ce44e05bbd04154580dc91d": {
          "model_module": "@jupyter-widgets/base",
          "model_name": "LayoutModel",
          "model_module_version": "1.2.0",
          "state": {
            "_model_module": "@jupyter-widgets/base",
            "_model_module_version": "1.2.0",
            "_model_name": "LayoutModel",
            "_view_count": null,
            "_view_module": "@jupyter-widgets/base",
            "_view_module_version": "1.2.0",
            "_view_name": "LayoutView",
            "align_content": null,
            "align_items": null,
            "align_self": null,
            "border": null,
            "bottom": null,
            "display": null,
            "flex": null,
            "flex_flow": null,
            "grid_area": null,
            "grid_auto_columns": null,
            "grid_auto_flow": null,
            "grid_auto_rows": null,
            "grid_column": null,
            "grid_gap": null,
            "grid_row": null,
            "grid_template_areas": null,
            "grid_template_columns": null,
            "grid_template_rows": null,
            "height": null,
            "justify_content": null,
            "justify_items": null,
            "left": null,
            "margin": null,
            "max_height": null,
            "max_width": null,
            "min_height": null,
            "min_width": null,
            "object_fit": null,
            "object_position": null,
            "order": null,
            "overflow": null,
            "overflow_x": null,
            "overflow_y": null,
            "padding": null,
            "right": null,
            "top": null,
            "visibility": null,
            "width": null
          }
        },
        "06148c5766cb44ab86ea93aae121c455": {
          "model_module": "@jupyter-widgets/controls",
          "model_name": "DescriptionStyleModel",
          "model_module_version": "1.5.0",
          "state": {
            "_model_module": "@jupyter-widgets/controls",
            "_model_module_version": "1.5.0",
            "_model_name": "DescriptionStyleModel",
            "_view_count": null,
            "_view_module": "@jupyter-widgets/base",
            "_view_module_version": "1.2.0",
            "_view_name": "StyleView",
            "description_width": ""
          }
        },
        "8553fd9ef52c44f7a1f1b430b2e86537": {
          "model_module": "@jupyter-widgets/base",
          "model_name": "LayoutModel",
          "model_module_version": "1.2.0",
          "state": {
            "_model_module": "@jupyter-widgets/base",
            "_model_module_version": "1.2.0",
            "_model_name": "LayoutModel",
            "_view_count": null,
            "_view_module": "@jupyter-widgets/base",
            "_view_module_version": "1.2.0",
            "_view_name": "LayoutView",
            "align_content": null,
            "align_items": null,
            "align_self": null,
            "border": null,
            "bottom": null,
            "display": null,
            "flex": null,
            "flex_flow": null,
            "grid_area": null,
            "grid_auto_columns": null,
            "grid_auto_flow": null,
            "grid_auto_rows": null,
            "grid_column": null,
            "grid_gap": null,
            "grid_row": null,
            "grid_template_areas": null,
            "grid_template_columns": null,
            "grid_template_rows": null,
            "height": null,
            "justify_content": null,
            "justify_items": null,
            "left": null,
            "margin": null,
            "max_height": null,
            "max_width": null,
            "min_height": null,
            "min_width": null,
            "object_fit": null,
            "object_position": null,
            "order": null,
            "overflow": null,
            "overflow_x": null,
            "overflow_y": null,
            "padding": null,
            "right": null,
            "top": null,
            "visibility": null,
            "width": null
          }
        },
        "d6e7f8465f6e458585d407b9f4b5a117": {
          "model_module": "@jupyter-widgets/controls",
          "model_name": "ProgressStyleModel",
          "model_module_version": "1.5.0",
          "state": {
            "_model_module": "@jupyter-widgets/controls",
            "_model_module_version": "1.5.0",
            "_model_name": "ProgressStyleModel",
            "_view_count": null,
            "_view_module": "@jupyter-widgets/base",
            "_view_module_version": "1.2.0",
            "_view_name": "StyleView",
            "bar_color": null,
            "description_width": ""
          }
        },
        "d478f40c8cee42f0805af0edd29b7e2e": {
          "model_module": "@jupyter-widgets/base",
          "model_name": "LayoutModel",
          "model_module_version": "1.2.0",
          "state": {
            "_model_module": "@jupyter-widgets/base",
            "_model_module_version": "1.2.0",
            "_model_name": "LayoutModel",
            "_view_count": null,
            "_view_module": "@jupyter-widgets/base",
            "_view_module_version": "1.2.0",
            "_view_name": "LayoutView",
            "align_content": null,
            "align_items": null,
            "align_self": null,
            "border": null,
            "bottom": null,
            "display": null,
            "flex": null,
            "flex_flow": null,
            "grid_area": null,
            "grid_auto_columns": null,
            "grid_auto_flow": null,
            "grid_auto_rows": null,
            "grid_column": null,
            "grid_gap": null,
            "grid_row": null,
            "grid_template_areas": null,
            "grid_template_columns": null,
            "grid_template_rows": null,
            "height": null,
            "justify_content": null,
            "justify_items": null,
            "left": null,
            "margin": null,
            "max_height": null,
            "max_width": null,
            "min_height": null,
            "min_width": null,
            "object_fit": null,
            "object_position": null,
            "order": null,
            "overflow": null,
            "overflow_x": null,
            "overflow_y": null,
            "padding": null,
            "right": null,
            "top": null,
            "visibility": null,
            "width": null
          }
        },
        "0e0fcbb1a8d6494a92464ef28ea876cb": {
          "model_module": "@jupyter-widgets/controls",
          "model_name": "DescriptionStyleModel",
          "model_module_version": "1.5.0",
          "state": {
            "_model_module": "@jupyter-widgets/controls",
            "_model_module_version": "1.5.0",
            "_model_name": "DescriptionStyleModel",
            "_view_count": null,
            "_view_module": "@jupyter-widgets/base",
            "_view_module_version": "1.2.0",
            "_view_name": "StyleView",
            "description_width": ""
          }
        },
        "63dd1ae9fb02410098d16dbeeb55d29a": {
          "model_module": "@jupyter-widgets/controls",
          "model_name": "HBoxModel",
          "model_module_version": "1.5.0",
          "state": {
            "_dom_classes": [],
            "_model_module": "@jupyter-widgets/controls",
            "_model_module_version": "1.5.0",
            "_model_name": "HBoxModel",
            "_view_count": null,
            "_view_module": "@jupyter-widgets/controls",
            "_view_module_version": "1.5.0",
            "_view_name": "HBoxView",
            "box_style": "",
            "children": [
              "IPY_MODEL_056d2d06827c4645a26c38c289a96ef5",
              "IPY_MODEL_f5b821bc48eb4f41b272b28707e28ae1",
              "IPY_MODEL_8a6d87accd8545aab457ad3a2e3c57f2"
            ],
            "layout": "IPY_MODEL_2fbac157c09b44599cb23eab53da24d7"
          }
        },
        "056d2d06827c4645a26c38c289a96ef5": {
          "model_module": "@jupyter-widgets/controls",
          "model_name": "HTMLModel",
          "model_module_version": "1.5.0",
          "state": {
            "_dom_classes": [],
            "_model_module": "@jupyter-widgets/controls",
            "_model_module_version": "1.5.0",
            "_model_name": "HTMLModel",
            "_view_count": null,
            "_view_module": "@jupyter-widgets/controls",
            "_view_module_version": "1.5.0",
            "_view_name": "HTMLView",
            "description": "",
            "description_tooltip": null,
            "layout": "IPY_MODEL_352749b7fe3c4db396d6dd8eafaacf0c",
            "placeholder": "​",
            "style": "IPY_MODEL_4f80903a9d7f4d0b87e1b4cea336822d",
            "value": "config.json: 100%"
          }
        },
        "f5b821bc48eb4f41b272b28707e28ae1": {
          "model_module": "@jupyter-widgets/controls",
          "model_name": "FloatProgressModel",
          "model_module_version": "1.5.0",
          "state": {
            "_dom_classes": [],
            "_model_module": "@jupyter-widgets/controls",
            "_model_module_version": "1.5.0",
            "_model_name": "FloatProgressModel",
            "_view_count": null,
            "_view_module": "@jupyter-widgets/controls",
            "_view_module_version": "1.5.0",
            "_view_name": "ProgressView",
            "bar_style": "success",
            "description": "",
            "description_tooltip": null,
            "layout": "IPY_MODEL_4c4dd3e5d6554660a0f72167dfb03630",
            "max": 385,
            "min": 0,
            "orientation": "horizontal",
            "style": "IPY_MODEL_6ab339a35c4d454897f533d625df9da0",
            "value": 385
          }
        },
        "8a6d87accd8545aab457ad3a2e3c57f2": {
          "model_module": "@jupyter-widgets/controls",
          "model_name": "HTMLModel",
          "model_module_version": "1.5.0",
          "state": {
            "_dom_classes": [],
            "_model_module": "@jupyter-widgets/controls",
            "_model_module_version": "1.5.0",
            "_model_name": "HTMLModel",
            "_view_count": null,
            "_view_module": "@jupyter-widgets/controls",
            "_view_module_version": "1.5.0",
            "_view_name": "HTMLView",
            "description": "",
            "description_tooltip": null,
            "layout": "IPY_MODEL_a23407320d454e91829eb6f69352efbb",
            "placeholder": "​",
            "style": "IPY_MODEL_a614faaa6dfc4412bc1134ef98db6e49",
            "value": " 385/385 [00:00&lt;00:00, 25.0kB/s]"
          }
        },
        "2fbac157c09b44599cb23eab53da24d7": {
          "model_module": "@jupyter-widgets/base",
          "model_name": "LayoutModel",
          "model_module_version": "1.2.0",
          "state": {
            "_model_module": "@jupyter-widgets/base",
            "_model_module_version": "1.2.0",
            "_model_name": "LayoutModel",
            "_view_count": null,
            "_view_module": "@jupyter-widgets/base",
            "_view_module_version": "1.2.0",
            "_view_name": "LayoutView",
            "align_content": null,
            "align_items": null,
            "align_self": null,
            "border": null,
            "bottom": null,
            "display": null,
            "flex": null,
            "flex_flow": null,
            "grid_area": null,
            "grid_auto_columns": null,
            "grid_auto_flow": null,
            "grid_auto_rows": null,
            "grid_column": null,
            "grid_gap": null,
            "grid_row": null,
            "grid_template_areas": null,
            "grid_template_columns": null,
            "grid_template_rows": null,
            "height": null,
            "justify_content": null,
            "justify_items": null,
            "left": null,
            "margin": null,
            "max_height": null,
            "max_width": null,
            "min_height": null,
            "min_width": null,
            "object_fit": null,
            "object_position": null,
            "order": null,
            "overflow": null,
            "overflow_x": null,
            "overflow_y": null,
            "padding": null,
            "right": null,
            "top": null,
            "visibility": null,
            "width": null
          }
        },
        "352749b7fe3c4db396d6dd8eafaacf0c": {
          "model_module": "@jupyter-widgets/base",
          "model_name": "LayoutModel",
          "model_module_version": "1.2.0",
          "state": {
            "_model_module": "@jupyter-widgets/base",
            "_model_module_version": "1.2.0",
            "_model_name": "LayoutModel",
            "_view_count": null,
            "_view_module": "@jupyter-widgets/base",
            "_view_module_version": "1.2.0",
            "_view_name": "LayoutView",
            "align_content": null,
            "align_items": null,
            "align_self": null,
            "border": null,
            "bottom": null,
            "display": null,
            "flex": null,
            "flex_flow": null,
            "grid_area": null,
            "grid_auto_columns": null,
            "grid_auto_flow": null,
            "grid_auto_rows": null,
            "grid_column": null,
            "grid_gap": null,
            "grid_row": null,
            "grid_template_areas": null,
            "grid_template_columns": null,
            "grid_template_rows": null,
            "height": null,
            "justify_content": null,
            "justify_items": null,
            "left": null,
            "margin": null,
            "max_height": null,
            "max_width": null,
            "min_height": null,
            "min_width": null,
            "object_fit": null,
            "object_position": null,
            "order": null,
            "overflow": null,
            "overflow_x": null,
            "overflow_y": null,
            "padding": null,
            "right": null,
            "top": null,
            "visibility": null,
            "width": null
          }
        },
        "4f80903a9d7f4d0b87e1b4cea336822d": {
          "model_module": "@jupyter-widgets/controls",
          "model_name": "DescriptionStyleModel",
          "model_module_version": "1.5.0",
          "state": {
            "_model_module": "@jupyter-widgets/controls",
            "_model_module_version": "1.5.0",
            "_model_name": "DescriptionStyleModel",
            "_view_count": null,
            "_view_module": "@jupyter-widgets/base",
            "_view_module_version": "1.2.0",
            "_view_name": "StyleView",
            "description_width": ""
          }
        },
        "4c4dd3e5d6554660a0f72167dfb03630": {
          "model_module": "@jupyter-widgets/base",
          "model_name": "LayoutModel",
          "model_module_version": "1.2.0",
          "state": {
            "_model_module": "@jupyter-widgets/base",
            "_model_module_version": "1.2.0",
            "_model_name": "LayoutModel",
            "_view_count": null,
            "_view_module": "@jupyter-widgets/base",
            "_view_module_version": "1.2.0",
            "_view_name": "LayoutView",
            "align_content": null,
            "align_items": null,
            "align_self": null,
            "border": null,
            "bottom": null,
            "display": null,
            "flex": null,
            "flex_flow": null,
            "grid_area": null,
            "grid_auto_columns": null,
            "grid_auto_flow": null,
            "grid_auto_rows": null,
            "grid_column": null,
            "grid_gap": null,
            "grid_row": null,
            "grid_template_areas": null,
            "grid_template_columns": null,
            "grid_template_rows": null,
            "height": null,
            "justify_content": null,
            "justify_items": null,
            "left": null,
            "margin": null,
            "max_height": null,
            "max_width": null,
            "min_height": null,
            "min_width": null,
            "object_fit": null,
            "object_position": null,
            "order": null,
            "overflow": null,
            "overflow_x": null,
            "overflow_y": null,
            "padding": null,
            "right": null,
            "top": null,
            "visibility": null,
            "width": null
          }
        },
        "6ab339a35c4d454897f533d625df9da0": {
          "model_module": "@jupyter-widgets/controls",
          "model_name": "ProgressStyleModel",
          "model_module_version": "1.5.0",
          "state": {
            "_model_module": "@jupyter-widgets/controls",
            "_model_module_version": "1.5.0",
            "_model_name": "ProgressStyleModel",
            "_view_count": null,
            "_view_module": "@jupyter-widgets/base",
            "_view_module_version": "1.2.0",
            "_view_name": "StyleView",
            "bar_color": null,
            "description_width": ""
          }
        },
        "a23407320d454e91829eb6f69352efbb": {
          "model_module": "@jupyter-widgets/base",
          "model_name": "LayoutModel",
          "model_module_version": "1.2.0",
          "state": {
            "_model_module": "@jupyter-widgets/base",
            "_model_module_version": "1.2.0",
            "_model_name": "LayoutModel",
            "_view_count": null,
            "_view_module": "@jupyter-widgets/base",
            "_view_module_version": "1.2.0",
            "_view_name": "LayoutView",
            "align_content": null,
            "align_items": null,
            "align_self": null,
            "border": null,
            "bottom": null,
            "display": null,
            "flex": null,
            "flex_flow": null,
            "grid_area": null,
            "grid_auto_columns": null,
            "grid_auto_flow": null,
            "grid_auto_rows": null,
            "grid_column": null,
            "grid_gap": null,
            "grid_row": null,
            "grid_template_areas": null,
            "grid_template_columns": null,
            "grid_template_rows": null,
            "height": null,
            "justify_content": null,
            "justify_items": null,
            "left": null,
            "margin": null,
            "max_height": null,
            "max_width": null,
            "min_height": null,
            "min_width": null,
            "object_fit": null,
            "object_position": null,
            "order": null,
            "overflow": null,
            "overflow_x": null,
            "overflow_y": null,
            "padding": null,
            "right": null,
            "top": null,
            "visibility": null,
            "width": null
          }
        },
        "a614faaa6dfc4412bc1134ef98db6e49": {
          "model_module": "@jupyter-widgets/controls",
          "model_name": "DescriptionStyleModel",
          "model_module_version": "1.5.0",
          "state": {
            "_model_module": "@jupyter-widgets/controls",
            "_model_module_version": "1.5.0",
            "_model_name": "DescriptionStyleModel",
            "_view_count": null,
            "_view_module": "@jupyter-widgets/base",
            "_view_module_version": "1.2.0",
            "_view_name": "StyleView",
            "description_width": ""
          }
        },
        "69e3782bd2b04e2ba61cf1539c0dbde2": {
          "model_module": "@jupyter-widgets/controls",
          "model_name": "HBoxModel",
          "model_module_version": "1.5.0",
          "state": {
            "_dom_classes": [],
            "_model_module": "@jupyter-widgets/controls",
            "_model_module_version": "1.5.0",
            "_model_name": "HBoxModel",
            "_view_count": null,
            "_view_module": "@jupyter-widgets/controls",
            "_view_module_version": "1.5.0",
            "_view_name": "HBoxView",
            "box_style": "",
            "children": [
              "IPY_MODEL_1b5aa92f8eaa4c8b86893ad69bcd7f06",
              "IPY_MODEL_9674d199914e4881995ca05b458415aa",
              "IPY_MODEL_3d5832c9467941a7973eba90479a292d"
            ],
            "layout": "IPY_MODEL_c1ade0ef8fb4426db277c2c21bdb0105"
          }
        },
        "1b5aa92f8eaa4c8b86893ad69bcd7f06": {
          "model_module": "@jupyter-widgets/controls",
          "model_name": "HTMLModel",
          "model_module_version": "1.5.0",
          "state": {
            "_dom_classes": [],
            "_model_module": "@jupyter-widgets/controls",
            "_model_module_version": "1.5.0",
            "_model_name": "HTMLModel",
            "_view_count": null,
            "_view_module": "@jupyter-widgets/controls",
            "_view_module_version": "1.5.0",
            "_view_name": "HTMLView",
            "description": "",
            "description_tooltip": null,
            "layout": "IPY_MODEL_220626c65f0345e48d29b796228e054d",
            "placeholder": "​",
            "style": "IPY_MODEL_36ba81768d8043eface2e89a9f7fae74",
            "value": "vocab.txt: 100%"
          }
        },
        "9674d199914e4881995ca05b458415aa": {
          "model_module": "@jupyter-widgets/controls",
          "model_name": "FloatProgressModel",
          "model_module_version": "1.5.0",
          "state": {
            "_dom_classes": [],
            "_model_module": "@jupyter-widgets/controls",
            "_model_module_version": "1.5.0",
            "_model_name": "FloatProgressModel",
            "_view_count": null,
            "_view_module": "@jupyter-widgets/controls",
            "_view_module_version": "1.5.0",
            "_view_name": "ProgressView",
            "bar_style": "success",
            "description": "",
            "description_tooltip": null,
            "layout": "IPY_MODEL_49021013aaec49e6a51d1c5bc169a200",
            "max": 226150,
            "min": 0,
            "orientation": "horizontal",
            "style": "IPY_MODEL_175bf6ecebdd4a91ba30e34e539a6ea2",
            "value": 226150
          }
        },
        "3d5832c9467941a7973eba90479a292d": {
          "model_module": "@jupyter-widgets/controls",
          "model_name": "HTMLModel",
          "model_module_version": "1.5.0",
          "state": {
            "_dom_classes": [],
            "_model_module": "@jupyter-widgets/controls",
            "_model_module_version": "1.5.0",
            "_model_name": "HTMLModel",
            "_view_count": null,
            "_view_module": "@jupyter-widgets/controls",
            "_view_module_version": "1.5.0",
            "_view_name": "HTMLView",
            "description": "",
            "description_tooltip": null,
            "layout": "IPY_MODEL_931ccabfa5ab4f9cbe6a769b6fdb1bdb",
            "placeholder": "​",
            "style": "IPY_MODEL_e754508944af49cbbfa73cb3f5774acc",
            "value": " 226k/226k [00:00&lt;00:00, 8.97MB/s]"
          }
        },
        "c1ade0ef8fb4426db277c2c21bdb0105": {
          "model_module": "@jupyter-widgets/base",
          "model_name": "LayoutModel",
          "model_module_version": "1.2.0",
          "state": {
            "_model_module": "@jupyter-widgets/base",
            "_model_module_version": "1.2.0",
            "_model_name": "LayoutModel",
            "_view_count": null,
            "_view_module": "@jupyter-widgets/base",
            "_view_module_version": "1.2.0",
            "_view_name": "LayoutView",
            "align_content": null,
            "align_items": null,
            "align_self": null,
            "border": null,
            "bottom": null,
            "display": null,
            "flex": null,
            "flex_flow": null,
            "grid_area": null,
            "grid_auto_columns": null,
            "grid_auto_flow": null,
            "grid_auto_rows": null,
            "grid_column": null,
            "grid_gap": null,
            "grid_row": null,
            "grid_template_areas": null,
            "grid_template_columns": null,
            "grid_template_rows": null,
            "height": null,
            "justify_content": null,
            "justify_items": null,
            "left": null,
            "margin": null,
            "max_height": null,
            "max_width": null,
            "min_height": null,
            "min_width": null,
            "object_fit": null,
            "object_position": null,
            "order": null,
            "overflow": null,
            "overflow_x": null,
            "overflow_y": null,
            "padding": null,
            "right": null,
            "top": null,
            "visibility": null,
            "width": null
          }
        },
        "220626c65f0345e48d29b796228e054d": {
          "model_module": "@jupyter-widgets/base",
          "model_name": "LayoutModel",
          "model_module_version": "1.2.0",
          "state": {
            "_model_module": "@jupyter-widgets/base",
            "_model_module_version": "1.2.0",
            "_model_name": "LayoutModel",
            "_view_count": null,
            "_view_module": "@jupyter-widgets/base",
            "_view_module_version": "1.2.0",
            "_view_name": "LayoutView",
            "align_content": null,
            "align_items": null,
            "align_self": null,
            "border": null,
            "bottom": null,
            "display": null,
            "flex": null,
            "flex_flow": null,
            "grid_area": null,
            "grid_auto_columns": null,
            "grid_auto_flow": null,
            "grid_auto_rows": null,
            "grid_column": null,
            "grid_gap": null,
            "grid_row": null,
            "grid_template_areas": null,
            "grid_template_columns": null,
            "grid_template_rows": null,
            "height": null,
            "justify_content": null,
            "justify_items": null,
            "left": null,
            "margin": null,
            "max_height": null,
            "max_width": null,
            "min_height": null,
            "min_width": null,
            "object_fit": null,
            "object_position": null,
            "order": null,
            "overflow": null,
            "overflow_x": null,
            "overflow_y": null,
            "padding": null,
            "right": null,
            "top": null,
            "visibility": null,
            "width": null
          }
        },
        "36ba81768d8043eface2e89a9f7fae74": {
          "model_module": "@jupyter-widgets/controls",
          "model_name": "DescriptionStyleModel",
          "model_module_version": "1.5.0",
          "state": {
            "_model_module": "@jupyter-widgets/controls",
            "_model_module_version": "1.5.0",
            "_model_name": "DescriptionStyleModel",
            "_view_count": null,
            "_view_module": "@jupyter-widgets/base",
            "_view_module_version": "1.2.0",
            "_view_name": "StyleView",
            "description_width": ""
          }
        },
        "49021013aaec49e6a51d1c5bc169a200": {
          "model_module": "@jupyter-widgets/base",
          "model_name": "LayoutModel",
          "model_module_version": "1.2.0",
          "state": {
            "_model_module": "@jupyter-widgets/base",
            "_model_module_version": "1.2.0",
            "_model_name": "LayoutModel",
            "_view_count": null,
            "_view_module": "@jupyter-widgets/base",
            "_view_module_version": "1.2.0",
            "_view_name": "LayoutView",
            "align_content": null,
            "align_items": null,
            "align_self": null,
            "border": null,
            "bottom": null,
            "display": null,
            "flex": null,
            "flex_flow": null,
            "grid_area": null,
            "grid_auto_columns": null,
            "grid_auto_flow": null,
            "grid_auto_rows": null,
            "grid_column": null,
            "grid_gap": null,
            "grid_row": null,
            "grid_template_areas": null,
            "grid_template_columns": null,
            "grid_template_rows": null,
            "height": null,
            "justify_content": null,
            "justify_items": null,
            "left": null,
            "margin": null,
            "max_height": null,
            "max_width": null,
            "min_height": null,
            "min_width": null,
            "object_fit": null,
            "object_position": null,
            "order": null,
            "overflow": null,
            "overflow_x": null,
            "overflow_y": null,
            "padding": null,
            "right": null,
            "top": null,
            "visibility": null,
            "width": null
          }
        },
        "175bf6ecebdd4a91ba30e34e539a6ea2": {
          "model_module": "@jupyter-widgets/controls",
          "model_name": "ProgressStyleModel",
          "model_module_version": "1.5.0",
          "state": {
            "_model_module": "@jupyter-widgets/controls",
            "_model_module_version": "1.5.0",
            "_model_name": "ProgressStyleModel",
            "_view_count": null,
            "_view_module": "@jupyter-widgets/base",
            "_view_module_version": "1.2.0",
            "_view_name": "StyleView",
            "bar_color": null,
            "description_width": ""
          }
        },
        "931ccabfa5ab4f9cbe6a769b6fdb1bdb": {
          "model_module": "@jupyter-widgets/base",
          "model_name": "LayoutModel",
          "model_module_version": "1.2.0",
          "state": {
            "_model_module": "@jupyter-widgets/base",
            "_model_module_version": "1.2.0",
            "_model_name": "LayoutModel",
            "_view_count": null,
            "_view_module": "@jupyter-widgets/base",
            "_view_module_version": "1.2.0",
            "_view_name": "LayoutView",
            "align_content": null,
            "align_items": null,
            "align_self": null,
            "border": null,
            "bottom": null,
            "display": null,
            "flex": null,
            "flex_flow": null,
            "grid_area": null,
            "grid_auto_columns": null,
            "grid_auto_flow": null,
            "grid_auto_rows": null,
            "grid_column": null,
            "grid_gap": null,
            "grid_row": null,
            "grid_template_areas": null,
            "grid_template_columns": null,
            "grid_template_rows": null,
            "height": null,
            "justify_content": null,
            "justify_items": null,
            "left": null,
            "margin": null,
            "max_height": null,
            "max_width": null,
            "min_height": null,
            "min_width": null,
            "object_fit": null,
            "object_position": null,
            "order": null,
            "overflow": null,
            "overflow_x": null,
            "overflow_y": null,
            "padding": null,
            "right": null,
            "top": null,
            "visibility": null,
            "width": null
          }
        },
        "e754508944af49cbbfa73cb3f5774acc": {
          "model_module": "@jupyter-widgets/controls",
          "model_name": "DescriptionStyleModel",
          "model_module_version": "1.5.0",
          "state": {
            "_model_module": "@jupyter-widgets/controls",
            "_model_module_version": "1.5.0",
            "_model_name": "DescriptionStyleModel",
            "_view_count": null,
            "_view_module": "@jupyter-widgets/base",
            "_view_module_version": "1.2.0",
            "_view_name": "StyleView",
            "description_width": ""
          }
        },
        "820118e5290f4fdc9cf9a66e83592aa8": {
          "model_module": "@jupyter-widgets/controls",
          "model_name": "HBoxModel",
          "model_module_version": "1.5.0",
          "state": {
            "_dom_classes": [],
            "_model_module": "@jupyter-widgets/controls",
            "_model_module_version": "1.5.0",
            "_model_name": "HBoxModel",
            "_view_count": null,
            "_view_module": "@jupyter-widgets/controls",
            "_view_module_version": "1.5.0",
            "_view_name": "HBoxView",
            "box_style": "",
            "children": [
              "IPY_MODEL_0b18c972a5e648b3aa49da32043f50ed",
              "IPY_MODEL_e19f6487e66f4d1fa3ea031815442993",
              "IPY_MODEL_21b35abc6f7b418bac732a7d14bf5881"
            ],
            "layout": "IPY_MODEL_f0662216554a444cbda09e28bb6b1a9b"
          }
        },
        "0b18c972a5e648b3aa49da32043f50ed": {
          "model_module": "@jupyter-widgets/controls",
          "model_name": "HTMLModel",
          "model_module_version": "1.5.0",
          "state": {
            "_dom_classes": [],
            "_model_module": "@jupyter-widgets/controls",
            "_model_module_version": "1.5.0",
            "_model_name": "HTMLModel",
            "_view_count": null,
            "_view_module": "@jupyter-widgets/controls",
            "_view_module_version": "1.5.0",
            "_view_name": "HTMLView",
            "description": "",
            "description_tooltip": null,
            "layout": "IPY_MODEL_3698058d1b3c452286b5a2697b32820d",
            "placeholder": "​",
            "style": "IPY_MODEL_823d6cd448774036bc14d68273db49ca",
            "value": "pytorch_model.bin: 100%"
          }
        },
        "e19f6487e66f4d1fa3ea031815442993": {
          "model_module": "@jupyter-widgets/controls",
          "model_name": "FloatProgressModel",
          "model_module_version": "1.5.0",
          "state": {
            "_dom_classes": [],
            "_model_module": "@jupyter-widgets/controls",
            "_model_module_version": "1.5.0",
            "_model_name": "FloatProgressModel",
            "_view_count": null,
            "_view_module": "@jupyter-widgets/controls",
            "_view_module_version": "1.5.0",
            "_view_name": "ProgressView",
            "bar_style": "success",
            "description": "",
            "description_tooltip": null,
            "layout": "IPY_MODEL_c3a852807e364e81832eb326e54bf3d0",
            "max": 440474434,
            "min": 0,
            "orientation": "horizontal",
            "style": "IPY_MODEL_333819154fab477ba72d62dde63aed5c",
            "value": 440474434
          }
        },
        "21b35abc6f7b418bac732a7d14bf5881": {
          "model_module": "@jupyter-widgets/controls",
          "model_name": "HTMLModel",
          "model_module_version": "1.5.0",
          "state": {
            "_dom_classes": [],
            "_model_module": "@jupyter-widgets/controls",
            "_model_module_version": "1.5.0",
            "_model_name": "HTMLModel",
            "_view_count": null,
            "_view_module": "@jupyter-widgets/controls",
            "_view_module_version": "1.5.0",
            "_view_name": "HTMLView",
            "description": "",
            "description_tooltip": null,
            "layout": "IPY_MODEL_1cb57c9680b841ccba8e6221f9ad211c",
            "placeholder": "​",
            "style": "IPY_MODEL_257f42a65aca4a2eaf3725fd27aa052e",
            "value": " 440M/440M [00:06&lt;00:00, 132MB/s]"
          }
        },
        "f0662216554a444cbda09e28bb6b1a9b": {
          "model_module": "@jupyter-widgets/base",
          "model_name": "LayoutModel",
          "model_module_version": "1.2.0",
          "state": {
            "_model_module": "@jupyter-widgets/base",
            "_model_module_version": "1.2.0",
            "_model_name": "LayoutModel",
            "_view_count": null,
            "_view_module": "@jupyter-widgets/base",
            "_view_module_version": "1.2.0",
            "_view_name": "LayoutView",
            "align_content": null,
            "align_items": null,
            "align_self": null,
            "border": null,
            "bottom": null,
            "display": null,
            "flex": null,
            "flex_flow": null,
            "grid_area": null,
            "grid_auto_columns": null,
            "grid_auto_flow": null,
            "grid_auto_rows": null,
            "grid_column": null,
            "grid_gap": null,
            "grid_row": null,
            "grid_template_areas": null,
            "grid_template_columns": null,
            "grid_template_rows": null,
            "height": null,
            "justify_content": null,
            "justify_items": null,
            "left": null,
            "margin": null,
            "max_height": null,
            "max_width": null,
            "min_height": null,
            "min_width": null,
            "object_fit": null,
            "object_position": null,
            "order": null,
            "overflow": null,
            "overflow_x": null,
            "overflow_y": null,
            "padding": null,
            "right": null,
            "top": null,
            "visibility": null,
            "width": null
          }
        },
        "3698058d1b3c452286b5a2697b32820d": {
          "model_module": "@jupyter-widgets/base",
          "model_name": "LayoutModel",
          "model_module_version": "1.2.0",
          "state": {
            "_model_module": "@jupyter-widgets/base",
            "_model_module_version": "1.2.0",
            "_model_name": "LayoutModel",
            "_view_count": null,
            "_view_module": "@jupyter-widgets/base",
            "_view_module_version": "1.2.0",
            "_view_name": "LayoutView",
            "align_content": null,
            "align_items": null,
            "align_self": null,
            "border": null,
            "bottom": null,
            "display": null,
            "flex": null,
            "flex_flow": null,
            "grid_area": null,
            "grid_auto_columns": null,
            "grid_auto_flow": null,
            "grid_auto_rows": null,
            "grid_column": null,
            "grid_gap": null,
            "grid_row": null,
            "grid_template_areas": null,
            "grid_template_columns": null,
            "grid_template_rows": null,
            "height": null,
            "justify_content": null,
            "justify_items": null,
            "left": null,
            "margin": null,
            "max_height": null,
            "max_width": null,
            "min_height": null,
            "min_width": null,
            "object_fit": null,
            "object_position": null,
            "order": null,
            "overflow": null,
            "overflow_x": null,
            "overflow_y": null,
            "padding": null,
            "right": null,
            "top": null,
            "visibility": null,
            "width": null
          }
        },
        "823d6cd448774036bc14d68273db49ca": {
          "model_module": "@jupyter-widgets/controls",
          "model_name": "DescriptionStyleModel",
          "model_module_version": "1.5.0",
          "state": {
            "_model_module": "@jupyter-widgets/controls",
            "_model_module_version": "1.5.0",
            "_model_name": "DescriptionStyleModel",
            "_view_count": null,
            "_view_module": "@jupyter-widgets/base",
            "_view_module_version": "1.2.0",
            "_view_name": "StyleView",
            "description_width": ""
          }
        },
        "c3a852807e364e81832eb326e54bf3d0": {
          "model_module": "@jupyter-widgets/base",
          "model_name": "LayoutModel",
          "model_module_version": "1.2.0",
          "state": {
            "_model_module": "@jupyter-widgets/base",
            "_model_module_version": "1.2.0",
            "_model_name": "LayoutModel",
            "_view_count": null,
            "_view_module": "@jupyter-widgets/base",
            "_view_module_version": "1.2.0",
            "_view_name": "LayoutView",
            "align_content": null,
            "align_items": null,
            "align_self": null,
            "border": null,
            "bottom": null,
            "display": null,
            "flex": null,
            "flex_flow": null,
            "grid_area": null,
            "grid_auto_columns": null,
            "grid_auto_flow": null,
            "grid_auto_rows": null,
            "grid_column": null,
            "grid_gap": null,
            "grid_row": null,
            "grid_template_areas": null,
            "grid_template_columns": null,
            "grid_template_rows": null,
            "height": null,
            "justify_content": null,
            "justify_items": null,
            "left": null,
            "margin": null,
            "max_height": null,
            "max_width": null,
            "min_height": null,
            "min_width": null,
            "object_fit": null,
            "object_position": null,
            "order": null,
            "overflow": null,
            "overflow_x": null,
            "overflow_y": null,
            "padding": null,
            "right": null,
            "top": null,
            "visibility": null,
            "width": null
          }
        },
        "333819154fab477ba72d62dde63aed5c": {
          "model_module": "@jupyter-widgets/controls",
          "model_name": "ProgressStyleModel",
          "model_module_version": "1.5.0",
          "state": {
            "_model_module": "@jupyter-widgets/controls",
            "_model_module_version": "1.5.0",
            "_model_name": "ProgressStyleModel",
            "_view_count": null,
            "_view_module": "@jupyter-widgets/base",
            "_view_module_version": "1.2.0",
            "_view_name": "StyleView",
            "bar_color": null,
            "description_width": ""
          }
        },
        "1cb57c9680b841ccba8e6221f9ad211c": {
          "model_module": "@jupyter-widgets/base",
          "model_name": "LayoutModel",
          "model_module_version": "1.2.0",
          "state": {
            "_model_module": "@jupyter-widgets/base",
            "_model_module_version": "1.2.0",
            "_model_name": "LayoutModel",
            "_view_count": null,
            "_view_module": "@jupyter-widgets/base",
            "_view_module_version": "1.2.0",
            "_view_name": "LayoutView",
            "align_content": null,
            "align_items": null,
            "align_self": null,
            "border": null,
            "bottom": null,
            "display": null,
            "flex": null,
            "flex_flow": null,
            "grid_area": null,
            "grid_auto_columns": null,
            "grid_auto_flow": null,
            "grid_auto_rows": null,
            "grid_column": null,
            "grid_gap": null,
            "grid_row": null,
            "grid_template_areas": null,
            "grid_template_columns": null,
            "grid_template_rows": null,
            "height": null,
            "justify_content": null,
            "justify_items": null,
            "left": null,
            "margin": null,
            "max_height": null,
            "max_width": null,
            "min_height": null,
            "min_width": null,
            "object_fit": null,
            "object_position": null,
            "order": null,
            "overflow": null,
            "overflow_x": null,
            "overflow_y": null,
            "padding": null,
            "right": null,
            "top": null,
            "visibility": null,
            "width": null
          }
        },
        "257f42a65aca4a2eaf3725fd27aa052e": {
          "model_module": "@jupyter-widgets/controls",
          "model_name": "DescriptionStyleModel",
          "model_module_version": "1.5.0",
          "state": {
            "_model_module": "@jupyter-widgets/controls",
            "_model_module_version": "1.5.0",
            "_model_name": "DescriptionStyleModel",
            "_view_count": null,
            "_view_module": "@jupyter-widgets/base",
            "_view_module_version": "1.2.0",
            "_view_name": "StyleView",
            "description_width": ""
          }
        }
      }
    }
  },
  "nbformat": 4,
  "nbformat_minor": 0
}