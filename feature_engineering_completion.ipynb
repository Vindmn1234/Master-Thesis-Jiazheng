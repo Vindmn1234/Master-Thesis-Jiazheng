{
  "cells": [
    {
      "cell_type": "code",
      "execution_count": null,
      "metadata": {
        "id": "esD_kdTAU6bQ",
        "tags": []
      },
      "outputs": [],
      "source": [
        "import pandas as pd\n",
        "import requests\n",
        "# from bs4 import BeautifulSoup\n",
        "import matplotlib.pyplot as plt\n",
        "import urllib.parse\n",
        "import re\n",
        "import numpy as np\n",
        "import seaborn as sns\n",
        "import ast\n",
        "from wordcloud import WordCloud, STOPWORDS\n",
        "import sklearn\n",
        "from transformers import AutoTokenizer, AutoModel\n",
        "import torch\n",
        "from sklearn.decomposition import PCA\n",
        "import ast"
      ]
    },
    {
      "cell_type": "code",
      "execution_count": null,
      "metadata": {
        "colab": {
          "base_uri": "https://localhost:8080/"
        },
        "id": "NPerXzw_VHrc",
        "outputId": "14e5c809-c8fc-4a36-f605-7308e4f57a7c"
      },
      "outputs": [],
      "source": [
        "from google.colab import drive\n",
        "drive.mount('/content/drive')"
      ]
    },
    {
      "cell_type": "code",
      "execution_count": null,
      "metadata": {
        "colab": {
          "base_uri": "https://localhost:8080/",
          "height": 355
        },
        "id": "O5VpZVJWU6bS",
        "outputId": "5c2160fe-c7b5-453e-e3c5-1a284ff0ef3c",
        "tags": []
      },
      "outputs": [],
      "source": [
        "df = pd.read_parquet('/Users/jiazhengli/Desktop/project_root/clinical_trials_interventional.parquet')\n",
        "print(df.shape)\n",
        "df.head()\n",
        "\n",
        "# df = pd.read_parquet('/Users/jiazhengli/Desktop/project_root/clinical_trials_interventional.parquet', engine='pyarrow', columns=None).head(10000)\n",
        "# print(df.shape)\n",
        "# df.head()"
      ]
    },
    {
      "cell_type": "code",
      "execution_count": null,
      "metadata": {},
      "outputs": [],
      "source": [
        "df['protocolSection.statusModule.overallStatus'].value_counts()"
      ]
    },
    {
      "cell_type": "code",
      "execution_count": null,
      "metadata": {},
      "outputs": [],
      "source": [
        "selected_statuses = [\"COMPLETED\", \"TERMINATED\", \"SUSPENDED\", \"WITHDRAWN\"]\n",
        "\n",
        "df = df[df['protocolSection.statusModule.overallStatus'].isin(selected_statuses)].reset_index(drop=True)\n",
        "# df.shape"
      ]
    },
    {
      "cell_type": "code",
      "execution_count": null,
      "metadata": {},
      "outputs": [],
      "source": [
        "df.columns = df.columns.str.split('.', n=1).str[1].str.replace('.', '_', regex=False)"
      ]
    },
    {
      "cell_type": "code",
      "execution_count": null,
      "metadata": {
        "tags": []
      },
      "outputs": [],
      "source": [
        "columns_to_keep = ['identificationModule_nctId', 'statusModule_overallStatus', 'designModule_phases', 'identificationModule_organization_class', 'oversightModule_oversightHasDmc', 'oversightModule_isFdaRegulatedDrug', 'oversightModule_isFdaRegulatedDevice',\n",
        "'designModule_designInfo_allocation', 'designModule_designInfo_interventionModel', 'designModule_designInfo_primaryPurpose', 'designModule_designInfo_maskingInfo_masking', 'eligibilityModule_healthyVolunteers', 'eligibilityModule_sex', 'moreInfoModule_certainAgreement_piSponsorEmployee',\n",
        "'moreInfoModule_certainAgreement_restrictiveAgreement', 'statusModule_completionDateStruct_date',\n",
        "'statusModule_startDateStruct_date', 'eligibilityModule_eligibilityCriteria', 'contactsLocationsModule_locations',\n",
        "'conditionBrowseModule_ancestors', 'sponsorCollaboratorsModule_collaborators', 'interventionBrowseModule_meshes',\n",
        "'descriptionModule_briefSummary', 'descriptionModule_detailedDescription'\n",
        "]\n",
        "\n",
        "df = df[columns_to_keep]\n",
        "print(df.shape)\n",
        "df.head()"
      ]
    },
    {
      "cell_type": "markdown",
      "metadata": {
        "id": "QyFgniUnU6bS"
      },
      "source": [
        "Encode Phase"
      ]
    },
    {
      "cell_type": "code",
      "execution_count": null,
      "metadata": {
        "id": "vy-dNx7dU6bT",
        "outputId": "5ae898b2-e71a-42d1-ed2a-a6281494a618",
        "tags": []
      },
      "outputs": [],
      "source": [
        "# Rename values in the 'Phase' column\n",
        "\n",
        "# def fix_phases(phases):\n",
        "#     if pd.isna(phases):  # Handle NaN values\n",
        "#         return ['NA']\n",
        "#     if isinstance(phases, str):  # Convert string to a Python list\n",
        "#         try:\n",
        "#             phases = ast.literal_eval(phases)  # Safely parse the string\n",
        "#         except (ValueError, SyntaxError):  # Handle any malformed strings\n",
        "#             return ['NA']\n",
        "#     if isinstance(phases, list):  # Process the list\n",
        "#         return ['PHASE1' if phase == 'EARLY_PHASE1' else phase for phase in phases]\n",
        "#     return ['NA']  # Default to ['NA'] for unexpected cases\n",
        "\n",
        "# df['designModule_phases'] = df['designModule_phases'].apply(fix_phases)\n",
        "def fix_phases(phases):\n",
        "    if isinstance(phases, float) and pd.isna(phases):  # Handle NaN values\n",
        "        return ['NA']\n",
        "\n",
        "    if isinstance(phases, np.ndarray):  # Convert NumPy arrays to Python lists\n",
        "        phases = phases.tolist()\n",
        "\n",
        "    if isinstance(phases, list):  # Process lists correctly\n",
        "        return ['PHASE1' if phase == 'EARLY_PHASE1' else phase for phase in phases]\n",
        "\n",
        "    return ['NA']  # Default case\n",
        "\n",
        "# Apply function with `.loc` to avoid `SettingWithCopyWarning`\n",
        "df.loc[:, 'designModule_phases'] = df['designModule_phases']\n",
        "\n",
        "df['designModule_phases'].value_counts()"
      ]
    },
    {
      "cell_type": "code",
      "execution_count": null,
      "metadata": {
        "id": "324uWauiU6bT",
        "outputId": "9ce89e66-1073-4fdc-d48d-cadf84baf109",
        "tags": []
      },
      "outputs": [],
      "source": [
        "# Ensure the column contains only valid lists\n",
        "df['designModule_phases'] = df['designModule_phases'].apply(\n",
        "    lambda x: x.tolist() if isinstance(x, np.ndarray) else x  # Convert NumPy arrays to lists\n",
        ")\n",
        "\n",
        "# Create dummy variables for each phase\n",
        "valid_phases = ['PHASE1', 'PHASE2', 'PHASE3', 'PHASE4', 'NA']\n",
        "\n",
        "for phase in valid_phases:\n",
        "    df[phase] = df['designModule_phases'].apply(lambda x: int(phase in x) if isinstance(x, list) else 0)\n",
        "\n",
        "# Display the dummy columns\n",
        "print(df[valid_phases].head())"
      ]
    },
    {
      "cell_type": "code",
      "execution_count": null,
      "metadata": {
        "id": "idqzmRbvU6bU"
      },
      "outputs": [],
      "source": [
        "df = df.drop(columns=['NA','designModule_phases'])"
      ]
    },
    {
      "cell_type": "code",
      "execution_count": null,
      "metadata": {
        "id": "fNlA_ayDU6bU"
      },
      "outputs": [],
      "source": [
        "# def create_dummies(df, column_name):\n",
        "#     \"\"\"\n",
        "#     Creates dummy variables for a categorical column, handles missing values, and drops the original column and 'NA' dummy.\n",
        "\n",
        "#     Parameters:\n",
        "#         df (pd.DataFrame): The DataFrame containing the column to process.\n",
        "#         column_name (str): The name of the column to transform.\n",
        "\n",
        "#     Returns:\n",
        "#         pd.DataFrame: The DataFrame with dummy variables added and the original column removed.\n",
        "#     \"\"\"\n",
        "#     # Check for missing values and fill with 'NA'\n",
        "#     df[column_name] = df[column_name].fillna('NA')\n",
        "\n",
        "#     # Create dummy variables\n",
        "#     dummies = pd.get_dummies(df[column_name], prefix=\"\", prefix_sep=\"\")\n",
        "\n",
        "#     # Drop the 'NA' column if it exists\n",
        "#     if 'NA' in dummies.columns:\n",
        "#         dummies = dummies.drop(columns=['NA'])\n",
        "\n",
        "#     # Drop the original column\n",
        "#     df = df.drop(columns=[column_name])\n",
        "\n",
        "#     # Concatenate the dummies with the original DataFrame\n",
        "#     df = pd.concat([df, dummies], axis=1)\n",
        "\n",
        "#     return df\n",
        "def create_dummies(df, column_name):\n",
        "    \"\"\"\n",
        "    Creates dummy variables for a categorical column, handles missing values, and drops the original column and 'NA' dummy.\n",
        "    \"\"\"\n",
        "    df = df.copy()  # Avoid modifying the original DataFrame\n",
        "    df[column_name] = df[column_name].fillna('NA')\n",
        "    dummies = pd.get_dummies(df[column_name], prefix=\"\", prefix_sep=\"\")\n",
        "\n",
        "    if 'NA' in dummies.columns:\n",
        "        dummies = dummies.drop(columns='NA')\n",
        "\n",
        "    df = pd.concat([df.drop(columns=column_name), dummies], axis=1)\n",
        "    return df\n"
      ]
    },
    {
      "cell_type": "markdown",
      "metadata": {
        "id": "tIfXkRHfU6bV"
      },
      "source": [
        "Encode organization class"
      ]
    },
    {
      "cell_type": "code",
      "execution_count": null,
      "metadata": {
        "id": "VTBe1OgYU6bV"
      },
      "outputs": [],
      "source": [
        "df = create_dummies(df, 'identificationModule_organization_class')\n",
        "df = df.rename(columns={\n",
        "    'FED': 'organization_class_FED',\n",
        "    'INDIV': 'organization_class_INDIV',\n",
        "    'INDUSTRY': 'organization_class_INDUSTRY',\n",
        "    'NETWORK': 'organization_class_NETWORK',\n",
        "    'NIH': 'organization_class_NIH',\n",
        "    'OTHER': 'organization_class_OTHER',\n",
        "    'OTHER_GOV': 'organization_class_OTHER_GOV',\n",
        "    'UNKNOWN': 'organization_class_UNKNOWN'\n",
        "})"
      ]
    },
    {
      "cell_type": "code",
      "execution_count": null,
      "metadata": {
        "id": "0-MDDQkuU6bV"
      },
      "outputs": [],
      "source": [
        "df = create_dummies(df, 'oversightModule_oversightHasDmc')\n",
        "df = df.rename(columns={\n",
        "    'False': 'oversightHasDmc_no',\n",
        "    'True': 'oversightHasDmc_yes'\n",
        "})"
      ]
    },
    {
      "cell_type": "code",
      "execution_count": null,
      "metadata": {
        "id": "aW-wyPgHU6bW"
      },
      "outputs": [],
      "source": [
        "df = create_dummies(df, 'oversightModule_isFdaRegulatedDrug')\n",
        "df = df.rename(columns={\n",
        "    'False': 'FdaRegulatedDrug_no',\n",
        "    'True': 'FdaRegulatedDrug_yes'\n",
        "})"
      ]
    },
    {
      "cell_type": "code",
      "execution_count": null,
      "metadata": {
        "id": "_4_0uP7QU6bX"
      },
      "outputs": [],
      "source": [
        "df = create_dummies(df, 'oversightModule_isFdaRegulatedDevice')\n",
        "df = df.rename(columns={\n",
        "    'False': 'FdaRegulatedDevice_no',\n",
        "    'True': 'FdaRegulatedDevice_yes'\n",
        "})"
      ]
    },
    {
      "cell_type": "code",
      "execution_count": null,
      "metadata": {
        "id": "GDXka5oKU6bX"
      },
      "outputs": [],
      "source": [
        "df = create_dummies(df, 'designModule_designInfo_allocation')\n",
        "df = df.rename(columns={\n",
        "    'NON_RANDOMIZED': 'designInfo_allocation_NON_RANDOMIZED',\n",
        "    'RANDOMIZED': 'designInfo_allocation_RANDOMIZED'\n",
        "})"
      ]
    },
    {
      "cell_type": "code",
      "execution_count": null,
      "metadata": {
        "id": "sAqzzeXWU6bX"
      },
      "outputs": [],
      "source": [
        "df = create_dummies(df, 'designModule_designInfo_interventionModel')\n",
        "df = df.rename(columns={\n",
        "    'CROSSOVER': 'interventionModel_CROSSOVER',\n",
        "    'FACTORIAL': 'interventionModel_FACTORIAL',\n",
        "    'PARALLEL': 'interventionModel_PARALLEL',\n",
        "    'SEQUENTIAL': 'interventionModel_SEQUENTIAL',\n",
        "    'SINGLE_GROUP': 'interventionModel_SINGLE_GROUP'\n",
        "})"
      ]
    },
    {
      "cell_type": "code",
      "execution_count": null,
      "metadata": {
        "id": "u_NK6KqbU6bY"
      },
      "outputs": [],
      "source": [
        "df = create_dummies(df, 'designModule_designInfo_primaryPurpose')\n",
        "df = df.rename(columns={\n",
        "    'BASIC_SCIENCE': 'primaryPurpose_BASIC_SCIENCE',\n",
        "    'DEVICE_FEASIBILITY': 'primaryPurpose_DEVICE_FEASIBILITY',\n",
        "    'DIAGNOSTIC': 'primaryPurpose_DIAGNOSTIC',\n",
        "    'ECT': 'primaryPurpose_ECT',\n",
        "    'HEALTH_SERVICES_RESEARCH': 'primaryPurpose_HEALTH_SERVICES_RESEARCH',\n",
        "    'OTHER': 'primaryPurpose_OTHER',\n",
        "    'PREVENTION': 'primaryPurpose_PREVENTION',\n",
        "    'SCREENING': 'primaryPurpose_SCREENING',\n",
        "    'SUPPORTIVE_CARE': 'primaryPurpose_SUPPORTIVE_CARE',\n",
        "    'TREATMENT': 'primaryPurpose_TREATMENT'\n",
        "})"
      ]
    },
    {
      "cell_type": "code",
      "execution_count": null,
      "metadata": {
        "id": "UYutkeO0U6bY"
      },
      "outputs": [],
      "source": [
        "df = create_dummies(df, 'designModule_designInfo_maskingInfo_masking')\n",
        "df = df.rename(columns={\n",
        "    'DOUBLE': 'masking_DOUBLE',\n",
        "    'NONE': 'masking_NONE',\n",
        "    'QUADRUPLE': 'masking_QUADRUPLE',\n",
        "    'SINGLE': 'masking_SINGLE',\n",
        "    'TRIPLE': 'masking_TRIPLE'\n",
        "})"
      ]
    },
    {
      "cell_type": "code",
      "execution_count": null,
      "metadata": {
        "id": "KhI-FVPKU6bY"
      },
      "outputs": [],
      "source": [
        "df = create_dummies(df, 'eligibilityModule_healthyVolunteers')\n",
        "df = df.rename(columns={\n",
        "    'False': 'healthyVolunteers_no',\n",
        "    'True': 'healthyVolunteers_yes'\n",
        "})"
      ]
    },
    {
      "cell_type": "code",
      "execution_count": null,
      "metadata": {
        "id": "Ij6DEBt7U6bZ"
      },
      "outputs": [],
      "source": [
        "df = create_dummies(df, 'eligibilityModule_sex')\n",
        "df = df.rename(columns={\n",
        "    'ALL': 'sex_all',\n",
        "    'FEMALE': 'sex_female',\n",
        "    'MALE': 'sex_male'\n",
        "})"
      ]
    },
    {
      "cell_type": "code",
      "execution_count": null,
      "metadata": {
        "id": "3BTadbPeU6bZ"
      },
      "outputs": [],
      "source": [
        "df = create_dummies(df, 'moreInfoModule_certainAgreement_piSponsorEmployee')\n",
        "df = df.rename(columns={\n",
        "    'False': 'piSponsorEmployee_no',\n",
        "    'True': 'piSponsorEmployee_yes'\n",
        "})"
      ]
    },
    {
      "cell_type": "code",
      "execution_count": null,
      "metadata": {
        "id": "vGE5TroKU6bZ"
      },
      "outputs": [],
      "source": [
        "df = create_dummies(df, 'moreInfoModule_certainAgreement_restrictiveAgreement')\n",
        "df = df.rename(columns={\n",
        "    'False': 'restrictiveAgreement_no',\n",
        "    'True': 'restrictiveAgreement_yes'\n",
        "})"
      ]
    },
    {
      "cell_type": "code",
      "execution_count": null,
      "metadata": {
        "id": "MLsH1pWBU6ba"
      },
      "outputs": [],
      "source": [
        "def fill_incomplete_date(date_str):\n",
        "    if pd.isna(date_str):\n",
        "        return date_str  # Leave NaN as is\n",
        "    if len(date_str) == 7:  # Format like '2004-10'\n",
        "        return date_str + '-15'  # Add '-15' for the middle of the month\n",
        "    return date_str\n",
        "\n",
        "# Clean and fill incomplete dates\n",
        "df['statusModule_startDateStruct_date'] = df['statusModule_startDateStruct_date'].apply(fill_incomplete_date)\n",
        "df['statusModule_completionDateStruct_date'] = df['statusModule_completionDateStruct_date'].apply(fill_incomplete_date)\n",
        "\n",
        "# Convert to datetime, leaving NaN values as is\n",
        "df['statusModule_startDateStruct_date'] = pd.to_datetime(df['statusModule_startDateStruct_date'], errors='coerce')\n",
        "df['statusModule_completionDateStruct_date'] = pd.to_datetime(df['statusModule_completionDateStruct_date'], errors='coerce')\n",
        "\n",
        "# Calculate duration in years for non-missing dates\n",
        "df['duration_of_trial'] = (\n",
        "    (df['statusModule_completionDateStruct_date'] - df['statusModule_startDateStruct_date']).dt.days / 365\n",
        ")\n",
        "\n",
        "# Group by 'statusModule_overallStatus' to calculate the average duration for each status\n",
        "average_durations = (\n",
        "    df[df['duration_of_trial'].notna()]\n",
        "    .groupby('statusModule_overallStatus')['duration_of_trial']\n",
        "    .mean()\n",
        ")\n",
        "# Fill missing durations with the average duration based on 'statusModule_overallStatus'\n",
        "def fill_missing_duration(row):\n",
        "    if pd.isna(row['duration_of_trial']):\n",
        "        return average_durations.get(row['statusModule_overallStatus'], None)  # Default to None if no status match\n",
        "    return row['duration_of_trial']\n",
        "\n",
        "df['duration_of_trial'] = df.apply(fill_missing_duration, axis=1)\n",
        "\n",
        "df = df.drop(columns=['statusModule_startDateStruct_date', 'statusModule_completionDateStruct_date'])\n"
      ]
    },
    {
      "cell_type": "code",
      "execution_count": null,
      "metadata": {
        "id": "8c1zIRaYU6ba",
        "outputId": "3bb7d144-58ae-4057-bb28-2622eb4fda9c",
        "tags": []
      },
      "outputs": [],
      "source": [
        "df['duration_of_trial'] = df['duration_of_trial'].fillna(df['duration_of_trial'].mean())\n",
        "print(\"Missing values in 'duration_of_trial':\", df['duration_of_trial'].isna().sum())"
      ]
    },
    {
      "cell_type": "code",
      "execution_count": null,
      "metadata": {
        "tags": []
      },
      "outputs": [],
      "source": [
        "def convert_age(value):\n",
        "    if pd.isna(value):  # Handle missing values\n",
        "        return None\n",
        "    elif \"Weeks\" in value:\n",
        "        return round(int(value.split()[0]) / 52, 2)  # Convert weeks to years\n",
        "    elif \"Years\" in value:\n",
        "        return int(value.split()[0])  # Extract numerical part\n",
        "    return None  # If unrecognized format\n",
        "\n",
        "# Apply conversion to both columns\n",
        "df['eligibilityModule_minimumAge'] = df['eligibilityModule_minimumAge'].apply(convert_age)\n",
        "df['eligibilityModule_maximumAge'] = df['eligibilityModule_maximumAge'].apply(convert_age)\n",
        "\n",
        "# Replace missing values\n",
        "df['eligibilityModule_minimumAge'].fillna(df['eligibilityModule_minimumAge'].min(), inplace=True)\n",
        "df['eligibilityModule_maximumAge'].fillna(df['eligibilityModule_maximumAge'].max(), inplace=True)\n",
        "\n",
        "df['eligibilityModule_maximumAge'] = df['eligibilityModule_maximumAge'].apply(lambda x: 100 if x > 100 else x)\n",
        "print(df['eligibilityModule_minimumAge'][:10])\n",
        "print(df['eligibilityModule_maximumAge'][:10])"
      ]
    },
    {
      "cell_type": "code",
      "execution_count": null,
      "metadata": {
        "tags": []
      },
      "outputs": [],
      "source": [
        "df['designModule_enrollmentInfo_count'].fillna(df['designModule_enrollmentInfo_count'].median(), inplace=True)"
      ]
    },
    {
      "cell_type": "code",
      "execution_count": null,
      "metadata": {},
      "outputs": [],
      "source": [
        "rare_categories = ['AMBIG', 'UNKNOWN', 'INDIV']\n",
        "\n",
        "# Replace rare categories with \"OTHER_SMALL\"\n",
        "df['sponsorCollaboratorsModule_leadSponsor_class'] = df['sponsorCollaboratorsModule_leadSponsor_class'].replace(rare_categories, 'OTHER_SMALL')\n",
        "\n",
        "# Create dummies while adding a prefix\n",
        "df = pd.get_dummies(df, columns=['sponsorCollaboratorsModule_leadSponsor_class'], prefix='leadsponsor')"
      ]
    },
    {
      "cell_type": "code",
      "execution_count": null,
      "metadata": {
        "id": "fScXcAz2U6bb"
      },
      "outputs": [],
      "source": [
        "def count_criteria(criteria_text):\n",
        "    inclusion_count = 0\n",
        "    exclusion_count = 0\n",
        "\n",
        "    # Ensure the input is a valid string and not NaN\n",
        "    if isinstance(criteria_text, str) and 'Inclusion Criteria' in criteria_text and 'Exclusion Criteria' in criteria_text:\n",
        "        # Split into inclusion and exclusion sections\n",
        "        try:\n",
        "            inclusion_section = criteria_text.split('Inclusion Criteria:')[1].split('Exclusion Criteria:')[0]\n",
        "            exclusion_section = criteria_text.split('Exclusion Criteria:')[1]\n",
        "\n",
        "            # Count bullet points (each * represents a new criterion)\n",
        "            inclusion_count = inclusion_section.count('*')\n",
        "            exclusion_count = exclusion_section.count('*')\n",
        "        except IndexError:\n",
        "            pass  # In case there's any issue with splitting or formatting\n",
        "\n",
        "    return inclusion_count, exclusion_count\n",
        "\n",
        "# Apply the function to the eligibility column\n",
        "df[['inclusion_count', 'exclusion_count']] = df['eligibilityModule_eligibilityCriteria'].apply(lambda x: pd.Series(count_criteria(x)))"
      ]
    },
    {
      "cell_type": "code",
      "execution_count": null,
      "metadata": {
        "id": "Mhoa_N3rU6bb",
        "outputId": "08d6a5e5-fadd-4292-87ec-91660340d41c"
      },
      "outputs": [],
      "source": [
        "df = df.drop(['eligibilityModule_eligibilityCriteria'], axis = 1)\n",
        "df[['inclusion_count', 'exclusion_count']]"
      ]
    },
    {
      "cell_type": "code",
      "execution_count": null,
      "metadata": {
        "id": "0bC1C2tKU6bb",
        "outputId": "55a22f86-6113-4b81-db1d-6f902d301bde"
      },
      "outputs": [],
      "source": [
        "def count_facilities(locations):\n",
        "    if isinstance(locations, float) and pd.isna(locations):  # Handle NaN values\n",
        "        return 0\n",
        "\n",
        "    if isinstance(locations, np.ndarray):  # Convert NumPy arrays to lists\n",
        "        locations = locations.tolist()\n",
        "\n",
        "    if isinstance(locations, list):  # Directly count list items\n",
        "        return len(locations)\n",
        "\n",
        "    if isinstance(locations, str):  # Convert string representation of a list\n",
        "        try:\n",
        "            parsed_locations = ast.literal_eval(locations)\n",
        "            if isinstance(parsed_locations, list):\n",
        "                return len(parsed_locations)\n",
        "        except (ValueError, SyntaxError):\n",
        "            return 0  # If parsing fails, return 0\n",
        "\n",
        "    return 0  # Default case for unexpected formats\n",
        "\n",
        "# Apply function\n",
        "df['facility_count'] = df['contactsLocationsModule_locations'].apply(count_facilities)"
      ]
    },
    {
      "cell_type": "code",
      "execution_count": null,
      "metadata": {},
      "outputs": [],
      "source": [
        "df = df.drop(['contactsLocationsModule_locations'], axis = 1)\n",
        "df['facility_count']"
      ]
    },
    {
      "cell_type": "code",
      "execution_count": null,
      "metadata": {
        "id": "YK0OzhB5U6bb",
        "outputId": "c188b916-8f87-4aed-bbec-2d79b32bb86f",
        "tags": [
          "outputPrepend"
        ]
      },
      "outputs": [],
      "source": [
        "disease_type = [\n",
        "    'Infections', 'Neoplasms', 'Musculoskeletal Diseases', 'Digestive System Diseases',\n",
        "    'Stomatognathic Diseases', 'Respiratory Tract Diseases', 'Otorhinolaryngologic Diseases',\n",
        "    'Nervous System Diseases', 'Eye Diseases', 'Urogenital Diseases', 'Cardiovascular Diseases',\n",
        "    'Hemic and Lymphatic Diseases', 'Congenital, Hereditary, and Neonatal Diseases and Abnormalities',\n",
        "    'Skin and Connective Tissue Diseases', 'Nutritional and Metabolic Diseases',\n",
        "    'Endocrine System Diseases', 'Immune System Diseases', 'Disorders of Environmental Origin',\n",
        "    'Animal Diseases', 'Pathological Conditions, Signs and Symptoms', 'Occupational Diseases',\n",
        "    'Chemically-Induced Disorders', 'Wounds and Injuries']\n",
        "\n",
        "disease_type_set = set(disease_type)\n",
        "disease_type_lower = set(dt.lower() for dt in disease_type)\n",
        "\n",
        "# 2. Define parsing functions\n",
        "# def parse_ancestors(entry):\n",
        "#     if isinstance(entry, str):\n",
        "#         try:\n",
        "#             return ast.literal_eval(entry)\n",
        "#         except (ValueError, SyntaxError) as e:\n",
        "#             print(f\"Parsing error: {e} for entry: {entry[:50]}...\")\n",
        "#             return []\n",
        "#     else:\n",
        "#         return []\n",
        "\n",
        "# def extract_disease_terms(ancestors, disease_type_set):\n",
        "#     if not isinstance(ancestors, list):\n",
        "#         return []\n",
        "#     return [entry.get('term') for entry in ancestors if entry.get('term') in disease_type_set]\n",
        "\n",
        "# def extract_unique_sorted_terms(ancestors, disease_type_set):\n",
        "#     if not isinstance(ancestors, list):\n",
        "#         return []\n",
        "#     filtered_terms = {entry.get('term') for entry in ancestors if entry.get('term') in disease_type_set}\n",
        "#     return sorted(filtered_terms)\n",
        "\n",
        "# def extract_disease_terms_case_insensitive(ancestors, disease_type_lower_set):\n",
        "#     if not isinstance(ancestors, list):\n",
        "#         return []\n",
        "#     return [entry.get('term') for entry in ancestors if entry.get('term', '').lower() in disease_type_lower_set]\n",
        "\n",
        "# df['parsed_ancestors'] = df['conditionBrowseModule_ancestors'].apply(parse_ancestors)\n",
        "\n",
        "# df['selected_disease_names'] = df['parsed_ancestors'].apply(lambda x: extract_unique_sorted_terms(x, disease_type_set))\n",
        "\n",
        "# df.drop(columns=['parsed_ancestors'], inplace=True)\n",
        "\n",
        "# print(df[['conditionBrowseModule_ancestors', 'selected_disease_names']].head())\n",
        "def extract_unique_sorted_terms(ancestors, disease_type_set):\n",
        "    if isinstance(ancestors, np.ndarray):  # Convert NumPy arrays to Python lists\n",
        "        ancestors = ancestors.tolist()\n",
        "\n",
        "    if not isinstance(ancestors, list):  # Ensure it's a list\n",
        "        print(f\"Unexpected data format: {type(ancestors)} - {ancestors}\")\n",
        "        return []\n",
        "\n",
        "    filtered_terms = {entry.get('term') for entry in ancestors if isinstance(entry, dict) and entry.get('term') in disease_type_set}\n",
        "\n",
        "    if not filtered_terms:  # Log empty results for debugging\n",
        "        print(f\"No matches found in: {ancestors}\")\n",
        "\n",
        "    return sorted(filtered_terms)\n",
        "\n",
        "# Apply function\n",
        "df['selected_disease_names'] = df['conditionBrowseModule_ancestors'].apply(lambda x: extract_unique_sorted_terms(x, disease_type_set))"
      ]
    },
    {
      "cell_type": "code",
      "execution_count": null,
      "metadata": {
        "id": "wNamoJPZU6bc",
        "outputId": "8714c5c3-40c0-4208-cd3f-8e8c4c8211a6"
      },
      "outputs": [],
      "source": [
        "from sklearn.preprocessing import MultiLabelBinarizer\n",
        "\n",
        "mlb = MultiLabelBinarizer(classes=disease_type)\n",
        "dummies = pd.DataFrame(mlb.fit_transform(df['selected_disease_names']),\n",
        "                       columns=mlb.classes_,\n",
        "                       index=df.index)\n",
        "dummies"
      ]
    },
    {
      "cell_type": "code",
      "execution_count": null,
      "metadata": {},
      "outputs": [],
      "source": [
        "df = df.drop(columns=['selected_disease_names', 'conditionBrowseModule_ancestors'])"
      ]
    },
    {
      "cell_type": "code",
      "execution_count": null,
      "metadata": {
        "id": "JQXlltxsU6bc"
      },
      "outputs": [],
      "source": [
        "df= pd.concat([df, dummies], axis=1)"
      ]
    },
    {
      "cell_type": "code",
      "execution_count": null,
      "metadata": {
        "id": "9bX5PsdnU6bc",
        "outputId": "8c678408-716e-418f-af14-9ccef8929c42",
        "tags": []
      },
      "outputs": [],
      "source": [
        "def extract_classes(collaborators_entry):\n",
        "    \"\"\"\n",
        "    Extracts 'class' values from the collaborators entry.\n",
        "\n",
        "    Parameters:\n",
        "    - collaborators_entry (str, list, or np.ndarray): A list of dictionaries or an array.\n",
        "\n",
        "    Returns:\n",
        "    - list: A list of 'class' values. Returns an empty list if input is invalid or missing.\n",
        "    \"\"\"\n",
        "    if isinstance(collaborators_entry, float) and pd.isna(collaborators_entry):  # Handle NaN values\n",
        "        return []\n",
        "\n",
        "    if isinstance(collaborators_entry, np.ndarray):  # Convert NumPy arrays to lists\n",
        "        collaborators_entry = collaborators_entry.tolist()\n",
        "\n",
        "    if isinstance(collaborators_entry, list):  # Ensure it's a list\n",
        "        class_list = [entry.get('class') for entry in collaborators_entry if isinstance(entry, dict) and 'class' in entry]\n",
        "        return class_list if class_list else []  # Ensure output is a list\n",
        "\n",
        "    return []  # Default case for unexpected types\n",
        "\n",
        "# Apply function with `.loc` to avoid SettingWithCopyWarning\n",
        "df.loc[:, 'collaborator_classes'] = df['sponsorCollaboratorsModule_collaborators'].apply(extract_classes)\n",
        "\n",
        "# Check the results\n",
        "print(df['collaborator_classes'].head(10))"
      ]
    },
    {
      "cell_type": "code",
      "execution_count": null,
      "metadata": {
        "id": "EEKt2KqTU6bd",
        "outputId": "cdde517c-ae8d-467d-9941-2069af8f4e23",
        "tags": []
      },
      "outputs": [],
      "source": [
        "from sklearn.preprocessing import MultiLabelBinarizer\n",
        "\n",
        "unique_classes = set(\n",
        "    class_name\n",
        "    for sublist in df['collaborator_classes'].dropna()\n",
        "    for class_name in sublist\n",
        ")\n",
        "\n",
        "# Optional: Sort the classes for consistency\n",
        "predefined_classes = sorted(unique_classes)\n",
        "\n",
        "print(\"Unique Classes:\", predefined_classes)\n",
        "\n",
        "# Step 2: Replace NaN with empty lists\n",
        "df['collaborator_classes'] = df['collaborator_classes'].apply(\n",
        "    lambda x: x if isinstance(x, list) else []\n",
        ")\n",
        "\n",
        "# Step 3: Initialize MultiLabelBinarizer with predefined classes\n",
        "mlb = MultiLabelBinarizer(classes=predefined_classes)\n",
        "\n",
        "# Step 4: Fit and transform the 'collaborator_classes' column\n",
        "dummies = pd.DataFrame(\n",
        "    mlb.fit_transform(df['collaborator_classes']),\n",
        "    columns=mlb.classes_,\n",
        "    index=df.index\n",
        ")\n",
        "\n",
        "rename_dict = {col: f'collaborator_{col}' for col in dummies.columns}\n",
        "\n",
        "# Rename the columns\n",
        "dummies = dummies.rename(columns=rename_dict)\n",
        "\n",
        "dummies"
      ]
    },
    {
      "cell_type": "code",
      "execution_count": null,
      "metadata": {
        "id": "DGSv9i1vU6bd"
      },
      "outputs": [],
      "source": [
        "df = pd.concat([df, dummies], axis=1)\n",
        "df = df.drop(columns=['sponsorCollaboratorsModule_collaborators','collaborator_classes'])"
      ]
    },
    {
      "cell_type": "markdown",
      "metadata": {
        "id": "jZhs0b4eK4e7"
      },
      "source": [
        "Match the intervention names into broader Mesh terms"
      ]
    },
    {
      "cell_type": "code",
      "execution_count": null,
      "metadata": {
        "id": "oE15AH1hU6be",
        "outputId": "cf459bff-33d1-4f0c-813d-9621ce27753d",
        "tags": []
      },
      "outputs": [],
      "source": [
        "def extract_d_ids(mesh_list):\n",
        "    if isinstance(mesh_list, float) and pd.isna(mesh_list):  # Handle NaN values\n",
        "        return []\n",
        "\n",
        "    if isinstance(mesh_list, np.ndarray):  # Convert NumPy arrays to lists\n",
        "        mesh_list = mesh_list.tolist()\n",
        "\n",
        "    if isinstance(mesh_list, list):  # Process valid lists directly\n",
        "        return [item['id'] for item in mesh_list if isinstance(item, dict) and 'id' in item and item['id'].startswith('D')]\n",
        "\n",
        "    if isinstance(mesh_list, str):  # Convert string to a Python object\n",
        "        try:\n",
        "            parsed_list = ast.literal_eval(mesh_list)\n",
        "            if isinstance(parsed_list, list):\n",
        "                return [item['id'] for item in parsed_list if isinstance(item, dict) and 'id' in item and item['id'].startswith('D')]\n",
        "        except (SyntaxError, ValueError):\n",
        "            return []\n",
        "\n",
        "    return []  # Default case for unexpected formats\n",
        "\n",
        "# Apply function\n",
        "df['interventions_mesh_ids'] = df['interventionBrowseModule_meshes'].apply(extract_d_ids)"
      ]
    },
    {
      "cell_type": "code",
      "execution_count": null,
      "metadata": {
        "id": "nneiMvMTU6bf",
        "outputId": "e7b1402b-1b4f-487c-a752-91630e96870c",
        "tags": []
      },
      "outputs": [],
      "source": [
        "import requests\n",
        "\n",
        "def get_mesh_tree_number(mesh_id):\n",
        "    def fetch_tree_numbers(id_format):\n",
        "        url = f\"https://id.nlm.nih.gov/mesh/{id_format}.json\"\n",
        "        response = requests.get(url)\n",
        "        if response.status_code == 200:\n",
        "            data = response.json()\n",
        "            tree_numbers = data.get('treeNumber', [])\n",
        "            if isinstance(tree_numbers, str):\n",
        "                tree_numbers = [tree_numbers.split('/')[-1]]\n",
        "            elif isinstance(tree_numbers, list):\n",
        "                tree_numbers = [tn.split('/')[-1] for tn in tree_numbers]\n",
        "            return tree_numbers\n",
        "        return []\n",
        "\n",
        "    # Try the original mesh_id first\n",
        "    tree_numbers = fetch_tree_numbers(mesh_id)\n",
        "\n",
        "    # If not found, try the shortened version (remove three zeros)\n",
        "    if not tree_numbers and mesh_id.startswith('D') and len(mesh_id) == 10:\n",
        "        shortened_id = mesh_id[:1] + mesh_id[4:]  # Remove extra zeros (D000017257 → D017257)\n",
        "        tree_numbers = fetch_tree_numbers(shortened_id)\n",
        "\n",
        "    # Extract only the first part of each tree number (e.g., D03, D10) and return unique values\n",
        "    first_parts = {tn.split('.')[0] for tn in tree_numbers}\n",
        "    return ', '.join(sorted(first_parts)) if first_parts else 'No tree number'\n",
        "\n",
        "# Function to process each list of IDs in the column and get all tree numbers\n",
        "def get_all_tree_numbers(id_list, row_index, total_rows):\n",
        "    if not isinstance(id_list, list) or len(id_list) == 0:\n",
        "        return 'No tree number'\n",
        "\n",
        "    tree_parts = set()\n",
        "    for mesh_id in id_list:\n",
        "        tree_numbers = get_mesh_tree_number(mesh_id)\n",
        "        if tree_numbers != 'No tree number':\n",
        "            tree_parts.update(tree_numbers.split(', '))  # Split and collect individual tree numbers\n",
        "\n",
        "    # Show progress after every 500 rows\n",
        "    if (row_index + 1) % 500 == 0:\n",
        "        print(f\"Processed {row_index + 1}/{total_rows} rows...\")\n",
        "\n",
        "    return ', '.join(sorted(tree_parts)) if tree_parts else 'No tree number'\n",
        "\n",
        "# Apply the function to the extracted_d_ids column\n",
        "# df['tree_numbers'] = df['interventions_mesh_ids'].apply(get_all_tree_numbers)\n",
        "\n",
        "total_rows = len(df)\n",
        "df['tree_numbers'] = [get_all_tree_numbers(id_list, idx, total_rows) for idx, id_list in enumerate(df['interventions_mesh_ids'])]\n",
        "# Display the updated DataFrame\n",
        "df[['interventions_mesh_ids', 'tree_numbers']]"
      ]
    },
    {
      "cell_type": "code",
      "execution_count": null,
      "metadata": {},
      "outputs": [],
      "source": [
        "df1 = df"
      ]
    },
    {
      "cell_type": "code",
      "execution_count": null,
      "metadata": {
        "colab": {
          "base_uri": "https://localhost:8080/",
          "height": 105
        },
        "id": "rWqjk8mcU6bf",
        "outputId": "1556d12d-ac93-4bc1-84be-e791b5d91f61"
      },
      "outputs": [],
      "source": [
        "drugs_type = {\"Inorganic Chemicals\" : \"D01\",\n",
        "              \"Organic Chemicals\": \"D02\",\n",
        "              \"Heterocyclic Compounds\": \"D03\",\n",
        "              \"Polycyclic Compounds\" : \"D04\",\n",
        "              \"Macromolecular Substances\" : \"D05\",\n",
        "              \"Hormones, Hormone Substitutes, and Hormone Antagonists\": \"D06\",\n",
        "              \"Enzymes and Coenzymes\" : \"D08\",\n",
        "              \"Carbohydrates\" : \"D09\",\n",
        "              \"Lipids\" : \"D10\",\n",
        "              \"Amino Acids, Peptides, and Proteins\" : \"D12\",\n",
        "              \"Nucleic Acids, Nucleotides, and Nucleosides\" : \"D13\",\n",
        "              \"Complex Mixtures\": \"D20\",\n",
        "              \"Biological Factors\" : \"D23\",\n",
        "              \"Biomedical and Dental Materials\" : \"D25\",\n",
        "              \"Pharmaceutical Preparations\" : \"D26\",\n",
        "              \"Chemical Actions and Uses \" : \"D27\"\n",
        "}\n",
        "\n",
        "code_to_drug = {v: k for k, v in drugs_type.items()}\n",
        "\n",
        "# Function to extract relevant codes and create dummies\n",
        "def extract_and_dummy(tree_numbers):\n",
        "    codes = set(tree_numbers.split(\", \")) if tree_numbers != \"No tree number\" else set()\n",
        "    relevant_codes = codes.intersection(code_to_drug.keys())\n",
        "    return {code_to_drug[code]: 1 for code in relevant_codes}\n",
        "\n",
        "# Apply the function and create dummies\n",
        "dummy_df = df[\"tree_numbers\"].apply(extract_and_dummy).apply(pd.Series).fillna(0)\n",
        "dummy_df.head(10)"
      ]
    },
    {
      "cell_type": "code",
      "execution_count": null,
      "metadata": {},
      "outputs": [],
      "source": [
        "df = pd.concat([df, dummy_df], axis=1)"
      ]
    },
    {
      "cell_type": "code",
      "execution_count": null,
      "metadata": {
        "id": "0bymUwVOU6bg",
        "outputId": "ff9edd0c-a6a3-4a71-f855-27afa267498e",
        "tags": []
      },
      "outputs": [],
      "source": [
        "num_missing = df['interventionBrowseModule_meshes'].isna().sum()\n",
        "print(f\"Number of missing rows: {num_missing}\")\n",
        "df = df.drop(columns = ['tree_numbers', 'interventions_mesh_ids','interventionBrowseModule_meshes'])"
      ]
    },
    {
      "cell_type": "markdown",
      "metadata": {
        "id": "sBN0YslsLGww"
      },
      "source": [
        "Merge trial descriptions and create embeddings"
      ]
    },
    {
      "cell_type": "code",
      "execution_count": null,
      "metadata": {
        "colab": {
          "base_uri": "https://localhost:8080/"
        },
        "id": "vM5AMr0ZLF1x",
        "outputId": "9854fad0-2953-441b-e29f-b6a7a00c0243",
        "tags": []
      },
      "outputs": [],
      "source": [
        "def combine_descriptions(row):\n",
        "    detailed_desc = row['descriptionModule_detailedDescription']\n",
        "    brief_summary = row['descriptionModule_briefSummary']\n",
        "\n",
        "    # Normalize whitespace in detailed_desc and split into words\n",
        "    if pd.notnull(detailed_desc):\n",
        "        normalized_desc = \" \".join(detailed_desc.split())  # Removes extra spaces, newlines, and tabs\n",
        "        word_count = len(normalized_desc.split())\n",
        "\n",
        "        if word_count > 8:\n",
        "            return f\"{brief_summary} {normalized_desc}\"  # Combine the two\n",
        "\n",
        "    return brief_summary  # Return only the brief summary\n",
        "\n",
        "# Create the new column with combined content\n",
        "df['combined_description'] = df.apply(combine_descriptions, axis=1)\n",
        "\n",
        "print(\"example combined description:\", df['combined_description'][40])"
      ]
    },
    {
      "cell_type": "code",
      "execution_count": null,
      "metadata": {
        "colab": {
          "base_uri": "https://localhost:8080/"
        },
        "id": "xbqegd-ZU6bg",
        "outputId": "d15dcb44-b07a-40cb-d84c-d627764023be"
      },
      "outputs": [],
      "source": [
        "df = df.drop(columns = ['descriptionModule_detailedDescription', 'descriptionModule_briefSummary'])\n",
        "average_word_count = df['combined_description'].apply(lambda x: len(str(x).split())).mean()\n",
        "average_word_count"
      ]
    },
    {
      "cell_type": "code",
      "execution_count": null,
      "metadata": {},
      "outputs": [],
      "source": [
        "df.to_parquet('/Users/jiazhengli/Desktop/project_root/completion_model.parquet', engine='pyarrow', compression='snappy')"
      ]
    },
    {
      "cell_type": "code",
      "execution_count": null,
      "metadata": {
        "colab": {
          "base_uri": "https://localhost:8080/",
          "height": 267,
          "referenced_widgets": [
            "1ac9ccfc3c07440599190a114fec1ec1",
            "42e4ee8b10fd4640966c15e788c7137f",
            "991ca5ba92c7459c862e989257a96205",
            "eccb2f81cde84d79acc1cbd19c629a37",
            "c1c1b51a25ce4c3fb8487247ef8227f7",
            "7cfe341b9ce44e05bbd04154580dc91d",
            "06148c5766cb44ab86ea93aae121c455",
            "8553fd9ef52c44f7a1f1b430b2e86537",
            "d6e7f8465f6e458585d407b9f4b5a117",
            "d478f40c8cee42f0805af0edd29b7e2e",
            "0e0fcbb1a8d6494a92464ef28ea876cb",
            "63dd1ae9fb02410098d16dbeeb55d29a",
            "056d2d06827c4645a26c38c289a96ef5",
            "f5b821bc48eb4f41b272b28707e28ae1",
            "8a6d87accd8545aab457ad3a2e3c57f2",
            "2fbac157c09b44599cb23eab53da24d7",
            "352749b7fe3c4db396d6dd8eafaacf0c",
            "4f80903a9d7f4d0b87e1b4cea336822d",
            "4c4dd3e5d6554660a0f72167dfb03630",
            "6ab339a35c4d454897f533d625df9da0",
            "a23407320d454e91829eb6f69352efbb",
            "a614faaa6dfc4412bc1134ef98db6e49",
            "69e3782bd2b04e2ba61cf1539c0dbde2",
            "1b5aa92f8eaa4c8b86893ad69bcd7f06",
            "9674d199914e4881995ca05b458415aa",
            "3d5832c9467941a7973eba90479a292d",
            "c1ade0ef8fb4426db277c2c21bdb0105",
            "220626c65f0345e48d29b796228e054d",
            "36ba81768d8043eface2e89a9f7fae74",
            "49021013aaec49e6a51d1c5bc169a200",
            "175bf6ecebdd4a91ba30e34e539a6ea2",
            "931ccabfa5ab4f9cbe6a769b6fdb1bdb",
            "e754508944af49cbbfa73cb3f5774acc",
            "820118e5290f4fdc9cf9a66e83592aa8",
            "0b18c972a5e648b3aa49da32043f50ed",
            "e19f6487e66f4d1fa3ea031815442993",
            "21b35abc6f7b418bac732a7d14bf5881",
            "f0662216554a444cbda09e28bb6b1a9b",
            "3698058d1b3c452286b5a2697b32820d",
            "823d6cd448774036bc14d68273db49ca",
            "c3a852807e364e81832eb326e54bf3d0",
            "333819154fab477ba72d62dde63aed5c",
            "1cb57c9680b841ccba8e6221f9ad211c",
            "257f42a65aca4a2eaf3725fd27aa052e"
          ]
        },
        "id": "Gc0I0YXjW6H1",
        "outputId": "62727486-c5c8-4144-e56d-0bf8f493d1d0"
      },
      "outputs": [],
      "source": [
        "import torch\n",
        "from transformers import AutoTokenizer, AutoModel\n",
        "import numpy as np\n",
        "from tqdm import tqdm  # For progress tracking\n",
        "\n",
        "# Load PubMedBERT tokenizer and model\n",
        "tokenizer = AutoTokenizer.from_pretrained(\"microsoft/BiomedNLP-PubMedBERT-base-uncased-abstract-fulltext\")\n",
        "model = AutoModel.from_pretrained(\"microsoft/BiomedNLP-PubMedBERT-base-uncased-abstract-fulltext\")"
      ]
    },
    {
      "cell_type": "code",
      "execution_count": null,
      "metadata": {
        "colab": {
          "base_uri": "https://localhost:8080/"
        },
        "id": "XJEBB8zNU6bg",
        "outputId": "65eb2d18-4d44-42e7-b208-e857bcad7d51",
        "tags": []
      },
      "outputs": [],
      "source": [
        "# Move model to GPU\n",
        "device = torch.device('cuda' if torch.cuda.is_available() else 'cpu')\n",
        "model.to(device)\n",
        "model.eval()\n",
        "\n",
        "# Prepare to store embeddings as a PyTorch tensor\n",
        "all_embeddings = []\n",
        "\n",
        "# Process descriptions in batches\n",
        "batch_size = 16  # Increase if you have sufficient GPU memory\n",
        "num_batches = (len(df) + batch_size - 1) // batch_size  # Calculate number of batches\n",
        "\n",
        "for i in tqdm(range(num_batches)):\n",
        "    # Get the current batch of descriptions\n",
        "    batch_descriptions = df['combined_description'][i * batch_size : (i + 1) * batch_size].tolist()\n",
        "\n",
        "    # Tokenize and move tokens to GPU\n",
        "    tokens = tokenizer(batch_descriptions, return_tensors='pt', truncation=True, max_length=256, padding='max_length')\n",
        "    tokens = {key: val.to(device) for key, val in tokens.items()}\n",
        "\n",
        "    # Get embeddings\n",
        "    with torch.no_grad():\n",
        "        outputs = model(**tokens)\n",
        "        last_hidden_state = outputs.last_hidden_state  # Shape: (batch_size, sequence_length, hidden_size)\n",
        "        cls_embeddings = last_hidden_state[:, 0, :]  # Extract CLS token (batch_size, 768)\n",
        "        all_embeddings.append(cls_embeddings)\n",
        "\n",
        "# Concatenate all batches into a single tensor and convert to NumPy\n",
        "all_embeddings_flat = torch.cat(all_embeddings).cpu().numpy()  # Shape: (num_samples, 768)\n",
        "\n",
        "# Ensure it matches the length of df\n",
        "assert len(all_embeddings_flat) == len(df)\n",
        "\n",
        "# Add the embeddings back to the DataFrame\n",
        "df['cls_embedding'] = list(all_embeddings_flat)"
      ]
    },
    {
      "cell_type": "markdown",
      "metadata": {
        "id": "Jj6WaxX7x5Hw"
      },
      "source": [
        "Apply PCA dimension reduction"
      ]
    },
    {
      "cell_type": "code",
      "execution_count": null,
      "metadata": {
        "colab": {
          "base_uri": "https://localhost:8080/",
          "height": 466
        },
        "id": "1HUMXWg8U6bg",
        "outputId": "936c31fb-4107-41da-be62-f91bedd33be5"
      },
      "outputs": [],
      "source": [
        "from sklearn.decomposition import PCA\n",
        "\n",
        "embeddings_matrix = np.vstack(df['cls_embedding'].values)\n",
        "\n",
        "pca = PCA()\n",
        "pca.fit(embeddings_matrix)\n",
        "\n",
        "# Calculate cumulative explained variance\n",
        "cumulative_variance = np.cumsum(pca.explained_variance_ratio_)\n",
        "\n",
        "# Plot cumulative explained variance\n",
        "plt.plot(range(1, len(cumulative_variance) + 1), cumulative_variance)\n",
        "plt.xlabel('Number of Components')\n",
        "plt.ylabel('Cumulative Explained Variance')\n",
        "plt.grid(True)\n",
        "plt.axhline(y=0.95, color='r', linestyle='--', label='95% Variance')\n",
        "plt.legend()\n",
        "plt.show()\n",
        "\n",
        "optimal_components = np.argmax(cumulative_variance >= 0.95) + 1\n",
        "print(f\"Optimal number of components: {optimal_components}\")"
      ]
    },
    {
      "cell_type": "code",
      "execution_count": null,
      "metadata": {
        "id": "lmj8dsCk329R"
      },
      "outputs": [],
      "source": [
        "pca = PCA(n_components = optimal_components)\n",
        "reduced_embeddings = pca.fit_transform(embeddings_matrix)\n",
        "\n",
        "df['reduced_embedding'] = list(reduced_embeddings)"
      ]
    },
    {
      "cell_type": "code",
      "execution_count": null,
      "metadata": {},
      "outputs": [],
      "source": [
        "import pandas as pd"
      ]
    },
    {
      "cell_type": "code",
      "execution_count": null,
      "metadata": {},
      "outputs": [],
      "source": [
        "df = pd.read_parquet('/Users/jiazhengli/Desktop/trials_pmid_papers_results.parquet')\n",
        "df"
      ]
    },
    {
      "cell_type": "code",
      "execution_count": null,
      "metadata": {},
      "outputs": [],
      "source": [
        "df_all = pd.read_parquet('/Users/jiazhengli/Desktop/project_root/clinical_trials_combined.parquet')\n",
        "df_all"
      ]
    },
    {
      "cell_type": "code",
      "execution_count": null,
      "metadata": {},
      "outputs": [],
      "source": [
        "# df_all.columns[:50]\n",
        "df_all['protocolSection.designModule.studyType']"
      ]
    },
    {
      "cell_type": "code",
      "execution_count": null,
      "metadata": {},
      "outputs": [],
      "source": [
        "# # Make sure the column names are stripped of leading/trailing spaces\n",
        "# df.columns = df.columns.str.strip()\n",
        "# df_all.columns = df_all.columns.str.strip()\n",
        "\n",
        "# # Perform the merge based on NCT ID\n",
        "# df_merged = pd.merge(\n",
        "#     df,\n",
        "#     df_all[\n",
        "#         [\n",
        "#             'protocolSection.identificationModule.nctId',\n",
        "#             'protocolSection.descriptionModule.briefSummary',\n",
        "#             'protocolSection.descriptionModule.detailedDescription',\n",
        "#             'protocolSection.identificationModule.briefTitle','protocolSection.identificationModule.officialTitle'\n",
        "#         ]\n",
        "#     ],\n",
        "#     on='protocolSection.identificationModule.nctId',\n",
        "#     how='left'\n",
        "# )\n",
        "# Make sure the column names are stripped of leading/trailing spaces\n",
        "df.columns = df.columns.str.strip()\n",
        "df_all.columns = df_all.columns.str.strip()\n",
        "\n",
        "# Perform the merge based on NCT ID\n",
        "df_merged = pd.merge(\n",
        "    df,\n",
        "    df_all[['protocolSection.identificationModule.nctId', 'protocolSection.armsInterventionsModule.interventions']],\n",
        "    on='protocolSection.identificationModule.nctId',\n",
        "    how='left'\n",
        ")"
      ]
    },
    {
      "cell_type": "code",
      "execution_count": null,
      "metadata": {},
      "outputs": [],
      "source": [
        "df_merged"
      ]
    },
    {
      "cell_type": "code",
      "execution_count": null,
      "metadata": {},
      "outputs": [],
      "source": [
        "df_merged['protocolSection.descriptionModule.briefSummary'].isna().sum()"
      ]
    },
    {
      "cell_type": "code",
      "execution_count": null,
      "metadata": {},
      "outputs": [],
      "source": [
        "df_merged['protocolSection.descriptionModule.detailedDescription'].isna().sum()"
      ]
    },
    {
      "cell_type": "code",
      "execution_count": null,
      "metadata": {},
      "outputs": [],
      "source": [
        "import numpy as np\n",
        "\n",
        "df_merged['intervention_types'] = df_merged['protocolSection.armsInterventionsModule.interventions'].apply(\n",
        "    lambda x: [d.get('type') for d in x] if isinstance(x, (list, np.ndarray)) else None\n",
        ")"
      ]
    },
    {
      "cell_type": "code",
      "execution_count": null,
      "metadata": {},
      "outputs": [],
      "source": [
        "from collections import Counter\n",
        "import pandas as pd\n",
        "\n",
        "# Step 1: Drop nulls and convert each row to a set (to remove duplicates within a trial)\n",
        "unique_types_per_trial = df_merged['intervention_types'].dropna().apply(lambda x: set(x))\n",
        "\n",
        "# Step 2: Flatten the sets and count each unique type across all trials\n",
        "flat_types = [t for types in unique_types_per_trial for t in types]\n",
        "type_counts = Counter(flat_types)\n",
        "\n",
        "# Step 3: Convert to DataFrame for display\n",
        "type_counts_df = pd.DataFrame.from_dict(type_counts, orient='index', columns=['count']).reset_index()\n",
        "type_counts_df.columns = ['intervention_type', 'count']\n"
      ]
    },
    {
      "cell_type": "code",
      "execution_count": null,
      "metadata": {},
      "outputs": [],
      "source": [
        "type_counts_df"
      ]
    },
    {
      "cell_type": "code",
      "execution_count": null,
      "metadata": {},
      "outputs": [],
      "source": [
        "df_merged.to_parquet('/Users/jiazhengli/Desktop/trials_pmid_papers_results.parquet')"
      ]
    }
  ],
  "metadata": {
    "accelerator": "GPU",
    "colab": {
      "gpuType": "T4",
      "provenance": []
    },
    "kernelspec": {
      "display_name": "Python 3.9.7 64-bit",
      "language": "python",
      "name": "python_defaultSpec_1743219009345"
    },
    "language_info": {
      "codemirror_mode": {
        "name": "ipython",
        "version": 3
      },
      "file_extension": ".py",
      "mimetype": "text/x-python",
      "name": "python",
      "nbconvert_exporter": "python",
      "pygments_lexer": "ipython3",
      "version": "3.9.7-final"
    },
    "widgets": {
      "application/vnd.jupyter.widget-state+json": {
        "056d2d06827c4645a26c38c289a96ef5": {
          "model_module": "@jupyter-widgets/controls",
          "model_module_version": "1.5.0",
          "model_name": "HTMLModel",
          "state": {
            "_dom_classes": [],
            "_model_module": "@jupyter-widgets/controls",
            "_model_module_version": "1.5.0",
            "_model_name": "HTMLModel",
            "_view_count": null,
            "_view_module": "@jupyter-widgets/controls",
            "_view_module_version": "1.5.0",
            "_view_name": "HTMLView",
            "description": "",
            "description_tooltip": null,
            "layout": "IPY_MODEL_352749b7fe3c4db396d6dd8eafaacf0c",
            "placeholder": "​",
            "style": "IPY_MODEL_4f80903a9d7f4d0b87e1b4cea336822d",
            "value": "config.json: 100%"
          }
        },
        "06148c5766cb44ab86ea93aae121c455": {
          "model_module": "@jupyter-widgets/controls",
          "model_module_version": "1.5.0",
          "model_name": "DescriptionStyleModel",
          "state": {
            "_model_module": "@jupyter-widgets/controls",
            "_model_module_version": "1.5.0",
            "_model_name": "DescriptionStyleModel",
            "_view_count": null,
            "_view_module": "@jupyter-widgets/base",
            "_view_module_version": "1.2.0",
            "_view_name": "StyleView",
            "description_width": ""
          }
        },
        "0b18c972a5e648b3aa49da32043f50ed": {
          "model_module": "@jupyter-widgets/controls",
          "model_module_version": "1.5.0",
          "model_name": "HTMLModel",
          "state": {
            "_dom_classes": [],
            "_model_module": "@jupyter-widgets/controls",
            "_model_module_version": "1.5.0",
            "_model_name": "HTMLModel",
            "_view_count": null,
            "_view_module": "@jupyter-widgets/controls",
            "_view_module_version": "1.5.0",
            "_view_name": "HTMLView",
            "description": "",
            "description_tooltip": null,
            "layout": "IPY_MODEL_3698058d1b3c452286b5a2697b32820d",
            "placeholder": "​",
            "style": "IPY_MODEL_823d6cd448774036bc14d68273db49ca",
            "value": "pytorch_model.bin: 100%"
          }
        },
        "0e0fcbb1a8d6494a92464ef28ea876cb": {
          "model_module": "@jupyter-widgets/controls",
          "model_module_version": "1.5.0",
          "model_name": "DescriptionStyleModel",
          "state": {
            "_model_module": "@jupyter-widgets/controls",
            "_model_module_version": "1.5.0",
            "_model_name": "DescriptionStyleModel",
            "_view_count": null,
            "_view_module": "@jupyter-widgets/base",
            "_view_module_version": "1.2.0",
            "_view_name": "StyleView",
            "description_width": ""
          }
        },
        "175bf6ecebdd4a91ba30e34e539a6ea2": {
          "model_module": "@jupyter-widgets/controls",
          "model_module_version": "1.5.0",
          "model_name": "ProgressStyleModel",
          "state": {
            "_model_module": "@jupyter-widgets/controls",
            "_model_module_version": "1.5.0",
            "_model_name": "ProgressStyleModel",
            "_view_count": null,
            "_view_module": "@jupyter-widgets/base",
            "_view_module_version": "1.2.0",
            "_view_name": "StyleView",
            "bar_color": null,
            "description_width": ""
          }
        },
        "1ac9ccfc3c07440599190a114fec1ec1": {
          "model_module": "@jupyter-widgets/controls",
          "model_module_version": "1.5.0",
          "model_name": "HBoxModel",
          "state": {
            "_dom_classes": [],
            "_model_module": "@jupyter-widgets/controls",
            "_model_module_version": "1.5.0",
            "_model_name": "HBoxModel",
            "_view_count": null,
            "_view_module": "@jupyter-widgets/controls",
            "_view_module_version": "1.5.0",
            "_view_name": "HBoxView",
            "box_style": "",
            "children": [
              "IPY_MODEL_42e4ee8b10fd4640966c15e788c7137f",
              "IPY_MODEL_991ca5ba92c7459c862e989257a96205",
              "IPY_MODEL_eccb2f81cde84d79acc1cbd19c629a37"
            ],
            "layout": "IPY_MODEL_c1c1b51a25ce4c3fb8487247ef8227f7"
          }
        },
        "1b5aa92f8eaa4c8b86893ad69bcd7f06": {
          "model_module": "@jupyter-widgets/controls",
          "model_module_version": "1.5.0",
          "model_name": "HTMLModel",
          "state": {
            "_dom_classes": [],
            "_model_module": "@jupyter-widgets/controls",
            "_model_module_version": "1.5.0",
            "_model_name": "HTMLModel",
            "_view_count": null,
            "_view_module": "@jupyter-widgets/controls",
            "_view_module_version": "1.5.0",
            "_view_name": "HTMLView",
            "description": "",
            "description_tooltip": null,
            "layout": "IPY_MODEL_220626c65f0345e48d29b796228e054d",
            "placeholder": "​",
            "style": "IPY_MODEL_36ba81768d8043eface2e89a9f7fae74",
            "value": "vocab.txt: 100%"
          }
        },
        "1cb57c9680b841ccba8e6221f9ad211c": {
          "model_module": "@jupyter-widgets/base",
          "model_module_version": "1.2.0",
          "model_name": "LayoutModel",
          "state": {
            "_model_module": "@jupyter-widgets/base",
            "_model_module_version": "1.2.0",
            "_model_name": "LayoutModel",
            "_view_count": null,
            "_view_module": "@jupyter-widgets/base",
            "_view_module_version": "1.2.0",
            "_view_name": "LayoutView",
            "align_content": null,
            "align_items": null,
            "align_self": null,
            "border": null,
            "bottom": null,
            "display": null,
            "flex": null,
            "flex_flow": null,
            "grid_area": null,
            "grid_auto_columns": null,
            "grid_auto_flow": null,
            "grid_auto_rows": null,
            "grid_column": null,
            "grid_gap": null,
            "grid_row": null,
            "grid_template_areas": null,
            "grid_template_columns": null,
            "grid_template_rows": null,
            "height": null,
            "justify_content": null,
            "justify_items": null,
            "left": null,
            "margin": null,
            "max_height": null,
            "max_width": null,
            "min_height": null,
            "min_width": null,
            "object_fit": null,
            "object_position": null,
            "order": null,
            "overflow": null,
            "overflow_x": null,
            "overflow_y": null,
            "padding": null,
            "right": null,
            "top": null,
            "visibility": null,
            "width": null
          }
        },
        "21b35abc6f7b418bac732a7d14bf5881": {
          "model_module": "@jupyter-widgets/controls",
          "model_module_version": "1.5.0",
          "model_name": "HTMLModel",
          "state": {
            "_dom_classes": [],
            "_model_module": "@jupyter-widgets/controls",
            "_model_module_version": "1.5.0",
            "_model_name": "HTMLModel",
            "_view_count": null,
            "_view_module": "@jupyter-widgets/controls",
            "_view_module_version": "1.5.0",
            "_view_name": "HTMLView",
            "description": "",
            "description_tooltip": null,
            "layout": "IPY_MODEL_1cb57c9680b841ccba8e6221f9ad211c",
            "placeholder": "​",
            "style": "IPY_MODEL_257f42a65aca4a2eaf3725fd27aa052e",
            "value": " 440M/440M [00:06&lt;00:00, 132MB/s]"
          }
        },
        "220626c65f0345e48d29b796228e054d": {
          "model_module": "@jupyter-widgets/base",
          "model_module_version": "1.2.0",
          "model_name": "LayoutModel",
          "state": {
            "_model_module": "@jupyter-widgets/base",
            "_model_module_version": "1.2.0",
            "_model_name": "LayoutModel",
            "_view_count": null,
            "_view_module": "@jupyter-widgets/base",
            "_view_module_version": "1.2.0",
            "_view_name": "LayoutView",
            "align_content": null,
            "align_items": null,
            "align_self": null,
            "border": null,
            "bottom": null,
            "display": null,
            "flex": null,
            "flex_flow": null,
            "grid_area": null,
            "grid_auto_columns": null,
            "grid_auto_flow": null,
            "grid_auto_rows": null,
            "grid_column": null,
            "grid_gap": null,
            "grid_row": null,
            "grid_template_areas": null,
            "grid_template_columns": null,
            "grid_template_rows": null,
            "height": null,
            "justify_content": null,
            "justify_items": null,
            "left": null,
            "margin": null,
            "max_height": null,
            "max_width": null,
            "min_height": null,
            "min_width": null,
            "object_fit": null,
            "object_position": null,
            "order": null,
            "overflow": null,
            "overflow_x": null,
            "overflow_y": null,
            "padding": null,
            "right": null,
            "top": null,
            "visibility": null,
            "width": null
          }
        },
        "257f42a65aca4a2eaf3725fd27aa052e": {
          "model_module": "@jupyter-widgets/controls",
          "model_module_version": "1.5.0",
          "model_name": "DescriptionStyleModel",
          "state": {
            "_model_module": "@jupyter-widgets/controls",
            "_model_module_version": "1.5.0",
            "_model_name": "DescriptionStyleModel",
            "_view_count": null,
            "_view_module": "@jupyter-widgets/base",
            "_view_module_version": "1.2.0",
            "_view_name": "StyleView",
            "description_width": ""
          }
        },
        "2fbac157c09b44599cb23eab53da24d7": {
          "model_module": "@jupyter-widgets/base",
          "model_module_version": "1.2.0",
          "model_name": "LayoutModel",
          "state": {
            "_model_module": "@jupyter-widgets/base",
            "_model_module_version": "1.2.0",
            "_model_name": "LayoutModel",
            "_view_count": null,
            "_view_module": "@jupyter-widgets/base",
            "_view_module_version": "1.2.0",
            "_view_name": "LayoutView",
            "align_content": null,
            "align_items": null,
            "align_self": null,
            "border": null,
            "bottom": null,
            "display": null,
            "flex": null,
            "flex_flow": null,
            "grid_area": null,
            "grid_auto_columns": null,
            "grid_auto_flow": null,
            "grid_auto_rows": null,
            "grid_column": null,
            "grid_gap": null,
            "grid_row": null,
            "grid_template_areas": null,
            "grid_template_columns": null,
            "grid_template_rows": null,
            "height": null,
            "justify_content": null,
            "justify_items": null,
            "left": null,
            "margin": null,
            "max_height": null,
            "max_width": null,
            "min_height": null,
            "min_width": null,
            "object_fit": null,
            "object_position": null,
            "order": null,
            "overflow": null,
            "overflow_x": null,
            "overflow_y": null,
            "padding": null,
            "right": null,
            "top": null,
            "visibility": null,
            "width": null
          }
        },
        "333819154fab477ba72d62dde63aed5c": {
          "model_module": "@jupyter-widgets/controls",
          "model_module_version": "1.5.0",
          "model_name": "ProgressStyleModel",
          "state": {
            "_model_module": "@jupyter-widgets/controls",
            "_model_module_version": "1.5.0",
            "_model_name": "ProgressStyleModel",
            "_view_count": null,
            "_view_module": "@jupyter-widgets/base",
            "_view_module_version": "1.2.0",
            "_view_name": "StyleView",
            "bar_color": null,
            "description_width": ""
          }
        },
        "352749b7fe3c4db396d6dd8eafaacf0c": {
          "model_module": "@jupyter-widgets/base",
          "model_module_version": "1.2.0",
          "model_name": "LayoutModel",
          "state": {
            "_model_module": "@jupyter-widgets/base",
            "_model_module_version": "1.2.0",
            "_model_name": "LayoutModel",
            "_view_count": null,
            "_view_module": "@jupyter-widgets/base",
            "_view_module_version": "1.2.0",
            "_view_name": "LayoutView",
            "align_content": null,
            "align_items": null,
            "align_self": null,
            "border": null,
            "bottom": null,
            "display": null,
            "flex": null,
            "flex_flow": null,
            "grid_area": null,
            "grid_auto_columns": null,
            "grid_auto_flow": null,
            "grid_auto_rows": null,
            "grid_column": null,
            "grid_gap": null,
            "grid_row": null,
            "grid_template_areas": null,
            "grid_template_columns": null,
            "grid_template_rows": null,
            "height": null,
            "justify_content": null,
            "justify_items": null,
            "left": null,
            "margin": null,
            "max_height": null,
            "max_width": null,
            "min_height": null,
            "min_width": null,
            "object_fit": null,
            "object_position": null,
            "order": null,
            "overflow": null,
            "overflow_x": null,
            "overflow_y": null,
            "padding": null,
            "right": null,
            "top": null,
            "visibility": null,
            "width": null
          }
        },
        "3698058d1b3c452286b5a2697b32820d": {
          "model_module": "@jupyter-widgets/base",
          "model_module_version": "1.2.0",
          "model_name": "LayoutModel",
          "state": {
            "_model_module": "@jupyter-widgets/base",
            "_model_module_version": "1.2.0",
            "_model_name": "LayoutModel",
            "_view_count": null,
            "_view_module": "@jupyter-widgets/base",
            "_view_module_version": "1.2.0",
            "_view_name": "LayoutView",
            "align_content": null,
            "align_items": null,
            "align_self": null,
            "border": null,
            "bottom": null,
            "display": null,
            "flex": null,
            "flex_flow": null,
            "grid_area": null,
            "grid_auto_columns": null,
            "grid_auto_flow": null,
            "grid_auto_rows": null,
            "grid_column": null,
            "grid_gap": null,
            "grid_row": null,
            "grid_template_areas": null,
            "grid_template_columns": null,
            "grid_template_rows": null,
            "height": null,
            "justify_content": null,
            "justify_items": null,
            "left": null,
            "margin": null,
            "max_height": null,
            "max_width": null,
            "min_height": null,
            "min_width": null,
            "object_fit": null,
            "object_position": null,
            "order": null,
            "overflow": null,
            "overflow_x": null,
            "overflow_y": null,
            "padding": null,
            "right": null,
            "top": null,
            "visibility": null,
            "width": null
          }
        },
        "36ba81768d8043eface2e89a9f7fae74": {
          "model_module": "@jupyter-widgets/controls",
          "model_module_version": "1.5.0",
          "model_name": "DescriptionStyleModel",
          "state": {
            "_model_module": "@jupyter-widgets/controls",
            "_model_module_version": "1.5.0",
            "_model_name": "DescriptionStyleModel",
            "_view_count": null,
            "_view_module": "@jupyter-widgets/base",
            "_view_module_version": "1.2.0",
            "_view_name": "StyleView",
            "description_width": ""
          }
        },
        "3d5832c9467941a7973eba90479a292d": {
          "model_module": "@jupyter-widgets/controls",
          "model_module_version": "1.5.0",
          "model_name": "HTMLModel",
          "state": {
            "_dom_classes": [],
            "_model_module": "@jupyter-widgets/controls",
            "_model_module_version": "1.5.0",
            "_model_name": "HTMLModel",
            "_view_count": null,
            "_view_module": "@jupyter-widgets/controls",
            "_view_module_version": "1.5.0",
            "_view_name": "HTMLView",
            "description": "",
            "description_tooltip": null,
            "layout": "IPY_MODEL_931ccabfa5ab4f9cbe6a769b6fdb1bdb",
            "placeholder": "​",
            "style": "IPY_MODEL_e754508944af49cbbfa73cb3f5774acc",
            "value": " 226k/226k [00:00&lt;00:00, 8.97MB/s]"
          }
        },
        "42e4ee8b10fd4640966c15e788c7137f": {
          "model_module": "@jupyter-widgets/controls",
          "model_module_version": "1.5.0",
          "model_name": "HTMLModel",
          "state": {
            "_dom_classes": [],
            "_model_module": "@jupyter-widgets/controls",
            "_model_module_version": "1.5.0",
            "_model_name": "HTMLModel",
            "_view_count": null,
            "_view_module": "@jupyter-widgets/controls",
            "_view_module_version": "1.5.0",
            "_view_name": "HTMLView",
            "description": "",
            "description_tooltip": null,
            "layout": "IPY_MODEL_7cfe341b9ce44e05bbd04154580dc91d",
            "placeholder": "​",
            "style": "IPY_MODEL_06148c5766cb44ab86ea93aae121c455",
            "value": "tokenizer_config.json: 100%"
          }
        },
        "49021013aaec49e6a51d1c5bc169a200": {
          "model_module": "@jupyter-widgets/base",
          "model_module_version": "1.2.0",
          "model_name": "LayoutModel",
          "state": {
            "_model_module": "@jupyter-widgets/base",
            "_model_module_version": "1.2.0",
            "_model_name": "LayoutModel",
            "_view_count": null,
            "_view_module": "@jupyter-widgets/base",
            "_view_module_version": "1.2.0",
            "_view_name": "LayoutView",
            "align_content": null,
            "align_items": null,
            "align_self": null,
            "border": null,
            "bottom": null,
            "display": null,
            "flex": null,
            "flex_flow": null,
            "grid_area": null,
            "grid_auto_columns": null,
            "grid_auto_flow": null,
            "grid_auto_rows": null,
            "grid_column": null,
            "grid_gap": null,
            "grid_row": null,
            "grid_template_areas": null,
            "grid_template_columns": null,
            "grid_template_rows": null,
            "height": null,
            "justify_content": null,
            "justify_items": null,
            "left": null,
            "margin": null,
            "max_height": null,
            "max_width": null,
            "min_height": null,
            "min_width": null,
            "object_fit": null,
            "object_position": null,
            "order": null,
            "overflow": null,
            "overflow_x": null,
            "overflow_y": null,
            "padding": null,
            "right": null,
            "top": null,
            "visibility": null,
            "width": null
          }
        },
        "4c4dd3e5d6554660a0f72167dfb03630": {
          "model_module": "@jupyter-widgets/base",
          "model_module_version": "1.2.0",
          "model_name": "LayoutModel",
          "state": {
            "_model_module": "@jupyter-widgets/base",
            "_model_module_version": "1.2.0",
            "_model_name": "LayoutModel",
            "_view_count": null,
            "_view_module": "@jupyter-widgets/base",
            "_view_module_version": "1.2.0",
            "_view_name": "LayoutView",
            "align_content": null,
            "align_items": null,
            "align_self": null,
            "border": null,
            "bottom": null,
            "display": null,
            "flex": null,
            "flex_flow": null,
            "grid_area": null,
            "grid_auto_columns": null,
            "grid_auto_flow": null,
            "grid_auto_rows": null,
            "grid_column": null,
            "grid_gap": null,
            "grid_row": null,
            "grid_template_areas": null,
            "grid_template_columns": null,
            "grid_template_rows": null,
            "height": null,
            "justify_content": null,
            "justify_items": null,
            "left": null,
            "margin": null,
            "max_height": null,
            "max_width": null,
            "min_height": null,
            "min_width": null,
            "object_fit": null,
            "object_position": null,
            "order": null,
            "overflow": null,
            "overflow_x": null,
            "overflow_y": null,
            "padding": null,
            "right": null,
            "top": null,
            "visibility": null,
            "width": null
          }
        },
        "4f80903a9d7f4d0b87e1b4cea336822d": {
          "model_module": "@jupyter-widgets/controls",
          "model_module_version": "1.5.0",
          "model_name": "DescriptionStyleModel",
          "state": {
            "_model_module": "@jupyter-widgets/controls",
            "_model_module_version": "1.5.0",
            "_model_name": "DescriptionStyleModel",
            "_view_count": null,
            "_view_module": "@jupyter-widgets/base",
            "_view_module_version": "1.2.0",
            "_view_name": "StyleView",
            "description_width": ""
          }
        },
        "63dd1ae9fb02410098d16dbeeb55d29a": {
          "model_module": "@jupyter-widgets/controls",
          "model_module_version": "1.5.0",
          "model_name": "HBoxModel",
          "state": {
            "_dom_classes": [],
            "_model_module": "@jupyter-widgets/controls",
            "_model_module_version": "1.5.0",
            "_model_name": "HBoxModel",
            "_view_count": null,
            "_view_module": "@jupyter-widgets/controls",
            "_view_module_version": "1.5.0",
            "_view_name": "HBoxView",
            "box_style": "",
            "children": [
              "IPY_MODEL_056d2d06827c4645a26c38c289a96ef5",
              "IPY_MODEL_f5b821bc48eb4f41b272b28707e28ae1",
              "IPY_MODEL_8a6d87accd8545aab457ad3a2e3c57f2"
            ],
            "layout": "IPY_MODEL_2fbac157c09b44599cb23eab53da24d7"
          }
        },
        "69e3782bd2b04e2ba61cf1539c0dbde2": {
          "model_module": "@jupyter-widgets/controls",
          "model_module_version": "1.5.0",
          "model_name": "HBoxModel",
          "state": {
            "_dom_classes": [],
            "_model_module": "@jupyter-widgets/controls",
            "_model_module_version": "1.5.0",
            "_model_name": "HBoxModel",
            "_view_count": null,
            "_view_module": "@jupyter-widgets/controls",
            "_view_module_version": "1.5.0",
            "_view_name": "HBoxView",
            "box_style": "",
            "children": [
              "IPY_MODEL_1b5aa92f8eaa4c8b86893ad69bcd7f06",
              "IPY_MODEL_9674d199914e4881995ca05b458415aa",
              "IPY_MODEL_3d5832c9467941a7973eba90479a292d"
            ],
            "layout": "IPY_MODEL_c1ade0ef8fb4426db277c2c21bdb0105"
          }
        },
        "6ab339a35c4d454897f533d625df9da0": {
          "model_module": "@jupyter-widgets/controls",
          "model_module_version": "1.5.0",
          "model_name": "ProgressStyleModel",
          "state": {
            "_model_module": "@jupyter-widgets/controls",
            "_model_module_version": "1.5.0",
            "_model_name": "ProgressStyleModel",
            "_view_count": null,
            "_view_module": "@jupyter-widgets/base",
            "_view_module_version": "1.2.0",
            "_view_name": "StyleView",
            "bar_color": null,
            "description_width": ""
          }
        },
        "7cfe341b9ce44e05bbd04154580dc91d": {
          "model_module": "@jupyter-widgets/base",
          "model_module_version": "1.2.0",
          "model_name": "LayoutModel",
          "state": {
            "_model_module": "@jupyter-widgets/base",
            "_model_module_version": "1.2.0",
            "_model_name": "LayoutModel",
            "_view_count": null,
            "_view_module": "@jupyter-widgets/base",
            "_view_module_version": "1.2.0",
            "_view_name": "LayoutView",
            "align_content": null,
            "align_items": null,
            "align_self": null,
            "border": null,
            "bottom": null,
            "display": null,
            "flex": null,
            "flex_flow": null,
            "grid_area": null,
            "grid_auto_columns": null,
            "grid_auto_flow": null,
            "grid_auto_rows": null,
            "grid_column": null,
            "grid_gap": null,
            "grid_row": null,
            "grid_template_areas": null,
            "grid_template_columns": null,
            "grid_template_rows": null,
            "height": null,
            "justify_content": null,
            "justify_items": null,
            "left": null,
            "margin": null,
            "max_height": null,
            "max_width": null,
            "min_height": null,
            "min_width": null,
            "object_fit": null,
            "object_position": null,
            "order": null,
            "overflow": null,
            "overflow_x": null,
            "overflow_y": null,
            "padding": null,
            "right": null,
            "top": null,
            "visibility": null,
            "width": null
          }
        },
        "820118e5290f4fdc9cf9a66e83592aa8": {
          "model_module": "@jupyter-widgets/controls",
          "model_module_version": "1.5.0",
          "model_name": "HBoxModel",
          "state": {
            "_dom_classes": [],
            "_model_module": "@jupyter-widgets/controls",
            "_model_module_version": "1.5.0",
            "_model_name": "HBoxModel",
            "_view_count": null,
            "_view_module": "@jupyter-widgets/controls",
            "_view_module_version": "1.5.0",
            "_view_name": "HBoxView",
            "box_style": "",
            "children": [
              "IPY_MODEL_0b18c972a5e648b3aa49da32043f50ed",
              "IPY_MODEL_e19f6487e66f4d1fa3ea031815442993",
              "IPY_MODEL_21b35abc6f7b418bac732a7d14bf5881"
            ],
            "layout": "IPY_MODEL_f0662216554a444cbda09e28bb6b1a9b"
          }
        },
        "823d6cd448774036bc14d68273db49ca": {
          "model_module": "@jupyter-widgets/controls",
          "model_module_version": "1.5.0",
          "model_name": "DescriptionStyleModel",
          "state": {
            "_model_module": "@jupyter-widgets/controls",
            "_model_module_version": "1.5.0",
            "_model_name": "DescriptionStyleModel",
            "_view_count": null,
            "_view_module": "@jupyter-widgets/base",
            "_view_module_version": "1.2.0",
            "_view_name": "StyleView",
            "description_width": ""
          }
        },
        "8553fd9ef52c44f7a1f1b430b2e86537": {
          "model_module": "@jupyter-widgets/base",
          "model_module_version": "1.2.0",
          "model_name": "LayoutModel",
          "state": {
            "_model_module": "@jupyter-widgets/base",
            "_model_module_version": "1.2.0",
            "_model_name": "LayoutModel",
            "_view_count": null,
            "_view_module": "@jupyter-widgets/base",
            "_view_module_version": "1.2.0",
            "_view_name": "LayoutView",
            "align_content": null,
            "align_items": null,
            "align_self": null,
            "border": null,
            "bottom": null,
            "display": null,
            "flex": null,
            "flex_flow": null,
            "grid_area": null,
            "grid_auto_columns": null,
            "grid_auto_flow": null,
            "grid_auto_rows": null,
            "grid_column": null,
            "grid_gap": null,
            "grid_row": null,
            "grid_template_areas": null,
            "grid_template_columns": null,
            "grid_template_rows": null,
            "height": null,
            "justify_content": null,
            "justify_items": null,
            "left": null,
            "margin": null,
            "max_height": null,
            "max_width": null,
            "min_height": null,
            "min_width": null,
            "object_fit": null,
            "object_position": null,
            "order": null,
            "overflow": null,
            "overflow_x": null,
            "overflow_y": null,
            "padding": null,
            "right": null,
            "top": null,
            "visibility": null,
            "width": null
          }
        },
        "8a6d87accd8545aab457ad3a2e3c57f2": {
          "model_module": "@jupyter-widgets/controls",
          "model_module_version": "1.5.0",
          "model_name": "HTMLModel",
          "state": {
            "_dom_classes": [],
            "_model_module": "@jupyter-widgets/controls",
            "_model_module_version": "1.5.0",
            "_model_name": "HTMLModel",
            "_view_count": null,
            "_view_module": "@jupyter-widgets/controls",
            "_view_module_version": "1.5.0",
            "_view_name": "HTMLView",
            "description": "",
            "description_tooltip": null,
            "layout": "IPY_MODEL_a23407320d454e91829eb6f69352efbb",
            "placeholder": "​",
            "style": "IPY_MODEL_a614faaa6dfc4412bc1134ef98db6e49",
            "value": " 385/385 [00:00&lt;00:00, 25.0kB/s]"
          }
        },
        "931ccabfa5ab4f9cbe6a769b6fdb1bdb": {
          "model_module": "@jupyter-widgets/base",
          "model_module_version": "1.2.0",
          "model_name": "LayoutModel",
          "state": {
            "_model_module": "@jupyter-widgets/base",
            "_model_module_version": "1.2.0",
            "_model_name": "LayoutModel",
            "_view_count": null,
            "_view_module": "@jupyter-widgets/base",
            "_view_module_version": "1.2.0",
            "_view_name": "LayoutView",
            "align_content": null,
            "align_items": null,
            "align_self": null,
            "border": null,
            "bottom": null,
            "display": null,
            "flex": null,
            "flex_flow": null,
            "grid_area": null,
            "grid_auto_columns": null,
            "grid_auto_flow": null,
            "grid_auto_rows": null,
            "grid_column": null,
            "grid_gap": null,
            "grid_row": null,
            "grid_template_areas": null,
            "grid_template_columns": null,
            "grid_template_rows": null,
            "height": null,
            "justify_content": null,
            "justify_items": null,
            "left": null,
            "margin": null,
            "max_height": null,
            "max_width": null,
            "min_height": null,
            "min_width": null,
            "object_fit": null,
            "object_position": null,
            "order": null,
            "overflow": null,
            "overflow_x": null,
            "overflow_y": null,
            "padding": null,
            "right": null,
            "top": null,
            "visibility": null,
            "width": null
          }
        },
        "9674d199914e4881995ca05b458415aa": {
          "model_module": "@jupyter-widgets/controls",
          "model_module_version": "1.5.0",
          "model_name": "FloatProgressModel",
          "state": {
            "_dom_classes": [],
            "_model_module": "@jupyter-widgets/controls",
            "_model_module_version": "1.5.0",
            "_model_name": "FloatProgressModel",
            "_view_count": null,
            "_view_module": "@jupyter-widgets/controls",
            "_view_module_version": "1.5.0",
            "_view_name": "ProgressView",
            "bar_style": "success",
            "description": "",
            "description_tooltip": null,
            "layout": "IPY_MODEL_49021013aaec49e6a51d1c5bc169a200",
            "max": 226150,
            "min": 0,
            "orientation": "horizontal",
            "style": "IPY_MODEL_175bf6ecebdd4a91ba30e34e539a6ea2",
            "value": 226150
          }
        },
        "991ca5ba92c7459c862e989257a96205": {
          "model_module": "@jupyter-widgets/controls",
          "model_module_version": "1.5.0",
          "model_name": "FloatProgressModel",
          "state": {
            "_dom_classes": [],
            "_model_module": "@jupyter-widgets/controls",
            "_model_module_version": "1.5.0",
            "_model_name": "FloatProgressModel",
            "_view_count": null,
            "_view_module": "@jupyter-widgets/controls",
            "_view_module_version": "1.5.0",
            "_view_name": "ProgressView",
            "bar_style": "success",
            "description": "",
            "description_tooltip": null,
            "layout": "IPY_MODEL_8553fd9ef52c44f7a1f1b430b2e86537",
            "max": 28,
            "min": 0,
            "orientation": "horizontal",
            "style": "IPY_MODEL_d6e7f8465f6e458585d407b9f4b5a117",
            "value": 28
          }
        },
        "a23407320d454e91829eb6f69352efbb": {
          "model_module": "@jupyter-widgets/base",
          "model_module_version": "1.2.0",
          "model_name": "LayoutModel",
          "state": {
            "_model_module": "@jupyter-widgets/base",
            "_model_module_version": "1.2.0",
            "_model_name": "LayoutModel",
            "_view_count": null,
            "_view_module": "@jupyter-widgets/base",
            "_view_module_version": "1.2.0",
            "_view_name": "LayoutView",
            "align_content": null,
            "align_items": null,
            "align_self": null,
            "border": null,
            "bottom": null,
            "display": null,
            "flex": null,
            "flex_flow": null,
            "grid_area": null,
            "grid_auto_columns": null,
            "grid_auto_flow": null,
            "grid_auto_rows": null,
            "grid_column": null,
            "grid_gap": null,
            "grid_row": null,
            "grid_template_areas": null,
            "grid_template_columns": null,
            "grid_template_rows": null,
            "height": null,
            "justify_content": null,
            "justify_items": null,
            "left": null,
            "margin": null,
            "max_height": null,
            "max_width": null,
            "min_height": null,
            "min_width": null,
            "object_fit": null,
            "object_position": null,
            "order": null,
            "overflow": null,
            "overflow_x": null,
            "overflow_y": null,
            "padding": null,
            "right": null,
            "top": null,
            "visibility": null,
            "width": null
          }
        },
        "a614faaa6dfc4412bc1134ef98db6e49": {
          "model_module": "@jupyter-widgets/controls",
          "model_module_version": "1.5.0",
          "model_name": "DescriptionStyleModel",
          "state": {
            "_model_module": "@jupyter-widgets/controls",
            "_model_module_version": "1.5.0",
            "_model_name": "DescriptionStyleModel",
            "_view_count": null,
            "_view_module": "@jupyter-widgets/base",
            "_view_module_version": "1.2.0",
            "_view_name": "StyleView",
            "description_width": ""
          }
        },
        "c1ade0ef8fb4426db277c2c21bdb0105": {
          "model_module": "@jupyter-widgets/base",
          "model_module_version": "1.2.0",
          "model_name": "LayoutModel",
          "state": {
            "_model_module": "@jupyter-widgets/base",
            "_model_module_version": "1.2.0",
            "_model_name": "LayoutModel",
            "_view_count": null,
            "_view_module": "@jupyter-widgets/base",
            "_view_module_version": "1.2.0",
            "_view_name": "LayoutView",
            "align_content": null,
            "align_items": null,
            "align_self": null,
            "border": null,
            "bottom": null,
            "display": null,
            "flex": null,
            "flex_flow": null,
            "grid_area": null,
            "grid_auto_columns": null,
            "grid_auto_flow": null,
            "grid_auto_rows": null,
            "grid_column": null,
            "grid_gap": null,
            "grid_row": null,
            "grid_template_areas": null,
            "grid_template_columns": null,
            "grid_template_rows": null,
            "height": null,
            "justify_content": null,
            "justify_items": null,
            "left": null,
            "margin": null,
            "max_height": null,
            "max_width": null,
            "min_height": null,
            "min_width": null,
            "object_fit": null,
            "object_position": null,
            "order": null,
            "overflow": null,
            "overflow_x": null,
            "overflow_y": null,
            "padding": null,
            "right": null,
            "top": null,
            "visibility": null,
            "width": null
          }
        },
        "c1c1b51a25ce4c3fb8487247ef8227f7": {
          "model_module": "@jupyter-widgets/base",
          "model_module_version": "1.2.0",
          "model_name": "LayoutModel",
          "state": {
            "_model_module": "@jupyter-widgets/base",
            "_model_module_version": "1.2.0",
            "_model_name": "LayoutModel",
            "_view_count": null,
            "_view_module": "@jupyter-widgets/base",
            "_view_module_version": "1.2.0",
            "_view_name": "LayoutView",
            "align_content": null,
            "align_items": null,
            "align_self": null,
            "border": null,
            "bottom": null,
            "display": null,
            "flex": null,
            "flex_flow": null,
            "grid_area": null,
            "grid_auto_columns": null,
            "grid_auto_flow": null,
            "grid_auto_rows": null,
            "grid_column": null,
            "grid_gap": null,
            "grid_row": null,
            "grid_template_areas": null,
            "grid_template_columns": null,
            "grid_template_rows": null,
            "height": null,
            "justify_content": null,
            "justify_items": null,
            "left": null,
            "margin": null,
            "max_height": null,
            "max_width": null,
            "min_height": null,
            "min_width": null,
            "object_fit": null,
            "object_position": null,
            "order": null,
            "overflow": null,
            "overflow_x": null,
            "overflow_y": null,
            "padding": null,
            "right": null,
            "top": null,
            "visibility": null,
            "width": null
          }
        },
        "c3a852807e364e81832eb326e54bf3d0": {
          "model_module": "@jupyter-widgets/base",
          "model_module_version": "1.2.0",
          "model_name": "LayoutModel",
          "state": {
            "_model_module": "@jupyter-widgets/base",
            "_model_module_version": "1.2.0",
            "_model_name": "LayoutModel",
            "_view_count": null,
            "_view_module": "@jupyter-widgets/base",
            "_view_module_version": "1.2.0",
            "_view_name": "LayoutView",
            "align_content": null,
            "align_items": null,
            "align_self": null,
            "border": null,
            "bottom": null,
            "display": null,
            "flex": null,
            "flex_flow": null,
            "grid_area": null,
            "grid_auto_columns": null,
            "grid_auto_flow": null,
            "grid_auto_rows": null,
            "grid_column": null,
            "grid_gap": null,
            "grid_row": null,
            "grid_template_areas": null,
            "grid_template_columns": null,
            "grid_template_rows": null,
            "height": null,
            "justify_content": null,
            "justify_items": null,
            "left": null,
            "margin": null,
            "max_height": null,
            "max_width": null,
            "min_height": null,
            "min_width": null,
            "object_fit": null,
            "object_position": null,
            "order": null,
            "overflow": null,
            "overflow_x": null,
            "overflow_y": null,
            "padding": null,
            "right": null,
            "top": null,
            "visibility": null,
            "width": null
          }
        },
        "d478f40c8cee42f0805af0edd29b7e2e": {
          "model_module": "@jupyter-widgets/base",
          "model_module_version": "1.2.0",
          "model_name": "LayoutModel",
          "state": {
            "_model_module": "@jupyter-widgets/base",
            "_model_module_version": "1.2.0",
            "_model_name": "LayoutModel",
            "_view_count": null,
            "_view_module": "@jupyter-widgets/base",
            "_view_module_version": "1.2.0",
            "_view_name": "LayoutView",
            "align_content": null,
            "align_items": null,
            "align_self": null,
            "border": null,
            "bottom": null,
            "display": null,
            "flex": null,
            "flex_flow": null,
            "grid_area": null,
            "grid_auto_columns": null,
            "grid_auto_flow": null,
            "grid_auto_rows": null,
            "grid_column": null,
            "grid_gap": null,
            "grid_row": null,
            "grid_template_areas": null,
            "grid_template_columns": null,
            "grid_template_rows": null,
            "height": null,
            "justify_content": null,
            "justify_items": null,
            "left": null,
            "margin": null,
            "max_height": null,
            "max_width": null,
            "min_height": null,
            "min_width": null,
            "object_fit": null,
            "object_position": null,
            "order": null,
            "overflow": null,
            "overflow_x": null,
            "overflow_y": null,
            "padding": null,
            "right": null,
            "top": null,
            "visibility": null,
            "width": null
          }
        },
        "d6e7f8465f6e458585d407b9f4b5a117": {
          "model_module": "@jupyter-widgets/controls",
          "model_module_version": "1.5.0",
          "model_name": "ProgressStyleModel",
          "state": {
            "_model_module": "@jupyter-widgets/controls",
            "_model_module_version": "1.5.0",
            "_model_name": "ProgressStyleModel",
            "_view_count": null,
            "_view_module": "@jupyter-widgets/base",
            "_view_module_version": "1.2.0",
            "_view_name": "StyleView",
            "bar_color": null,
            "description_width": ""
          }
        },
        "e19f6487e66f4d1fa3ea031815442993": {
          "model_module": "@jupyter-widgets/controls",
          "model_module_version": "1.5.0",
          "model_name": "FloatProgressModel",
          "state": {
            "_dom_classes": [],
            "_model_module": "@jupyter-widgets/controls",
            "_model_module_version": "1.5.0",
            "_model_name": "FloatProgressModel",
            "_view_count": null,
            "_view_module": "@jupyter-widgets/controls",
            "_view_module_version": "1.5.0",
            "_view_name": "ProgressView",
            "bar_style": "success",
            "description": "",
            "description_tooltip": null,
            "layout": "IPY_MODEL_c3a852807e364e81832eb326e54bf3d0",
            "max": 440474434,
            "min": 0,
            "orientation": "horizontal",
            "style": "IPY_MODEL_333819154fab477ba72d62dde63aed5c",
            "value": 440474434
          }
        },
        "e754508944af49cbbfa73cb3f5774acc": {
          "model_module": "@jupyter-widgets/controls",
          "model_module_version": "1.5.0",
          "model_name": "DescriptionStyleModel",
          "state": {
            "_model_module": "@jupyter-widgets/controls",
            "_model_module_version": "1.5.0",
            "_model_name": "DescriptionStyleModel",
            "_view_count": null,
            "_view_module": "@jupyter-widgets/base",
            "_view_module_version": "1.2.0",
            "_view_name": "StyleView",
            "description_width": ""
          }
        },
        "eccb2f81cde84d79acc1cbd19c629a37": {
          "model_module": "@jupyter-widgets/controls",
          "model_module_version": "1.5.0",
          "model_name": "HTMLModel",
          "state": {
            "_dom_classes": [],
            "_model_module": "@jupyter-widgets/controls",
            "_model_module_version": "1.5.0",
            "_model_name": "HTMLModel",
            "_view_count": null,
            "_view_module": "@jupyter-widgets/controls",
            "_view_module_version": "1.5.0",
            "_view_name": "HTMLView",
            "description": "",
            "description_tooltip": null,
            "layout": "IPY_MODEL_d478f40c8cee42f0805af0edd29b7e2e",
            "placeholder": "​",
            "style": "IPY_MODEL_0e0fcbb1a8d6494a92464ef28ea876cb",
            "value": " 28.0/28.0 [00:00&lt;00:00, 1.38kB/s]"
          }
        },
        "f0662216554a444cbda09e28bb6b1a9b": {
          "model_module": "@jupyter-widgets/base",
          "model_module_version": "1.2.0",
          "model_name": "LayoutModel",
          "state": {
            "_model_module": "@jupyter-widgets/base",
            "_model_module_version": "1.2.0",
            "_model_name": "LayoutModel",
            "_view_count": null,
            "_view_module": "@jupyter-widgets/base",
            "_view_module_version": "1.2.0",
            "_view_name": "LayoutView",
            "align_content": null,
            "align_items": null,
            "align_self": null,
            "border": null,
            "bottom": null,
            "display": null,
            "flex": null,
            "flex_flow": null,
            "grid_area": null,
            "grid_auto_columns": null,
            "grid_auto_flow": null,
            "grid_auto_rows": null,
            "grid_column": null,
            "grid_gap": null,
            "grid_row": null,
            "grid_template_areas": null,
            "grid_template_columns": null,
            "grid_template_rows": null,
            "height": null,
            "justify_content": null,
            "justify_items": null,
            "left": null,
            "margin": null,
            "max_height": null,
            "max_width": null,
            "min_height": null,
            "min_width": null,
            "object_fit": null,
            "object_position": null,
            "order": null,
            "overflow": null,
            "overflow_x": null,
            "overflow_y": null,
            "padding": null,
            "right": null,
            "top": null,
            "visibility": null,
            "width": null
          }
        },
        "f5b821bc48eb4f41b272b28707e28ae1": {
          "model_module": "@jupyter-widgets/controls",
          "model_module_version": "1.5.0",
          "model_name": "FloatProgressModel",
          "state": {
            "_dom_classes": [],
            "_model_module": "@jupyter-widgets/controls",
            "_model_module_version": "1.5.0",
            "_model_name": "FloatProgressModel",
            "_view_count": null,
            "_view_module": "@jupyter-widgets/controls",
            "_view_module_version": "1.5.0",
            "_view_name": "ProgressView",
            "bar_style": "success",
            "description": "",
            "description_tooltip": null,
            "layout": "IPY_MODEL_4c4dd3e5d6554660a0f72167dfb03630",
            "max": 385,
            "min": 0,
            "orientation": "horizontal",
            "style": "IPY_MODEL_6ab339a35c4d454897f533d625df9da0",
            "value": 385
          }
        }
      }
    }
  },
  "nbformat": 4,
  "nbformat_minor": 0
}
