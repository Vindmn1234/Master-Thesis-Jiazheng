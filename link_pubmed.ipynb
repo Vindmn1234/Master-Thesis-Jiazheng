{
 "cells": [
  {
   "cell_type": "code",
   "execution_count": 25,
   "metadata": {},
   "outputs": [],
   "source": [
    "import requests\n",
    "import time\n",
    "import pandas as pd\n",
    "import numpy as np\n",
    "import os\n",
    "from requests.exceptions import ConnectionError, Timeout\n",
    "\n",
    "# Function to fetch PubMed article details for a single PubMed ID with retry mechanism\n",
    "def fetch_pubmed_details(pubmed_id, retries=3, delay=8):\n",
    "    efetch_url = \"https://eutils.ncbi.nlm.nih.gov/entrez/eutils/efetch.fcgi\"\n",
    "    params = {\n",
    "        'db': 'pubmed',\n",
    "        'id': pubmed_id,\n",
    "        'retmode': 'xml',\n",
    "        'rettype': 'abstract'\n",
    "    }\n",
    "\n",
    "    # Retry mechanism to handle connection errors\n",
    "    for attempt in range(retries):\n",
    "        try:\n",
    "            response = requests.get(efetch_url, params=params, timeout=10)\n",
    "            if response.status_code == 200:\n",
    "                return response.text\n",
    "            elif response.status_code == 429:\n",
    "                print(f\"Rate limit hit for PubMed ID {pubmed_id}. Retrying in {delay} seconds...\")\n",
    "                time.sleep(delay)\n",
    "                delay *= 2  # Exponential backoff\n",
    "            else:\n",
    "                print(f\"Error fetching details for PubMed ID {pubmed_id}: {response.status_code}\")\n",
    "                return None\n",
    "        except (ConnectionError, Timeout) as e:\n",
    "            print(f\"Connection error for PubMed ID {pubmed_id}: {e}. Retrying in {delay} seconds... (Attempt {attempt+1}/{retries})\")\n",
    "            time.sleep(delay)\n",
    "    \n",
    "    print(f\"Failed to fetch details for PubMed ID {pubmed_id} after {retries} attempts.\")\n",
    "    return None\n",
    "\n",
    "# Function to fetch details for the PubMed IDs in the `pmid_list` column\n",
    "def fetch_details_for_pmid_list(row, processed_papers_counter):\n",
    "    # Safely convert the 'pmid_list' to a list (if it's an ndarray)\n",
    "    pmid_list = row.get('pmid_list', [])\n",
    "    if isinstance(pmid_list, (np.ndarray, pd.Series)):\n",
    "        pmid_list = pmid_list.tolist()\n",
    "    \n",
    "    if not pmid_list:  # Skip if pmid_list is empty\n",
    "        return None\n",
    "\n",
    "    paper_details = []\n",
    "    for pubmed_id in pmid_list:\n",
    "        if not pubmed_id or pubmed_id == 'None':  # Skip invalid IDs\n",
    "            continue\n",
    "\n",
    "        details = fetch_pubmed_details(pubmed_id)\n",
    "        if details:\n",
    "            paper_details.append(details)\n",
    "        \n",
    "        # Increment processed paper counter\n",
    "        processed_papers_counter[0] += 1\n",
    "        print(f\"Processed {processed_papers_counter[0]} papers so far.\")\n",
    "        \n",
    "        # Respect API rate limits with a delay\n",
    "        time.sleep(0.5)\n",
    "    \n",
    "    return paper_details if paper_details else None\n",
    "\n",
    "# Function to save progress to a Parquet file\n",
    "def save_progress_parquet(df, file_path):\n",
    "    # Ensure file path ends with .parquet\n",
    "    parquet_file_path = os.path.splitext(file_path)[0] + '.parquet'\n",
    "    \n",
    "    try:\n",
    "        # Save the DataFrame to a Parquet file\n",
    "        df.to_parquet(parquet_file_path, index=False)\n",
    "        print(f\"Auto-saved progress to {parquet_file_path}\")\n",
    "    except Exception as e:\n",
    "        print(f\"Failed to save progress to {parquet_file_path}. Error: {e}\")\n",
    "\n",
    "# Main processing loop\n",
    "def process_and_save_pubmed_details(df_paper, file_path, start_idx, save_interval):\n",
    "    processed_papers_counter = [0]  # Counter for processed papers\n",
    "    total_trials = len(df_paper)\n",
    "\n",
    "    # Start processing from `start_idx`\n",
    "    print(f\"Resuming from trial {start_idx + 1}\")\n",
    "    for idx in range(start_idx, total_trials):\n",
    "        row = df_paper.iloc[idx]\n",
    "        paper_details = fetch_details_for_pmid_list(row, processed_papers_counter)\n",
    "        \n",
    "        # Save details into separate columns if available\n",
    "        if paper_details:\n",
    "            for i, details in enumerate(paper_details):\n",
    "                df_paper.at[idx, f'Paper_Details_{i+1}'] = details\n",
    "\n",
    "        # Save progress every `save_interval` trials\n",
    "        if (idx + 1) % save_interval == 0:\n",
    "            save_progress_parquet(df_paper, file_path)\n",
    "\n",
    "    # Final save at the end of processing\n",
    "    save_progress_parquet(df_paper, file_path)\n"
   ]
  },
  {
   "cell_type": "code",
   "execution_count": 26,
   "metadata": {
    "tags": [
     "outputPrepend"
    ]
   },
   "outputs": [
    {
     "output_type": "stream",
     "name": "stdout",
     "text": " so far.\nProcessed 93994 papers so far.\nProcessed 93995 papers so far.\nProcessed 93996 papers so far.\nProcessed 93997 papers so far.\nProcessed 93998 papers so far.\nProcessed 93999 papers so far.\nProcessed 94000 papers so far.\nProcessed 94001 papers so far.\nProcessed 94002 papers so far.\nProcessed 94003 papers so far.\nProcessed 94004 papers so far.\nProcessed 94005 papers so far.\nProcessed 94006 papers so far.\nProcessed 94007 papers so far.\nProcessed 94008 papers so far.\nProcessed 94009 papers so far.\nProcessed 94010 papers so far.\nProcessed 94011 papers so far.\nProcessed 94012 papers so far.\nProcessed 94013 papers so far.\nProcessed 94014 papers so far.\nProcessed 94015 papers so far.\nProcessed 94016 papers so far.\nProcessed 94017 papers so far.\nProcessed 94018 papers so far.\nProcessed 94019 papers so far.\nProcessed 94020 papers so far.\nProcessed 94021 papers so far.\nProcessed 94022 papers so far.\nProcessed 94023 papers so far.\nProcessed 94024 papers so far.\nProcessed 94025 papers so far.\nProcessed 94026 papers so far.\nProcessed 94027 papers so far.\nProcessed 94028 papers so far.\nProcessed 94029 papers so far.\nProcessed 94030 papers so far.\nProcessed 94031 papers so far.\nProcessed 94032 papers so far.\nProcessed 94033 papers so far.\nProcessed 94034 papers so far.\nProcessed 94035 papers so far.\nProcessed 94036 papers so far.\nProcessed 94037 papers so far.\nProcessed 94038 papers so far.\nProcessed 94039 papers so far.\nProcessed 94040 papers so far.\nProcessed 94041 papers so far.\nProcessed 94042 papers so far.\nProcessed 94043 papers so far.\nProcessed 94044 papers so far.\nProcessed 94045 papers so far.\nProcessed 94046 papers so far.\nProcessed 94047 papers so far.\nProcessed 94048 papers so far.\nProcessed 94049 papers so far.\nProcessed 94050 papers so far.\nProcessed 94051 papers so far.\nProcessed 94052 papers so far.\nProcessed 94053 papers so far.\nProcessed 94054 papers so far.\nProcessed 94055 papers so far.\nProcessed 94056 papers so far.\nProcessed 94057 papers so far.\nProcessed 94058 papers so far.\nProcessed 94059 papers so far.\nProcessed 94060 papers so far.\nProcessed 94061 papers so far.\nProcessed 94062 papers so far.\nProcessed 94063 papers so far.\nProcessed 94064 papers so far.\nProcessed 94065 papers so far.\nProcessed 94066 papers so far.\nProcessed 94067 papers so far.\nProcessed 94068 papers so far.\nProcessed 94069 papers so far.\nProcessed 94070 papers so far.\nProcessed 94071 papers so far.\nProcessed 94072 papers so far.\nProcessed 94073 papers so far.\nProcessed 94074 papers so far.\nProcessed 94075 papers so far.\nProcessed 94076 papers so far.\nProcessed 94077 papers so far.\nProcessed 94078 papers so far.\nProcessed 94079 papers so far.\nProcessed 94080 papers so far.\nProcessed 94081 papers so far.\nProcessed 94082 papers so far.\nProcessed 94083 papers so far.\nProcessed 94084 papers so far.\nProcessed 94085 papers so far.\nProcessed 94086 papers so far.\nProcessed 94087 papers so far.\nProcessed 94088 papers so far.\nProcessed 94089 papers so far.\nProcessed 94090 papers so far.\nProcessed 94091 papers so far.\nProcessed 94092 papers so far.\nProcessed 94093 papers so far.\nProcessed 94094 papers so far.\nProcessed 94095 papers so far.\nProcessed 94096 papers so far.\nProcessed 94097 papers so far.\nProcessed 94098 papers so far.\nProcessed 94099 papers so far.\nProcessed 94100 papers so far.\nProcessed 94101 papers so far.\nProcessed 94102 papers so far.\nProcessed 94103 papers so far.\nProcessed 94104 papers so far.\nProcessed 94105 papers so far.\nProcessed 94106 papers so far.\nProcessed 94107 papers so far.\nProcessed 94108 papers so far.\nProcessed 94109 papers so far.\nProcessed 94110 papers so far.\nProcessed 94111 papers so far.\nProcessed 94112 papers so far.\nProcessed 94113 papers so far.\nProcessed 94114 papers so far.\nProcessed 94115 papers so far.\nProcessed 94116 papers so far.\nProcessed 94117 papers so far.\nProcessed 94118 papers so far.\nProcessed 94119 papers so far.\nProcessed 94120 papers so far.\nProcessed 94121 papers so far.\nProcessed 94122 papers so far.\nProcessed 94123 papers so far.\nProcessed 94124 papers so far.\nProcessed 94125 papers so far.\nProcessed 94126 papers so far.\nProcessed 94127 papers so far.\nProcessed 94128 papers so far.\nProcessed 94129 papers so far.\nProcessed 94130 papers so far.\nProcessed 94131 papers so far.\nProcessed 94132 papers so far.\nProcessed 94133 papers so far.\nProcessed 94134 papers so far.\nProcessed 94135 papers so far.\nProcessed 94136 papers so far.\nProcessed 94137 papers so far.\nProcessed 94138 papers so far.\nProcessed 94139 papers so far.\nProcessed 94140 papers so far.\nProcessed 94141 papers so far.\nProcessed 94142 papers so far.\nProcessed 94143 papers so far.\nProcessed 94144 papers so far.\nProcessed 94145 papers so far.\nProcessed 94146 papers so far.\nProcessed 94147 papers so far.\nProcessed 94148 papers so far.\nProcessed 94149 papers so far.\nProcessed 94150 papers so far.\nProcessed 94151 papers so far.\nProcessed 94152 papers so far.\nProcessed 94153 papers so far.\nProcessed 94154 papers so far.\nProcessed 94155 papers so far.\nProcessed 94156 papers so far.\nProcessed 94157 papers so far.\nProcessed 94158 papers so far.\nProcessed 94159 papers so far.\nProcessed 94160 papers so far.\nProcessed 94161 papers so far.\nProcessed 94162 papers so far.\nProcessed 94163 papers so far.\nProcessed 94164 papers so far.\nProcessed 94165 papers so far.\nProcessed 94166 papers so far.\nProcessed 94167 papers so far.\nProcessed 94168 papers so far.\nProcessed 94169 papers so far.\nProcessed 94170 papers so far.\nProcessed 94171 papers so far.\nProcessed 94172 papers so far.\nProcessed 94173 papers so far.\nProcessed 94174 papers so far.\nProcessed 94175 papers so far.\nProcessed 94176 papers so far.\nProcessed 94177 papers so far.\nProcessed 94178 papers so far.\nProcessed 94179 papers so far.\nProcessed 94180 papers so far.\nProcessed 94181 papers so far.\nProcessed 94182 papers so far.\nProcessed 94183 papers so far.\nProcessed 94184 papers so far.\nProcessed 94185 papers so far.\nProcessed 94186 papers so far.\nProcessed 94187 papers so far.\nProcessed 94188 papers so far.\nProcessed 94189 papers so far.\nProcessed 94190 papers so far.\nProcessed 94191 papers so far.\nProcessed 94192 papers so far.\nProcessed 94193 papers so far.\nProcessed 94194 papers so far.\nProcessed 94195 papers so far.\nProcessed 94196 papers so far.\nProcessed 94197 papers so far.\nProcessed 94198 papers so far.\nProcessed 94199 papers so far.\nProcessed 94200 papers so far.\nProcessed 94201 papers so far.\nProcessed 94202 papers so far.\nProcessed 94203 papers so far.\nProcessed 94204 papers so far.\nProcessed 94205 papers so far.\nProcessed 94206 papers so far.\nProcessed 94207 papers so far.\nProcessed 94208 papers so far.\nProcessed 94209 papers so far.\nProcessed 94210 papers so far.\nProcessed 94211 papers so far.\nProcessed 94212 papers so far.\nProcessed 94213 papers so far.\nProcessed 94214 papers so far.\nProcessed 94215 papers so far.\nProcessed 94216 papers so far.\nProcessed 94217 papers so far.\nProcessed 94218 papers so far.\nProcessed 94219 papers so far.\nProcessed 94220 papers so far.\nProcessed 94221 papers so far.\nProcessed 94222 papers so far.\nProcessed 94223 papers so far.\nProcessed 94224 papers so far.\nProcessed 94225 papers so far.\nProcessed 94226 papers so far.\nProcessed 94227 papers so far.\nProcessed 94228 papers so far.\nProcessed 94229 papers so far.\nProcessed 94230 papers so far.\nProcessed 94231 papers so far.\nProcessed 94232 papers so far.\nProcessed 94233 papers so far.\nProcessed 94234 papers so far.\nProcessed 94235 papers so far.\nProcessed 94236 papers so far.\nProcessed 94237 papers so far.\nProcessed 94238 papers so far.\nProcessed 94239 papers so far.\nProcessed 94240 papers so far.\nProcessed 94241 papers so far.\nProcessed 94242 papers so far.\nProcessed 94243 papers so far.\nProcessed 94244 papers so far.\nProcessed 94245 papers so far.\nProcessed 94246 papers so far.\nProcessed 94247 papers so far.\nProcessed 94248 papers so far.\nProcessed 94249 papers so far.\nProcessed 94250 papers so far.\nProcessed 94251 papers so far.\nProcessed 94252 papers so far.\nProcessed 94253 papers so far.\nProcessed 94254 papers so far.\nProcessed 94255 papers so far.\nProcessed 94256 papers so far.\nProcessed 94257 papers so far.\nProcessed 94258 papers so far.\nProcessed 94259 papers so far.\nProcessed 94260 papers so far.\nProcessed 94261 papers so far.\nProcessed 94262 papers so far.\nProcessed 94263 papers so far.\nProcessed 94264 papers so far.\nProcessed 94265 papers so far.\nProcessed 94266 papers so far.\nProcessed 94267 papers so far.\nProcessed 94268 papers so far.\nProcessed 94269 papers so far.\nProcessed 94270 papers so far.\nProcessed 94271 papers so far.\nProcessed 94272 papers so far.\nProcessed 94273 papers so far.\nProcessed 94274 papers so far.\nProcessed 94275 papers so far.\nProcessed 94276 papers so far.\nProcessed 94277 papers so far.\nProcessed 94278 papers so far.\nProcessed 94279 papers so far.\nProcessed 94280 papers so far.\nProcessed 94281 papers so far.\nProcessed 94282 papers so far.\nProcessed 94283 papers so far.\nProcessed 94284 papers so far.\nProcessed 94285 papers so far.\nProcessed 94286 papers so far.\nProcessed 94287 papers so far.\nProcessed 94288 papers so far.\nProcessed 94289 papers so far.\nProcessed 94290 papers so far.\nProcessed 94291 papers so far.\nProcessed 94292 papers so far.\nProcessed 94293 papers so far.\nProcessed 94294 papers so far.\nProcessed 94295 papers so far.\nProcessed 94296 papers so far.\nProcessed 94297 papers so far.\nProcessed 94298 papers so far.\nProcessed 94299 papers so far.\nProcessed 94300 papers so far.\nProcessed 94301 papers so far.\nProcessed 94302 papers so far.\nProcessed 94303 papers so far.\nProcessed 94304 papers so far.\nProcessed 94305 papers so far.\nProcessed 94306 papers so far.\nProcessed 94307 papers so far.\nProcessed 94308 papers so far.\nProcessed 94309 papers so far.\nProcessed 94310 papers so far.\nProcessed 94311 papers so far.\nProcessed 94312 papers so far.\nProcessed 94313 papers so far.\nProcessed 94314 papers so far.\nProcessed 94315 papers so far.\nProcessed 94316 papers so far.\nProcessed 94317 papers so far.\nProcessed 94318 papers so far.\nProcessed 94319 papers so far.\nProcessed 94320 papers so far.\nProcessed 94321 papers so far.\nProcessed 94322 papers so far.\nProcessed 94323 papers so far.\nProcessed 94324 papers so far.\nProcessed 94325 papers so far.\nProcessed 94326 papers so far.\nProcessed 94327 papers so far.\nProcessed 94328 papers so far.\nProcessed 94329 papers so far.\nProcessed 94330 papers so far.\nProcessed 94331 papers so far.\nProcessed 94332 papers so far.\nProcessed 94333 papers so far.\nProcessed 94334 papers so far.\nProcessed 94335 papers so far.\nProcessed 94336 papers so far.\nProcessed 94337 papers so far.\nProcessed 94338 papers so far.\nProcessed 94339 papers so far.\nProcessed 94340 papers so far.\nProcessed 94341 papers so far.\nProcessed 94342 papers so far.\nProcessed 94343 papers so far.\nProcessed 94344 papers so far.\nProcessed 94345 papers so far.\nProcessed 94346 papers so far.\nProcessed 94347 papers so far.\nProcessed 94348 papers so far.\nProcessed 94349 papers so far.\nProcessed 94350 papers so far.\nProcessed 94351 papers so far.\nProcessed 94352 papers so far.\nProcessed 94353 papers so far.\nProcessed 94354 papers so far.\nProcessed 94355 papers so far.\nProcessed 94356 papers so far.\nProcessed 94357 papers so far.\nProcessed 94358 papers so far.\nProcessed 94359 papers so far.\nProcessed 94360 papers so far.\nProcessed 94361 papers so far.\nProcessed 94362 papers so far.\nProcessed 94363 papers so far.\nProcessed 94364 papers so far.\nProcessed 94365 papers so far.\nProcessed 94366 papers so far.\nProcessed 94367 papers so far.\nProcessed 94368 papers so far.\nProcessed 94369 papers so far.\nProcessed 94370 papers so far.\nProcessed 94371 papers so far.\nProcessed 94372 papers so far.\nProcessed 94373 papers so far.\nProcessed 94374 papers so far.\nProcessed 94375 papers so far.\nProcessed 94376 papers so far.\nProcessed 94377 papers so far.\nProcessed 94378 papers so far.\nProcessed 94379 papers so far.\nProcessed 94380 papers so far.\nProcessed 94381 papers so far.\nProcessed 94382 papers so far.\nProcessed 94383 papers so far.\nProcessed 94384 papers so far.\nProcessed 94385 papers so far.\nProcessed 94386 papers so far.\nProcessed 94387 papers so far.\nProcessed 94388 papers so far.\nProcessed 94389 papers so far.\nProcessed 94390 papers so far.\nProcessed 94391 papers so far.\nProcessed 94392 papers so far.\nProcessed 94393 papers so far.\nProcessed 94394 papers so far.\nProcessed 94395 papers so far.\nProcessed 94396 papers so far.\nProcessed 94397 papers so far.\nProcessed 94398 papers so far.\nProcessed 94399 papers so far.\nProcessed 94400 papers so far.\nProcessed 94401 papers so far.\nProcessed 94402 papers so far.\nProcessed 94403 papers so far.\nProcessed 94404 papers so far.\nProcessed 94405 papers so far.\nProcessed 94406 papers so far.\nProcessed 94407 papers so far.\nProcessed 94408 papers so far.\nProcessed 94409 papers so far.\nProcessed 94410 papers so far.\nProcessed 94411 papers so far.\nProcessed 94412 papers so far.\nProcessed 94413 papers so far.\nProcessed 94414 papers so far.\nProcessed 94415 papers so far.\nProcessed 94416 papers so far.\nProcessed 94417 papers so far.\nProcessed 94418 papers so far.\nProcessed 94419 papers so far.\nProcessed 94420 papers so far.\nProcessed 94421 papers so far.\nProcessed 94422 papers so far.\nProcessed 94423 papers so far.\nProcessed 94424 papers so far.\nProcessed 94425 papers so far.\nProcessed 94426 papers so far.\nProcessed 94427 papers so far.\nProcessed 94428 papers so far.\nProcessed 94429 papers so far.\nProcessed 94430 papers so far.\nProcessed 94431 papers so far.\nProcessed 94432 papers so far.\nProcessed 94433 papers so far.\nProcessed 94434 papers so far.\nProcessed 94435 papers so far.\nProcessed 94436 papers so far.\nProcessed 94437 papers so far.\nProcessed 94438 papers so far.\nProcessed 94439 papers so far.\nProcessed 94440 papers so far.\nProcessed 94441 papers so far.\nProcessed 94442 papers so far.\nProcessed 94443 papers so far.\nProcessed 94444 papers so far.\nProcessed 94445 papers so far.\nProcessed 94446 papers so far.\nProcessed 94447 papers so far.\nProcessed 94448 papers so far.\nProcessed 94449 papers so far.\nProcessed 94450 papers so far.\nProcessed 94451 papers so far.\nProcessed 94452 papers so far.\nProcessed 94453 papers so far.\nProcessed 94454 papers so far.\nProcessed 94455 papers so far.\nProcessed 94456 papers so far.\nProcessed 94457 papers so far.\nProcessed 94458 papers so far.\nProcessed 94459 papers so far.\nProcessed 94460 papers so far.\nProcessed 94461 papers so far.\nProcessed 94462 papers so far.\nProcessed 94463 papers so far.\nProcessed 94464 papers so far.\nProcessed 94465 papers so far.\nProcessed 94466 papers so far.\nProcessed 94467 papers so far.\nProcessed 94468 papers so far.\nProcessed 94469 papers so far.\nProcessed 94470 papers so far.\nProcessed 94471 papers so far.\nProcessed 94472 papers so far.\nProcessed 94473 papers so far.\nProcessed 94474 papers so far.\nProcessed 94475 papers so far.\nProcessed 94476 papers so far.\nProcessed 94477 papers so far.\nProcessed 94478 papers so far.\nProcessed 94479 papers so far.\nProcessed 94480 papers so far.\nProcessed 94481 papers so far.\nProcessed 94482 papers so far.\nProcessed 94483 papers so far.\nProcessed 94484 papers so far.\nProcessed 94485 papers so far.\nProcessed 94486 papers so far.\nProcessed 94487 papers so far.\nProcessed 94488 papers so far.\nProcessed 94489 papers so far.\nProcessed 94490 papers so far.\nProcessed 94491 papers so far.\nProcessed 94492 papers so far.\nProcessed 94493 papers so far.\nProcessed 94494 papers so far.\nProcessed 94495 papers so far.\nProcessed 94496 papers so far.\nProcessed 94497 papers so far.\nProcessed 94498 papers so far.\nProcessed 94499 papers so far.\nProcessed 94500 papers so far.\nProcessed 94501 papers so far.\nProcessed 94502 papers so far.\nProcessed 94503 papers so far.\nProcessed 94504 papers so far.\nProcessed 94505 papers so far.\nProcessed 94506 papers so far.\nProcessed 94507 papers so far.\nProcessed 94508 papers so far.\nProcessed 94509 papers so far.\nProcessed 94510 papers so far.\nProcessed 94511 papers so far.\nProcessed 94512 papers so far.\nProcessed 94513 papers so far.\nProcessed 94514 papers so far.\nProcessed 94515 papers so far.\nProcessed 94516 papers so far.\nProcessed 94517 papers so far.\nProcessed 94518 papers so far.\nProcessed 94519 papers so far.\nProcessed 94520 papers so far.\nProcessed 94521 papers so far.\nProcessed 94522 papers so far.\nProcessed 94523 papers so far.\nProcessed 94524 papers so far.\nProcessed 94525 papers so far.\nProcessed 94526 papers so far.\nProcessed 94527 papers so far.\nProcessed 94528 papers so far.\nProcessed 94529 papers so far.\nProcessed 94530 papers so far.\nProcessed 94531 papers so far.\nProcessed 94532 papers so far.\nProcessed 94533 papers so far.\nProcessed 94534 papers so far.\nProcessed 94535 papers so far.\nProcessed 94536 papers so far.\nProcessed 94537 papers so far.\nProcessed 94538 papers so far.\nProcessed 94539 papers so far.\nProcessed 94540 papers so far.\nProcessed 94541 papers so far.\nProcessed 94542 papers so far.\nProcessed 94543 papers so far.\nProcessed 94544 papers so far.\nProcessed 94545 papers so far.\nProcessed 94546 papers so far.\nProcessed 94547 papers so far.\nProcessed 94548 papers so far.\nProcessed 94549 papers so far.\nProcessed 94550 papers so far.\nProcessed 94551 papers so far.\nProcessed 94552 papers so far.\nProcessed 94553 papers so far.\nProcessed 94554 papers so far.\nProcessed 94555 papers so far.\nProcessed 94556 papers so far.\nProcessed 94557 papers so far.\nProcessed 94558 papers so far.\nProcessed 94559 papers so far.\nProcessed 94560 papers so far.\nProcessed 94561 papers so far.\nProcessed 94562 papers so far.\nProcessed 94563 papers so far.\nProcessed 94564 papers so far.\nProcessed 94565 papers so far.\nProcessed 94566 papers so far.\nProcessed 94567 papers so far.\nProcessed 94568 papers so far.\nProcessed 94569 papers so far.\nProcessed 94570 papers so far.\nProcessed 94571 papers so far.\nProcessed 94572 papers so far.\nProcessed 94573 papers so far.\nProcessed 94574 papers so far.\nProcessed 94575 papers so far.\nProcessed 94576 papers so far.\nProcessed 94577 papers so far.\nProcessed 94578 papers so far.\nProcessed 94579 papers so far.\nProcessed 94580 papers so far.\nProcessed 94581 papers so far.\nProcessed 94582 papers so far.\nProcessed 94583 papers so far.\nProcessed 94584 papers so far.\nProcessed 94585 papers so far.\nProcessed 94586 papers so far.\nProcessed 94587 papers so far.\nProcessed 94588 papers so far.\nProcessed 94589 papers so far.\nProcessed 94590 papers so far.\nProcessed 94591 papers so far.\nProcessed 94592 papers so far.\nProcessed 94593 papers so far.\nProcessed 94594 papers so far.\nProcessed 94595 papers so far.\nProcessed 94596 papers so far.\nProcessed 94597 papers so far.\nProcessed 94598 papers so far.\nProcessed 94599 papers so far.\nProcessed 94600 papers so far.\nProcessed 94601 papers so far.\nProcessed 94602 papers so far.\nProcessed 94603 papers so far.\nProcessed 94604 papers so far.\nProcessed 94605 papers so far.\nProcessed 94606 papers so far.\nProcessed 94607 papers so far.\nProcessed 94608 papers so far.\nProcessed 94609 papers so far.\nProcessed 94610 papers so far.\nProcessed 94611 papers so far.\nProcessed 94612 papers so far.\nProcessed 94613 papers so far.\nProcessed 94614 papers so far.\nProcessed 94615 papers so far.\nProcessed 94616 papers so far.\nProcessed 94617 papers so far.\nProcessed 94618 papers so far.\nProcessed 94619 papers so far.\nProcessed 94620 papers so far.\nProcessed 94621 papers so far.\nProcessed 94622 papers so far.\nProcessed 94623 papers so far.\nProcessed 94624 papers so far.\nProcessed 94625 papers so far.\nProcessed 94626 papers so far.\nProcessed 94627 papers so far.\nProcessed 94628 papers so far.\nProcessed 94629 papers so far.\nProcessed 94630 papers so far.\nProcessed 94631 papers so far.\nProcessed 94632 papers so far.\nProcessed 94633 papers so far.\nProcessed 94634 papers so far.\nProcessed 94635 papers so far.\nAuto-saved progress to /Users/jiazhengli/Desktop/project_root/trials_pmid_papers.parquet\n"
    }
   ],
   "source": [
    "file_path = \"/Users/jiazhengli/Desktop/project_root/trials_pmid_papers.parquet\"\n",
    "\n",
    "process_and_save_pubmed_details(df, file_path, start_idx=0, save_interval=5000)"
   ]
  },
  {
   "cell_type": "code",
   "execution_count": 44,
   "metadata": {
    "tags": []
   },
   "outputs": [
    {
     "output_type": "stream",
     "name": "stdout",
     "text": "Number of rows that have a non-empty pmid_list: 136928\nTotal number of PubMed IDs: 708181\n"
    }
   ],
   "source": [
    "# Convert numpy arrays to lists\n",
    "df['pmid_list'] = df['pmid_list'].apply(lambda x: x.tolist() if isinstance(x, np.ndarray) else x)\n",
    "\n",
    "# Count rows where pmid_list is a non-empty list\n",
    "num_rows_with_pmid_list = df['pmid_list'].apply(lambda x: isinstance(x, list) and len(x) > 0).sum()\n",
    "\n",
    "# Count total number of individual PubMed IDs across all rows\n",
    "num_total_pmids = df['pmid_list'].apply(lambda x: len(x) if isinstance(x, list) else 0).sum()\n",
    "\n",
    "print(f\"Number of rows that have a non-empty pmid_list: {num_rows_with_pmid_list}\")\n",
    "print(f\"Total number of PubMed IDs: {num_total_pmids}\")\n"
   ]
  },
  {
   "cell_type": "code",
   "execution_count": 46,
   "metadata": {
    "tags": []
   },
   "outputs": [
    {
     "output_type": "stream",
     "name": "stdout",
     "text": "pmid_list with 0 PMIDs: 262471\npmid_list with 1 PMIDs: 59953\npmid_list with 2 PMIDs: 18397\npmid_list with 3 PMIDs: 11789\npmid_list with 4 PMIDs: 7882\npmid_list with 5 PMIDs: 6135\npmid_list with 6 PMIDs: 4423\npmid_list with 7 PMIDs: 3522\npmid_list with 8 PMIDs: 2831\npmid_list with 9 PMIDs: 2382\npmid_list with 10 PMIDs: 2171\npmid_list with 11 PMIDs: 1798\npmid_list with 12 PMIDs: 1592\npmid_list with 13 PMIDs: 1325\npmid_list with 14 PMIDs: 1251\npmid_list with 15 PMIDs: 1025\npmid_list with 16 PMIDs: 918\npmid_list with 17 PMIDs: 804\npmid_list with 18 PMIDs: 714\npmid_list with 19 PMIDs: 661\npmid_list with 20 PMIDs: 608\npmid_list with 21 PMIDs: 550\npmid_list with 22 PMIDs: 423\npmid_list with 23 PMIDs: 451\npmid_list with 24 PMIDs: 426\npmid_list with 25 PMIDs: 378\npmid_list with 26 PMIDs: 355\npmid_list with 27 PMIDs: 301\npmid_list with 28 PMIDs: 290\npmid_list with 29 PMIDs: 227\npmid_list with 30 PMIDs: 237\npmid_list with 31 PMIDs: 207\npmid_list with 32 PMIDs: 205\npmid_list with 33 PMIDs: 198\npmid_list with 34 PMIDs: 144\npmid_list with 35 PMIDs: 164\npmid_list with 36 PMIDs: 146\npmid_list with 37 PMIDs: 125\npmid_list with 38 PMIDs: 126\npmid_list with 39 PMIDs: 121\npmid_list with 40 PMIDs: 107\npmid_list with 41 PMIDs: 77\npmid_list with 42 PMIDs: 80\npmid_list with 43 PMIDs: 66\npmid_list with 44 PMIDs: 58\npmid_list with 45 PMIDs: 72\npmid_list with 46 PMIDs: 66\npmid_list with 47 PMIDs: 68\npmid_list with 48 PMIDs: 60\npmid_list with 49 PMIDs: 35\npmid_list with 50 PMIDs: 43\npmid_list with 51 PMIDs: 43\npmid_list with 52 PMIDs: 43\npmid_list with 53 PMIDs: 54\npmid_list with 54 PMIDs: 33\npmid_list with 55 PMIDs: 32\npmid_list with 56 PMIDs: 47\npmid_list with 57 PMIDs: 38\npmid_list with 58 PMIDs: 37\npmid_list with 59 PMIDs: 25\npmid_list with 60 PMIDs: 27\npmid_list with 61 PMIDs: 17\npmid_list with 62 PMIDs: 27\npmid_list with 63 PMIDs: 26\npmid_list with 64 PMIDs: 18\npmid_list with 65 PMIDs: 18\npmid_list with 66 PMIDs: 20\npmid_list with 67 PMIDs: 24\npmid_list with 68 PMIDs: 22\npmid_list with 69 PMIDs: 23\npmid_list with 70 PMIDs: 15\npmid_list with 71 PMIDs: 15\npmid_list with 72 PMIDs: 10\npmid_list with 73 PMIDs: 13\npmid_list with 74 PMIDs: 13\npmid_list with 75 PMIDs: 11\npmid_list with 76 PMIDs: 12\npmid_list with 77 PMIDs: 8\npmid_list with 78 PMIDs: 11\npmid_list with 79 PMIDs: 10\npmid_list with 80 PMIDs: 10\npmid_list with 81 PMIDs: 6\npmid_list with 82 PMIDs: 8\npmid_list with 83 PMIDs: 7\npmid_list with 84 PMIDs: 10\npmid_list with 85 PMIDs: 7\npmid_list with 86 PMIDs: 7\npmid_list with 87 PMIDs: 3\npmid_list with 88 PMIDs: 8\npmid_list with 89 PMIDs: 7\npmid_list with 90 PMIDs: 6\npmid_list with 91 PMIDs: 3\npmid_list with 92 PMIDs: 3\npmid_list with 93 PMIDs: 5\npmid_list with 94 PMIDs: 4\npmid_list with 95 PMIDs: 7\npmid_list with 96 PMIDs: 2\npmid_list with 97 PMIDs: 2\npmid_list with 98 PMIDs: 3\npmid_list with 99 PMIDs: 4\npmid_list with 100 PMIDs: 6\npmid_list with 101 PMIDs: 5\npmid_list with 102 PMIDs: 3\npmid_list with 103 PMIDs: 4\npmid_list with 104 PMIDs: 4\npmid_list with 105 PMIDs: 1\npmid_list with 106 PMIDs: 2\npmid_list with 107 PMIDs: 3\npmid_list with 108 PMIDs: 7\npmid_list with 109 PMIDs: 2\npmid_list with 110 PMIDs: 5\npmid_list with 111 PMIDs: 6\npmid_list with 112 PMIDs: 7\npmid_list with 113 PMIDs: 2\npmid_list with 114 PMIDs: 3\npmid_list with 115 PMIDs: 2\npmid_list with 117 PMIDs: 3\npmid_list with 118 PMIDs: 4\npmid_list with 119 PMIDs: 2\npmid_list with 120 PMIDs: 2\npmid_list with 121 PMIDs: 1\npmid_list with 122 PMIDs: 1\npmid_list with 123 PMIDs: 1\npmid_list with 125 PMIDs: 1\npmid_list with 126 PMIDs: 2\npmid_list with 128 PMIDs: 2\npmid_list with 129 PMIDs: 5\npmid_list with 130 PMIDs: 2\npmid_list with 131 PMIDs: 4\npmid_list with 134 PMIDs: 3\npmid_list with 135 PMIDs: 1\npmid_list with 136 PMIDs: 1\npmid_list with 137 PMIDs: 1\npmid_list with 138 PMIDs: 1\npmid_list with 140 PMIDs: 2\npmid_list with 141 PMIDs: 1\npmid_list with 142 PMIDs: 1\npmid_list with 143 PMIDs: 1\npmid_list with 144 PMIDs: 1\npmid_list with 148 PMIDs: 1\npmid_list with 149 PMIDs: 1\npmid_list with 150 PMIDs: 1\npmid_list with 151 PMIDs: 2\npmid_list with 154 PMIDs: 1\npmid_list with 156 PMIDs: 2\npmid_list with 158 PMIDs: 2\npmid_list with 160 PMIDs: 2\npmid_list with 161 PMIDs: 2\npmid_list with 163 PMIDs: 2\npmid_list with 164 PMIDs: 1\npmid_list with 165 PMIDs: 2\npmid_list with 167 PMIDs: 2\npmid_list with 168 PMIDs: 1\npmid_list with 171 PMIDs: 1\npmid_list with 181 PMIDs: 1\npmid_list with 187 PMIDs: 1\npmid_list with 203 PMIDs: 1\npmid_list with 204 PMIDs: 1\npmid_list with 224 PMIDs: 1\npmid_list with 226 PMIDs: 1\npmid_list with 227 PMIDs: 1\npmid_list with 245 PMIDs: 1\npmid_list with 282 PMIDs: 1\n"
    }
   ],
   "source": [
    "# Count occurrences of different pmid_list lengths\n",
    "pmid_length_counts = df['pmid_list'].apply(lambda x: len(x) if isinstance(x, list) else 0).value_counts().sort_index()\n",
    "\n",
    "# Print the counts\n",
    "for length, count in pmid_length_counts.items():\n",
    "    print(f\"pmid_list with {length} PMIDs: {count}\")\n"
   ]
  },
  {
   "cell_type": "code",
   "execution_count": null,
   "metadata": {},
   "outputs": [],
   "source": []
  }
 ],
 "metadata": {
  "kernelspec": {
   "display_name": "Python 3.9.7 64-bit",
   "language": "python",
   "name": "python_defaultSpec_1738596900767"
  },
  "language_info": {
   "codemirror_mode": {
    "name": "ipython",
    "version": 3
   },
   "file_extension": ".py",
   "mimetype": "text/x-python",
   "name": "python",
   "nbconvert_exporter": "python",
   "pygments_lexer": "ipython3",
   "version": "3.9.7-final"
  }
 },
 "nbformat": 4,
 "nbformat_minor": 2
}